{
 "cells": [
  {
   "cell_type": "markdown",
   "metadata": {
    "collapsed": false
   },
   "source": [
    "递归式特征消除Recursive feature elimination(RFE)\n",
    "\n",
    "\n",
    "给定一个为特征(如线性模型的系数)分配权重的外部估计量，递归特征消除([RFE](https://scikit-learn.org/stable/modules/generated/sklearn.feature_selection.RFE.html#sklearn.feature_selection.RFE))就是通过递归地考虑越来越小的特征集来选择特征。首先，对初始特征集训练估计器，通过coef_属性或feature_importances_属性获得每个特征的重要性。然后，从当前的特征集中删除最不重要的特征。在经过修剪的集合上递归地重复这个过程，直到最终达到所需的特征数量。\n",
    "说简单点，递归式特征消除的主要思路是反复建立多种模型，每一次根据系数的不挑出差的特征，并去除挑出来的特征，然后在剩余的特征上重复该过程，直到遍历了所有的特征。所以递归式特征消除效果如果很看选用的模型。\n",
    "\n"
   ]
  },
  {
   "cell_type": "code",
   "execution_count": 1,
   "metadata": {
    "collapsed": false
   },
   "outputs": [],
   "source": [
    "# 多行输出\r\n",
    "from IPython.core.interactiveshell import InteractiveShell\r\n",
    "InteractiveShell.ast_node_interactivity = \"all\""
   ]
  },
  {
   "cell_type": "markdown",
   "metadata": {
    "collapsed": false
   },
   "source": [
    "# 1  基本使用介绍"
   ]
  },
  {
   "cell_type": "markdown",
   "metadata": {
    "collapsed": false
   },
   "source": [
    "对于RFE函数，主要参数如下：\n",
    "+ estimator：一种监督学习估计器，其fit方法通过coef_ 属性或feature_importances_属性提供有关要素重要性的信息\n",
    "+ n_features_to_select：要保留的特征数量，默认保留一半\n",
    "+ step：为整数时表示每次要删除的特征数量；小于1时表示每次去除权重最小的特征，默认为1\n",
    "\n",
    "以下示例说明了，如何通过RFE函数挑选5个最佳特征"
   ]
  },
  {
   "cell_type": "code",
   "execution_count": 2,
   "metadata": {
    "collapsed": false
   },
   "outputs": [
    {
     "name": "stdout",
     "output_type": "stream",
     "text": [
      "[ True  True  True  True  True False False False False False]\n",
      "[1 1 1 1 1 6 4 3 2 5]\n",
      "5\n"
     ]
    }
   ],
   "source": [
    "from sklearn.datasets import make_friedman1\r\n",
    "from sklearn.feature_selection import RFE\r\n",
    "from sklearn.svm import SVR\r\n",
    "X, y = make_friedman1(n_samples=50, n_features=10, random_state=0)\r\n",
    "estimator = SVR(kernel=\"linear\")\r\n",
    "selector = RFE(estimator, n_features_to_select=5, step=1)\r\n",
    "selector = selector.fit(X, y)\r\n",
    "\r\n",
    "# 哪些特征入选最后特征，true表示入选\r\n",
    "print(selector.support_)\r\n",
    "\r\n",
    "# 每个特征的得分排名，特征得分越低（1最好），表示特征越好\r\n",
    "print(selector.ranking_)\r\n",
    "\r\n",
    "#  挑选了几个特征\r\n",
    "print(selector.n_features_)\r\n",
    "\r\n"
   ]
  },
  {
   "cell_type": "markdown",
   "metadata": {
    "collapsed": false
   },
   "source": [
    "sklearn中[RFECV](https://scikit-learn.org/stable/modules/generated/sklearn.feature_selection.RFECV.html#sklearn.feature_selection.RFECV)函数在交叉验证循环中执行RFE，以找到最佳数量的特征。RFE的稳定性很大程度上取决于迭代时用的哪种模型。RFECV 通过交叉验证的方式来执行RFE。\n",
    "RFE需要一个指定数量的特性来保留，但是通常事先不知道有多少特性是有效的。为了寻找最佳特征数，采用RFE对不同特征子集进行交叉验证，并选择出最优的特征评分集合，但是如果删除特征会导致性能损失就不删除特征。这就是RFECV的原理。"
   ]
  },
  {
   "cell_type": "markdown",
   "metadata": {
    "collapsed": false
   },
   "source": [
    "对于RFECV函数，主要参数如下：\r\n",
    "+ estimator：一种监督学习估计器，其fit方法通过coef_ 属性或feature_importances_属性提供有关要素重要性的信息\r\n",
    "+ step：为整数时表示每次要删除的特征数量；小于1时表示每次去除权重最小的特征，默认为1\r\n",
    "+ min_features_to_select：保留的最少的特征数（但是如果模型有特征数量限制，如随机森林设置了最大特征数，该变量需要大于等于随机森林设定的最大特征数），默认为1。\r\n",
    "+ cv：指定交叉验证的折数，默认为5\r\n",
    "\r\n",
    "以下示例说明了，如何通过RFECV挑选特征。如果减少特征会造成性能损失，那么将不会去除任何特征"
   ]
  },
  {
   "cell_type": "code",
   "execution_count": 3,
   "metadata": {
    "collapsed": false
   },
   "outputs": [
    {
     "name": "stdout",
     "output_type": "stream",
     "text": [
      "[ True  True  True  True  True False False False False False]\n",
      "[1 1 1 1 1 6 4 3 2 5]\n",
      "5\n",
      "[0.2119209  0.34014969 0.32498071 0.39840786 0.44286114 0.42111785\n",
      " 0.38499244 0.393591   0.39398469 0.38667796]\n"
     ]
    }
   ],
   "source": [
    "from sklearn.datasets import make_friedman1\r\n",
    "from sklearn.feature_selection import RFECV\r\n",
    "from sklearn.svm import SVR\r\n",
    "\r\n",
    "# 生成样本\r\n",
    "# X维度(50，20)，Y维度(50,1)\r\n",
    "X, y = make_friedman1(n_samples=50, n_features=10, random_state=0)\r\n",
    "\r\n",
    "estimator = SVR(kernel=\"linear\")\r\n",
    "\r\n",
    "# 5折交叉\r\n",
    "selector = RFECV(estimator, step=1, cv=5)\r\n",
    "selector = selector.fit(X, y)\r\n",
    "\r\n",
    "# 哪些特征入选最后特征，true表示入选\r\n",
    "print(selector.support_)\r\n",
    "\r\n",
    "# 每个特征的得分排名，特征得分越低（1最好），表示特征越好\r\n",
    "print(selector.ranking_)\r\n",
    "\r\n",
    "#  挑选了几个特征\r\n",
    "print(selector.n_features_)\r\n",
    "# 每次交叉迭代各个特征得分\r\n",
    "print(selector.grid_scores_)\r\n"
   ]
  },
  {
   "cell_type": "markdown",
   "metadata": {
    "collapsed": false
   },
   "source": [
    "\n",
    "详细来说K折交叉验证，就是将数据集等比例划分成K份，以其中的一份作为测试数据，其他的K-1份数据作为训练数据。交叉验证实际是把实验重复做了K次，每次实验都是从K个部分选取一份不同的数据部分作为测试数据（保证K个部分的数据都分别做过测试数据），剩下的K-1个当作训练数据，最后把得到的K个实验结果进行平分。然是RFECV不是这样的，RFEC由RFE和CV(Cross-validation)组成，\n",
    "RFECV源代码如下，在每次实验针对部分特征进行RFE计算。我们在所有CV上保留每个功能得分的平均值。然后，我们使用平均得分计算要删除的要素数量，然后使用整个数据集删除该数量的要素，这就是源代码所表达的意思。\n",
    "举个例子如果有a，b，c三个特征，交叉认证每次提取部分特征，比如第一次提取特征(a,b)与y建模，计算在测试集的得分。第二次提取特征(a,c)进行建模，第三次对（a,b,c）进行建模。如5折交叉验证会得到5个分数数组，会对5个分数数组进行对应元素求和，得到各个特征数量下的总分，求出最高总分，以及多少特征才能达到最高分，那么就可以求得应该删多少特征，然后针对整个数据进行RFE。\n",
    "\n",
    "```\n",
    "# 提取X,y\n",
    "X, y = check_X_y(X, y, \"csr\", ensure_min_features=2)\n",
    "\n",
    "# Initialization\n",
    "# k折交叉\n",
    "cv = check_cv(self.cv, y, is_classifier(self.estimator))\n",
    "scorer = check_scoring(self.estimator, scoring=self.scoring)\n",
    "n_features = X.shape[1]\n",
    "\n",
    "if 0.0 < self.step < 1.0:\n",
    "    step = int(max(1, self.step * n_features))\n",
    "else:\n",
    "    step = int(self.step)\n",
    "if step <= 0:\n",
    "    raise ValueError(\"Step must be >0\")\n",
    "\n",
    "# Build an RFE object, which will evaluate and score each possible\n",
    "# feature count, down to self.min_features_to_select\n",
    "rfe = RFE(estimator=self.estimator,\n",
    "          n_features_to_select=self.min_features_to_select,\n",
    "          step=self.step, verbose=self.verbose)\n",
    "\n",
    "# Determine the number of subsets of features by fitting across\n",
    "# the train folds and choosing the \"features_to_select\" parameter\n",
    "# that gives the least averaged error across all folds.\n",
    "\n",
    "# Note that joblib raises a non-picklable error for bound methods\n",
    "# even if n_jobs is set to 1 with the default multiprocessing\n",
    "# backend.\n",
    "# This branching is done so that to\n",
    "# make sure that user code that sets n_jobs to 1\n",
    "# and provides bound methods as scorers is not broken with the\n",
    "# addition of n_jobs parameter in version 0.18.\n",
    "\n",
    "if effective_n_jobs(self.n_jobs) == 1:\n",
    "    parallel, func = list, _rfe_single_fit\n",
    "else:\n",
    "    parallel = Parallel(n_jobs=self.n_jobs)\n",
    "    func = delayed(_rfe_single_fit)\n",
    "\n",
    "# k折交叉认证\n",
    "scores = parallel(\n",
    "    func(rfe, self.estimator, X, y, train, test, scorer)\n",
    "    for train, test in cv.split(X, y, groups))\n",
    "\n",
    "# 计算各个交叉认证下各个元素的分数之和\n",
    "scores = np.sum(scores, axis=0)\n",
    "scores_rev = scores[::-1]\n",
    "# 判断第几次交叉认证取得评分最大值\n",
    "argmax_idx = len(scores) - np.argmax(scores_rev) - 1\n",
    "# 根据设定参数step，到argmax_idx每次减少step个元素，这样能求出保留几个袁术\n",
    "n_features_to_select = max(\n",
    "    n_features - (argmax_idx * step),\n",
    "    self.min_features_to_select)\n",
    "\n",
    "# Re-execute an elimination with best_k over the whole set\n",
    "rfe = RFE(estimator=self.estimator,\n",
    "          n_features_to_select=n_features_to_select, step=self.step,\n",
    "          verbose=self.verbose)\n",
    "\n",
    "rfe.fit(X, y)\n",
    "```"
   ]
  },
  {
   "cell_type": "markdown",
   "metadata": {
    "collapsed": false
   },
   "source": [
    "# 2 应用实例"
   ]
  },
  {
   "cell_type": "markdown",
   "metadata": {
    "collapsed": false
   },
   "source": [
    "下面的实例为一个递归特征消除RFE函数示例，显示了数字分类任务中像素的重要性。"
   ]
  },
  {
   "cell_type": "code",
   "execution_count": 4,
   "metadata": {
    "collapsed": false
   },
   "outputs": [
    {
     "name": "stdout",
     "output_type": "stream",
     "text": [
      "训练图像集的维度 (1797, 64)\n",
      "图像各个像素点的重要性排名： [64 50 31 23 10 17 34 51 57 37 30 43 14 32 44 52 54 41 19 15 28  8 39 53\n",
      " 55 45  9 18 20 38  1 59 63 42 25 35 29 16  2 62 61 40  5 11 13  6  4 58\n",
      " 56 47 26 36 24  3 22 48 60 49  7 27 33 21 12 46]\n"
     ]
    }
   ],
   "source": [
    "from sklearn.svm import SVC\r\n",
    "from sklearn.datasets import load_digits\r\n",
    "from sklearn.feature_selection import RFE\r\n",
    "import matplotlib.pyplot as plt\r\n",
    "\r\n",
    "# Load the digits dataset\r\n",
    "# 读取数据集\r\n",
    "digits = load_digits()\r\n",
    "X = digits.images.reshape((len(digits.images), -1))\r\n",
    "y = digits.target\r\n",
    "print(\"训练图像集的维度\",X.shape)\r\n",
    "\r\n",
    "# Create the RFE object and rank each pixel\r\n",
    "svc = SVC(kernel=\"linear\", C=1)\r\n",
    "# n_features_to_select=1表示每次都删除一个特征。比如X的图像为8*8的尺寸。共64个像素，对64个像素都进行排名\r\n",
    "rfe = RFE(estimator=svc, n_features_to_select=1, step=1)\r\n",
    "rfe.fit(X, y)\r\n",
    "print(\"图像各个像素点的重要性排名：\",rfe.ranking_)\r\n",
    "# 大小重置\r\n",
    "ranking = rfe.ranking_.reshape(digits.images[0].shape)\r\n",
    "\r\n",
    "\r\n",
    "# Plot pixel ranking\r\n",
    "# 颜色越浅表明该像素点对于手写数字图像分类越重要\r\n",
    "plt.matshow(ranking, cmap=plt.cm.Blues)\r\n",
    "plt.colorbar()\r\n",
    "plt.title(\"Ranking of pixels with RFE\");"
   ]
  },
  {
   "cell_type": "markdown",
   "metadata": {
    "collapsed": false
   },
   "source": [
    "下面为一个递归特征消除示例，该示例通过交叉验证自动调整所选特征的数量。最好画出选用各个特征数量下，分类集的交叉认证分数。可以看到RFECV能够自动选择适合分类的有效特征数\n",
    "\n"
   ]
  },
  {
   "cell_type": "code",
   "execution_count": 5,
   "metadata": {
    "collapsed": false
   },
   "outputs": [
    {
     "name": "stdout",
     "output_type": "stream",
     "text": [
      "X维度 (1000, 25)\n",
      "y维度 (1000,)\n",
      "RFEC挑选了几个特征 : 3\n"
     ]
    },
    {
     "data": {
      "image/png": "[encoded data removed]",
      "text/plain": [
       "<Figure size 432x288 with 1 Axes>"
      ]
     },
     "metadata": {},
     "output_type": "display_data"
    }
   ],
   "source": [
    "import matplotlib.pyplot as plt\r\n",
    "from sklearn.svm import SVC\r\n",
    "from sklearn.model_selection import StratifiedKFold\r\n",
    "from sklearn.feature_selection import RFECV\r\n",
    "from sklearn.datasets import make_classification\r\n",
    "\r\n",
    "# Build a classification task using 3 informative features\r\n",
    "# 建立特征，X有25个特征，其中有效特征3个。\r\n",
    "X, y = make_classification(n_samples=1000, n_features=25, n_informative=3,\r\n",
    "                           n_redundant=2, n_repeated=0, n_classes=8,\r\n",
    "                           n_clusters_per_class=1, random_state=0)\r\n",
    "print(\"X维度\", X.shape)\r\n",
    "print(\"y维度\",y.shape)\r\n",
    "\r\n",
    "\r\n",
    "# Create the RFE object and compute a cross-validated score.\r\n",
    "# 创建分类器\r\n",
    "svc = SVC(kernel=\"linear\")\r\n",
    "# The \"accuracy\" scoring is proportional to the number of correct\r\n",
    "# classifications\r\n",
    "# 分类\r\n",
    "rfecv = RFECV(estimator=svc, step=1, cv=StratifiedKFold(2),\r\n",
    "              scoring='accuracy')\r\n",
    "rfecv.fit(X, y)\r\n",
    "\r\n",
    "print(\"RFEC挑选了几个特征 : %d\" % rfecv.n_features_)\r\n",
    "\r\n",
    "# Plot number of features VS. cross-validation scores\r\n",
    "# 画出不同特征数量下交叉认证验证得分\r\n",
    "plt.figure()\r\n",
    "#  选择的特征数量\r\n",
    "plt.xlabel(\"Number of features selected\")\r\n",
    "# 交叉验证得分\r\n",
    "plt.ylabel(\"Cross validation score (nb of correct classifications)\")\r\n",
    "# 画出各个特征的得分\r\n",
    "plt.plot(range(1, len(rfecv.grid_scores_) + 1), rfecv.grid_scores_)\r\n",
    "plt.show();"
   ]
  },
  {
   "cell_type": "markdown",
   "metadata": {
    "collapsed": false
   },
   "source": [
    "# 3 参考\n",
    "\n",
    "> [https://scikit-learn.org/stable/modules/generated/sklearn.feature_selection.RFE.html#sklearn.feature_selection.RFE](https://scikit-learn.org/stable/modules/generated/sklearn.feature_selection.RFE.html#sklearn.feature_selection.RFE)\n",
    "\n",
    "> [https://scikit-learn.org/stable/modules/generated/sklearn.feature_selection.RFECV.html#sklearn.feature_selection.RFECV](https://scikit-learn.org/stable/modules/generated/sklearn.feature_selection.RFECV.html#sklearn.feature_selection.RFECV)\n",
    "\n",
    "> [http://www.minxueyu.com/2020/03/29/RFE%E4%B8%8ERFECV%E5%AD%A6%E4%B9%A0%E7%AC%94%E8%AE%B0/](http://www.minxueyu.com/2020/03/29/RFE%E4%B8%8ERFECV%E5%AD%A6%E4%B9%A0%E7%AC%94%E8%AE%B0/)\n",
    "\n",
    "> [https://blog.csdn.net/sunshunli/article/details/82355395](https://blog.csdn.net/sunshunli/article/details/82355395)\n",
    "\n",
    "> [https://stackoverflow.com/questions/34703051/score-of-rfecv-in-python-scikit-learn](https://stackoverflow.com/questions/34703051/score-of-rfecv-in-python-scikit-learn)\n",
    "\n",
    "> [https://blog.csdn.net/teng_zz/article/details/98027712](https://blog.csdn.net/teng_zz/article/details/98027712)"
   ]
  }
 ],
 "metadata": {
  "kernelspec": {
   "display_name": "PaddlePaddle 1.8.0 (Python 3.5)",
   "language": "python",
   "name": "py35-paddle1.2.0"
  },
  "language_info": {
   "codemirror_mode": {
    "name": "ipython",
    "version": 3
   },
   "file_extension": ".py",
   "mimetype": "text/x-python",
   "name": "python",
   "nbconvert_exporter": "python",
   "pygments_lexer": "ipython3",
   "version": "3.7.4"
  }
 },
 "nbformat": 4,
 "nbformat_minor": 1
}
