{
 "cells": [
  {
   "cell_type": "markdown",
   "metadata": {
    "collapsed": false
   },
   "source": [
    "SelectFromModel 是一个基础分类器，其根据重要性权重选择特征。可与拟合后具有coef_或feature_importances_属性的任何估计器一起使用。如果相应的coef_或feature_importances_值低于提供的threshold参数，则这些特征可以认为不重要或者删除。除了指定数值阈值参数，还可以使用字符串参数查找阈值，参数包括：“mean”, “median” 以及这两个参数的浮点数乘积，例如“0.1*mean”。与threshold标准结合使用时，可以通过max_features参数限制选择的特征数量。"
   ]
  },
  {
   "cell_type": "code",
   "execution_count": 1,
   "metadata": {
    "collapsed": false
   },
   "outputs": [],
   "source": [
    "# 多行输出\r\n",
    "from IPython.core.interactiveshell import InteractiveShell\r\n",
    "InteractiveShell.ast_node_interactivity = \"all\"\r\n",
    "import warnings\r\n",
    "warnings.filterwarnings(\"ignore\")"
   ]
  },
  {
   "cell_type": "markdown",
   "metadata": {
    "collapsed": false
   },
   "source": [
    "# 1 SelectFromModel基础使用\n",
    "\n",
    "主要参数说明如下：\n",
    "+ threshold：用于特征选择的阈值。保留重要性更高或相等的特征，而其特征则被丢弃。threshold为特征重要性的mean或者median，如果为None，并且估计器的参数惩罚显式或隐式设置为l1（例如Lasso），则使用的阈值为1e-5。否则，默认情况下使用mean。\n",
    "+ prefit：预设模型是否期望直接传递给构造函数。\n",
    "+ norm_order：在估算器threshold的coef_属性为维度2 的情况下，用于过滤以下系数矢量的范数的顺序\n",
    "+ max_features：要选择的最大特征数"
   ]
  },
  {
   "cell_type": "markdown",
   "metadata": {
    "collapsed": false
   },
   "source": [
    "基础使用方法如下："
   ]
  },
  {
   "cell_type": "code",
   "execution_count": 2,
   "metadata": {
    "collapsed": false
   },
   "outputs": [
    {
     "name": "stdout",
     "output_type": "stream",
     "text": [
      "estimator的模型参数 [[-0.32857694  0.83411609  0.46668853]]\n",
      "用于特征选择的阈值； 0.5431271870420733\n",
      "特征是否保留 [False  True False]\n",
      "特征提取结果 [[-1.34]\n",
      " [-0.02]\n",
      " [-0.48]\n",
      " [ 1.48]]\n"
     ]
    }
   ],
   "source": [
    "from sklearn.feature_selection import SelectFromModel\r\n",
    "from sklearn.linear_model import LogisticRegression\r\n",
    "X = [[ 0.87, -1.34,  0.31 ],\r\n",
    "     [-2.79, -0.02, -0.85 ],\r\n",
    "     [-1.34, -0.48, -2.55 ],\r\n",
    "     [ 1.92,  1.48,  0.65 ]]\r\n",
    "y = [0, 1, 0, 1]\r\n",
    "# 建立评估器\r\n",
    "selector = SelectFromModel(estimator=LogisticRegression()).fit(X, y)\r\n",
    "# estimator的模型参数\r\n",
    "print(\"estimator的模型参数\",selector.estimator_.coef_)\r\n",
    "\r\n",
    "# 根据estimator中特征重要性均值获得阈值\r\n",
    "print(\"用于特征选择的阈值；\",selector.threshold_)\r\n",
    "\r\n",
    "# 哪些特征入选最后特征，true表示入选\r\n",
    "print(\"特征是否保留\",selector.get_support())\r\n",
    "# 获得最后结果\r\n",
    "print(\"特征提取结果\",selector.transform(X));\r\n"
   ]
  },
  {
   "cell_type": "markdown",
   "metadata": {
    "collapsed": false
   },
   "source": [
    "**下面演示从糖尿病数据集中选择两个最重要的特征，而无需事先知道阈值。**\n",
    "\n",
    "使用SelectFromModel和Lasso回归模型可以从糖尿病数据集中选择最佳的特征。由于L1规范促进了特征的稀疏性，我们可能只对从数据集中选择最有趣特征的子集感兴趣。本示例说明如何从糖尿病数据集中选择两个最有趣的特征。\n",
    "\n",
    "糖尿病数据集由从442名糖尿病患者中收集的10个变量（特征）组成。此示例显示了如何使用SelectFromModel和LassoCv查找预测从基线开始一年后疾病进展的最佳两个特征。\n",
    "\n"
   ]
  },
  {
   "cell_type": "code",
   "execution_count": 3,
   "metadata": {
    "collapsed": false
   },
   "outputs": [],
   "source": [
    "import matplotlib.pyplot as plt\r\n",
    "import numpy as np\r\n",
    "\r\n",
    "from sklearn.datasets import load_diabetes\r\n",
    "from sklearn.feature_selection import SelectFromModel\r\n",
    "from sklearn.linear_model import LassoCV"
   ]
  },
  {
   "cell_type": "markdown",
   "metadata": {
    "collapsed": false
   },
   "source": [
    "首先，让我们加载sklearn中可用的糖尿病数据集。然后，我们将看看为糖尿病患者收集了哪些特征："
   ]
  },
  {
   "cell_type": "code",
   "execution_count": 4,
   "metadata": {
    "collapsed": false
   },
   "outputs": [
    {
     "name": "stdout",
     "output_type": "stream",
     "text": [
      "['age', 'sex', 'bmi', 'bp', 's1', 's2', 's3', 's4', 's5', 's6']\n"
     ]
    }
   ],
   "source": [
    "diabetes = load_diabetes()\r\n",
    "\r\n",
    "X = diabetes.data\r\n",
    "y = diabetes.target\r\n",
    "\r\n",
    "feature_names = diabetes.feature_names\r\n",
    "print(feature_names)"
   ]
  },
  {
   "cell_type": "markdown",
   "metadata": {
    "collapsed": false
   },
   "source": [
    "为了确定功能的重要性，我们将使用LassoCV估计器。具有最高绝对值的特征coef_被认为是最重要的。sklearn中coef_说明见：[https://www.jianshu.com/p/6a818b53a37e](https://www.jianshu.com/p/6a818b53a37e)\n",
    "\n"
   ]
  },
  {
   "cell_type": "code",
   "execution_count": 5,
   "metadata": {
    "collapsed": false
   },
   "outputs": [
    {
     "name": "stdout",
     "output_type": "stream",
     "text": [
      "十个特征的重要性： [  0.         226.2375274  526.85738059 314.44026013 196.92164002\n",
      "   1.48742026 151.78054083 106.52846989 530.58541123  64.50588257]\n"
     ]
    }
   ],
   "source": [
    "clf = LassoCV().fit(X, y)\r\n",
    "# 模型参数的绝对值\r\n",
    "importance = np.abs(clf.coef_)\r\n",
    "print(\"十个特征的重要性：\",importance);"
   ]
  },
  {
   "cell_type": "markdown",
   "metadata": {
    "collapsed": false
   },
   "source": [
    "接下来我们可以从具有最高分数的模型特征中过滤特征。现在我们要选择两个最重要特征electFromModel()允许设置阈值。仅保留coef_高于阈值的特征。在这里，我们希望将阈值设置为略高于coef_。LassoCV()根据数据计算出高于第三高特征的高阈值。\n",
    "\n",
    "\n",
    "\n"
   ]
  },
  {
   "cell_type": "code",
   "execution_count": 6,
   "metadata": {
    "collapsed": false
   },
   "outputs": [
    {
     "name": "stdout",
     "output_type": "stream",
     "text": [
      "阈值为 314.4502601292063\n",
      "重要性第三大的特征: ['s5' 'bmi']\n"
     ]
    },
    {
     "data": {
      "text/plain": [
       "SelectFromModel(estimator=LassoCV(alphas=None, copy_X=True, cv='warn', eps=0.001, fit_intercept=True,\n",
       "    max_iter=1000, n_alphas=100, n_jobs=None, normalize=False,\n",
       "    positive=False, precompute='auto', random_state=None,\n",
       "    selection='cyclic', tol=0.0001, verbose=False),\n",
       "        max_features=None, norm_order=1, prefit=False,\n",
       "        threshold=314.4502601292063)"
      ]
     },
     "execution_count": 6,
     "metadata": {},
     "output_type": "execute_result"
    }
   ],
   "source": [
    "# 对重要性进行排名\r\n",
    "idx_third = importance.argsort()[-3]\r\n",
    "threshold = importance[idx_third] + 0.01\r\n",
    "print('阈值为',threshold)\r\n",
    "idx_features = (-importance).argsort()[:2]\r\n",
    "name_features = np.array(feature_names)[idx_features]\r\n",
    "print('重要性第三大的特征: {}'.format(name_features))\r\n",
    "\r\n",
    "sfm = SelectFromModel(clf, threshold=threshold);\r\n",
    "sfm.fit(X, y)\r\n",
    "\r\n",
    "# X_transform为特征提取结果\r\n",
    "X_transform = sfm.transform(X)\r\n",
    "# 提取的特征数\r\n",
    "n_features = sfm.transform(X).shape[1]"
   ]
  },
  {
   "cell_type": "markdown",
   "metadata": {
    "collapsed": false
   },
   "source": [
    "最后，我们将绘制从数据中选择的两个特征。\r\n",
    "\r\n"
   ]
  },
  {
   "cell_type": "code",
   "execution_count": 7,
   "metadata": {
    "collapsed": false
   },
   "outputs": [
    {
     "data": {
      "image/png": "[encoded data removed]",
      "text/plain": [
       "<Figure size 432x288 with 1 Axes>"
      ]
     },
     "metadata": {},
     "output_type": "display_data"
    }
   ],
   "source": [
    "plt.title(\r\n",
    "    \"Features from diabets using SelectFromModel with \"\r\n",
    "    \"threshold %0.3f.\" % sfm.threshold)\r\n",
    "feature1 = X_transform[:, 0]\r\n",
    "feature2 = X_transform[:, 1]\r\n",
    "plt.plot(feature1, feature2, 'r.')\r\n",
    "plt.xlabel(\"First feature: {}\".format(name_features[0]))\r\n",
    "plt.ylabel(\"Second feature: {}\".format(name_features[1]))\r\n",
    "plt.ylim([np.min(feature2), np.max(feature2)])\r\n",
    "plt.show();"
   ]
  },
  {
   "cell_type": "markdown",
   "metadata": {
    "collapsed": false
   },
   "source": [
    "# 2 SelectFromModel中不同的特征选择方法"
   ]
  },
  {
   "cell_type": "markdown",
   "metadata": {
    "collapsed": false
   },
   "source": [
    "## 2.1 基于L1范式进行特征选择\n",
    "用L1范数惩罚的线性模型具有稀疏解：它们的许多估计系数为零。当目标是减少数据的维数以用于另一个分类器时，它们可以与特征一起使用。L1正则化将系数l1范数作为惩罚项添加损失函数上，由于正则项非零，这就迫使那些弱的特征所对应的系数变成0。因此L1正则化往往会使学到的模型很稀疏（系数w经常为0），这个使得L1正则化成为一种常用的征选择方法。特别的用于此目的的稀疏估计量是linear_model.Lasso用于回归，和linear_model.LogisticRegression以及svm.LinearSVC 用于分类。"
   ]
  },
  {
   "cell_type": "markdown",
   "metadata": {
    "collapsed": false
   },
   "source": [
    "简单实例如下："
   ]
  },
  {
   "cell_type": "code",
   "execution_count": 8,
   "metadata": {
    "collapsed": false
   },
   "outputs": [
    {
     "data": {
      "text/plain": [
       "(150, 4)"
      ]
     },
     "execution_count": 8,
     "metadata": {},
     "output_type": "execute_result"
    },
    {
     "data": {
      "text/plain": [
       "(150, 3)"
      ]
     },
     "execution_count": 8,
     "metadata": {},
     "output_type": "execute_result"
    }
   ],
   "source": [
    "from sklearn.svm import LinearSVC\r\n",
    "from sklearn.datasets import load_iris\r\n",
    "from sklearn.feature_selection import SelectFromModel\r\n",
    "X, y = load_iris(return_X_y=True)\r\n",
    "X.shape\r\n",
    "\r\n",
    "lsvc = LinearSVC(C=0.01, penalty=\"l1\", dual=False).fit(X, y)\r\n",
    "model = SelectFromModel(lsvc, prefit=True)\r\n",
    "X_new = model.transform(X)\r\n",
    "X_new.shape\r\n"
   ]
  },
  {
   "cell_type": "markdown",
   "metadata": {
    "collapsed": false
   },
   "source": [
    "对于SVM和logistic回归，参数C控制稀疏性：C越小，选择的特征就越少。使用Lasso，alpha参数越高，选择的特征就越少。\n",
    "\n"
   ]
  },
  {
   "cell_type": "markdown",
   "metadata": {
    "collapsed": false
   },
   "source": [
    "## 2.2 基于树的特征选择\n",
    "基于树的评估器可以被用来计算特征的重要性，然后可以根据特征的重要性去除不相关的特征 (当配合sklearn.feature_selection.SelectFromModel meta-transformer):"
   ]
  },
  {
   "cell_type": "code",
   "execution_count": 9,
   "metadata": {
    "collapsed": false
   },
   "outputs": [
    {
     "data": {
      "text/plain": [
       "(150, 4)"
      ]
     },
     "execution_count": 9,
     "metadata": {},
     "output_type": "execute_result"
    },
    {
     "name": "stdout",
     "output_type": "stream",
     "text": [
      "特征重要性 [0.07293638 0.06131363 0.44503667 0.42071333]\n"
     ]
    },
    {
     "data": {
      "text/plain": [
       "(150, 2)"
      ]
     },
     "execution_count": 9,
     "metadata": {},
     "output_type": "execute_result"
    }
   ],
   "source": [
    "from sklearn.ensemble import ExtraTreesClassifier\r\n",
    "from sklearn.datasets import load_iris\r\n",
    "from sklearn.feature_selection import SelectFromModel\r\n",
    "X, y = load_iris(return_X_y=True)\r\n",
    "X.shape\r\n",
    "\r\n",
    "clf = ExtraTreesClassifier(n_estimators=50)\r\n",
    "clf = clf.fit(X, y)\r\n",
    "print(\"特征重要性\",clf.feature_importances_)  \r\n",
    "\r\n",
    "model = SelectFromModel(clf, prefit=True)\r\n",
    "X_new = model.transform(X)\r\n",
    "# 最后保留的特征数\r\n",
    "X_new.shape     "
   ]
  },
  {
   "cell_type": "markdown",
   "metadata": {
    "collapsed": false
   },
   "source": [
    "以下例子展示了如何使用随机森林来评估人工分类任务中特征的重要性。红色柱状表示特征的重要性及标准差。不出所料，该图表明3个特征是有信息的，而其余特征则没有。"
   ]
  },
  {
   "cell_type": "code",
   "execution_count": 10,
   "metadata": {
    "collapsed": false
   },
   "outputs": [
    {
     "name": "stdout",
     "output_type": "stream",
     "text": [
      "Feature ranking:\n",
      "1. feature 1 (0.295902)\n",
      "2. feature 2 (0.208351)\n",
      "3. feature 0 (0.177632)\n",
      "4. feature 3 (0.047121)\n",
      "5. feature 6 (0.046303)\n",
      "6. feature 8 (0.046013)\n",
      "7. feature 7 (0.045575)\n",
      "8. feature 4 (0.044614)\n",
      "9. feature 9 (0.044577)\n",
      "10. feature 5 (0.043912)\n"
     ]
    },
    {
     "data": {
      "image/png": "[encoded data removed]",
      "text/plain": [
       "<Figure size 432x288 with 1 Axes>"
      ]
     },
     "metadata": {},
     "output_type": "display_data"
    }
   ],
   "source": [
    "import numpy as np\r\n",
    "import matplotlib.pyplot as plt\r\n",
    "\r\n",
    "from sklearn.datasets import make_classification\r\n",
    "from sklearn.ensemble import ExtraTreesClassifier\r\n",
    "\r\n",
    "# Build a classification task using 3 informative features\r\n",
    "# 构造一个数据集，特征数为10，但是有效特征只有三个\r\n",
    "X, y = make_classification(n_samples=1000,\r\n",
    "                           n_features=10,\r\n",
    "                           n_informative=3,\r\n",
    "                           n_redundant=0,\r\n",
    "                           n_repeated=0,\r\n",
    "                           n_classes=2,\r\n",
    "                           random_state=0,\r\n",
    "                           shuffle=False)\r\n",
    "\r\n",
    "# Build a forest and compute the impurity-based feature importances\r\n",
    "# 通过随机森林进行分类，并计算各个特征的重要性\r\n",
    "forest = ExtraTreesClassifier(n_estimators=250,\r\n",
    "                              random_state=0)\r\n",
    "\r\n",
    "forest.fit(X, y)\r\n",
    "# 获得重要性\r\n",
    "importances = forest.feature_importances_\r\n",
    "# 计算标准差\r\n",
    "std = np.std([tree.feature_importances_ for tree in forest.estimators_],\r\n",
    "             axis=0)\r\n",
    "indices = np.argsort(importances)[::-1]\r\n",
    "\r\n",
    "# Print the feature ranking\r\n",
    "# 获得特征排名结果\r\n",
    "print(\"Feature ranking:\")\r\n",
    "\r\n",
    "for f in range(X.shape[1]):\r\n",
    "    print(\"%d. feature %d (%f)\" % (f + 1, indices[f], importances[indices[f]]))\r\n",
    "\r\n",
    "# Plot the impurity-based feature importances of the forest\r\n",
    "# 画出各个特征的重要性\r\n",
    "plt.figure()\r\n",
    "plt.title(\"Feature importances\")\r\n",
    "plt.bar(range(X.shape[1]), importances[indices],\r\n",
    "        color=\"r\", yerr=std[indices], align=\"center\")\r\n",
    "plt.xticks(range(X.shape[1]), indices)\r\n",
    "plt.xlim([-1, X.shape[1]]);"
   ]
  },
  {
   "cell_type": "markdown",
   "metadata": {
    "collapsed": false
   },
   "source": [
    "以下示例显示了在图像分类任务（面部）中使用随机森林评估像素点中特征的重要性。像素的热值越高，表明该点对于人脸分类越重要。\r\n",
    "\r\n"
   ]
  },
  {
   "cell_type": "code",
   "execution_count": 11,
   "metadata": {
    "collapsed": false
   },
   "outputs": [
    {
     "name": "stdout",
     "output_type": "stream",
     "text": [
      "Fitting ExtraTreesClassifier on faces data with 1 cores...\n"
     ]
    },
    {
     "data": {
      "text/plain": [
       "ExtraTreesClassifier(bootstrap=False, class_weight=None, criterion='gini',\n",
       "           max_depth=None, max_features=128, max_leaf_nodes=None,\n",
       "           min_impurity_decrease=0.0, min_impurity_split=None,\n",
       "           min_samples_leaf=1, min_samples_split=2,\n",
       "           min_weight_fraction_leaf=0.0, n_estimators=1000, n_jobs=1,\n",
       "           oob_score=False, random_state=0, verbose=0, warm_start=False)"
      ]
     },
     "execution_count": 11,
     "metadata": {},
     "output_type": "execute_result"
    },
    {
     "name": "stdout",
     "output_type": "stream",
     "text": [
      "done in 1.018s\n"
     ]
    },
    {
     "data": {
      "text/plain": [
       "<matplotlib.image.AxesImage at 0x7feaf2f1f4d0>"
      ]
     },
     "execution_count": 11,
     "metadata": {},
     "output_type": "execute_result"
    },
    {
     "data": {
      "text/plain": [
       "Text(0.5,1.05,'Pixel importances with forests of trees')"
      ]
     },
     "execution_count": 11,
     "metadata": {},
     "output_type": "execute_result"
    },
    {
     "data": {
      "image/png": "[encoded data removed]",
      "text/plain": [
       "<Figure size 288x288 with 1 Axes>"
      ]
     },
     "metadata": {},
     "output_type": "display_data"
    }
   ],
   "source": [
    "from time import time\r\n",
    "import matplotlib.pyplot as plt\r\n",
    "\r\n",
    "from sklearn.datasets import fetch_olivetti_faces\r\n",
    "from sklearn.ensemble import ExtraTreesClassifier\r\n",
    "\r\n",
    "# Number of cores to use to perform parallel fitting of the forest model\r\n",
    "n_jobs = 1\r\n",
    "\r\n",
    "# Load the faces dataset\r\n",
    "data = fetch_olivetti_faces()\r\n",
    "X, y = data.data, data.target\r\n",
    "\r\n",
    "mask = y < 5  # Limit to 5 classes\r\n",
    "X = X[mask]\r\n",
    "y = y[mask]\r\n",
    "\r\n",
    "# Build a forest and compute the pixel importances\r\n",
    "print(\"Fitting ExtraTreesClassifier on faces data with %d cores...\" % n_jobs)\r\n",
    "t0 = time()\r\n",
    "forest = ExtraTreesClassifier(n_estimators=1000,\r\n",
    "                              max_features=128,\r\n",
    "                              n_jobs=n_jobs,\r\n",
    "                              random_state=0)\r\n",
    "\r\n",
    "forest.fit(X, y)\r\n",
    "print(\"done in %0.3fs\" % (time() - t0))\r\n",
    "# 获得各点的重要性\r\n",
    "importances = forest.feature_importances_\r\n",
    "importances = importances.reshape(data.images[0].shape)\r\n",
    "\r\n",
    "# Plot pixel importances\r\n",
    "plt.matshow(importances, cmap=plt.cm.hot)\r\n",
    "plt.title(\"Pixel importances with forests of trees\")\r\n",
    "plt.show()"
   ]
  },
  {
   "cell_type": "markdown",
   "metadata": {
    "collapsed": false
   },
   "source": [
    "# 3 参考\n",
    "> [https://scikit-learn.org/stable/modules/generated/sklearn.feature_selection.SelectFromModel.html#sklearn.feature_selection.SelectFromModel](https://scikit-learn.org/stable/modules/generated/sklearn.feature_selection.SelectFromModel.html#sklearn.feature_selection.SelectFromModelhttps://scikit-learn.org/stable/modules/generated/sklearn.feature_selection.SelectFromModel.html#sklearn.feature_selection.SelectFromModel)\n",
    "\n",
    "> [https://scikit-learn.org/stable/auto_examples/feature_selection/plot_select_from_model_diabetes.html#sphx-glr-auto-examples-feature-selection-plot-select-from-model-diabetes-py](https://scikit-learn.org/stable/auto_examples/feature_selection/plot_select_from_model_diabetes.html#sphx-glr-auto-examples-feature-selection-plot-select-from-model-diabetes-py)\n",
    "\n",
    "> [https://scikit-learn.org/stable/auto_examples/ensemble/plot_forest_importances.html#sphx-glr-auto-examples-ensemble-plot-forest-importances-py](https://scikit-learn.org/stable/auto_examples/ensemble/plot_forest_importances.html#sphx-glr-auto-examples-ensemble-plot-forest-importances-py)\n",
    "\n",
    "> [https://scikit-learn.org/stable/auto_examples/ensemble/plot_forest_importances_faces.html#sphx-glr-auto-examples-ensemble-plot-forest-importances-faces-py](https://scikit-learn.org/stable/auto_examples/ensemble/plot_forest_importances_faces.html#sphx-glr-auto-examples-ensemble-plot-forest-importances-faces-py)"
   ]
  }
 ],
 "metadata": {
  "kernelspec": {
   "display_name": "PaddlePaddle 1.8.0 (Python 3.5)",
   "language": "python",
   "name": "py35-paddle1.2.0"
  },
  "language_info": {
   "codemirror_mode": {
    "name": "ipython",
    "version": 3
   },
   "file_extension": ".py",
   "mimetype": "text/x-python",
   "name": "python",
   "nbconvert_exporter": "python",
   "pygments_lexer": "ipython3",
   "version": "3.7.4"
  }
 },
 "nbformat": 4,
 "nbformat_minor": 1
}
