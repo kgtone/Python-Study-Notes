{
 "cells": [
  {
   "cell_type": "markdown",
   "metadata": {},
   "source": [
    "MovingPandas是一个基于Python和GeoPandas的开源地理时空数据处理库，用于处理移动物体的轨迹数据。它提供了一组强大的工具，可以轻松地加载、分析和可视化移动物体的轨迹。通过使用MovingPandas，用户可以轻松地处理和分析移动对象数据，并从中提取有关行为、模式和趋势的见解。无论是处理交通流量数据、物流轨迹数据还是动物迁徙数据，MovingPandas都是一个强大的地理可视化工具。\n",
    "\n",
    "MovingPandas库具有以下主要特性：\n",
    "\n",
    "+ 轨迹对象：MovingPandas引入了Trajectory对象，用于表示和管理轨迹数据。该对象包含了时间、位置和属性信息，方便对轨迹进行操作和分析。\n",
    "+ 时空切片：MovingPandas支持时空切片操作，可以按照时间和空间条件对轨迹数据进行筛选和分割。\n",
    "+ 轨迹分析：MovingPandas提供了丰富的轨迹分析功能，包括计算轨迹长度、速度、方向、加速度等指标，以及轨迹聚类、交互和相似性分析。\n",
    "+ 轨迹可视化：MovingPandas可以方便地将轨迹数据可视化，支持在地图上绘制轨迹线、点、热力图等，帮助用户更直观地理解移动物体的行为。\n",
    "+ 数据格式兼容：MovingPandas支持多种常见的地理数据格式，包括GeoJSON、Shapefile等，方便用户加载和保存轨迹数据。\n",
    "\n",
    "MovingPandas官方仓库地址为：[movingpandas](https://github.com/movingpandas/movingpandas)。MovingPandas官方示例代码仓库地址为：[movingpandas-examples](https://github.com/movingpandas/movingpandas-examples)。本文所有实验数据来自于：[movingpandas-examples-data](https://github.com/movingpandas/movingpandas-examples/tree/main/data)。"
   ]
  },
  {
   "cell_type": "markdown",
   "metadata": {
    "execution": {
     "iopub.execute_input": "2023-07-11T14:01:23.283569Z",
     "iopub.status.busy": "2023-07-11T14:01:23.282754Z",
     "iopub.status.idle": "2023-07-11T14:01:23.290249Z",
     "shell.execute_reply": "2023-07-11T14:01:23.288983Z",
     "shell.execute_reply.started": "2023-07-11T14:01:23.283525Z"
    }
   },
   "source": [
    "MovingPandas作者推荐在Python 3.8及以上环境下安装MovingPandas，并建议使用conda进行安装。可以使用以下命令来安装MovingPandas：\n",
    "\n",
    "\n",
    "```python\n",
    "conda install -c conda-forge movingpandas\n",
    "```\n",
    "\n",
    "由于MovingPandas的依赖环境较为复杂，所以不推荐使用pip进行安装。如果坚持使用pip进行安装，可以按照以下命令来安装MovingPandas：\n",
    "\n",
    "```python\n",
    "pip install movingpandas\n",
    "# 本文必安装第三方库\n",
    "pip install contextily\n",
    "# 以下第三方库可选\n",
    "pip install hvplot\n",
    "pip install cartopy\n",
    "pip install geoviews\n",
    "```\n",
    "\n"
   ]
  },
  {
   "cell_type": "markdown",
   "metadata": {},
   "source": [
    "下面的代码展示了MovingPandas的版本信息，本文所用Python版本为Python3.10。"
   ]
  },
  {
   "cell_type": "code",
   "execution_count": 1,
   "metadata": {
    "collapsed": false,
    "execution": {
     "iopub.execute_input": "2023-08-01T14:05:05.068798Z",
     "iopub.status.busy": "2023-08-01T14:05:05.068201Z",
     "iopub.status.idle": "2023-08-01T14:05:06.421286Z",
     "shell.execute_reply": "2023-08-01T14:05:06.420331Z",
     "shell.execute_reply.started": "2023-08-01T14:05:05.068765Z"
    },
    "jupyter": {
     "outputs_hidden": false
    },
    "scrolled": true,
    "tags": []
   },
   "outputs": [
    {
     "name": "stdout",
     "output_type": "stream",
     "text": [
      "\r\n",
      "MovingPandas 0.16.1\r\n",
      "\r\n",
      "SYSTEM INFO\r\n",
      "-----------\r\n",
      "python     : 3.10.10 (main, Mar 21 2023, 18:45:11) [GCC 11.2.0]\r\n",
      "executable : /opt/conda/envs/python35-paddle120-env/bin/python\r\n",
      "machine    : Linux-5.4.0-104-generic-x86_64-with-glibc2.31\r\n",
      "\r\n",
      "GEOS, GDAL, PROJ INFO\r\n",
      "---------------------\r\n",
      "GEOS       : None\r\n",
      "GEOS lib   : None\r\n",
      "GDAL       : 3.6.4\r\n",
      "GDAL data dir: /opt/conda/envs/python35-paddle120-env/lib/python3.10/site-packages/fiona/gdal_data\r\n",
      "PROJ       : 9.2.1\r\n",
      "PROJ data dir: /opt/conda/envs/python35-paddle120-env/lib/python3.10/site-packages/pyproj/proj_dir/share/proj\r\n",
      "\r\n",
      "PYTHON DEPENDENCIES\r\n",
      "-------------------\r\n",
      "geopandas  : 0.13.2\r\n",
      "pandas     : 2.0.2\r\n",
      "fiona      : 1.9.4.post1\r\n",
      "numpy      : 1.24.3\r\n",
      "shapely    : 2.0.1\r\n",
      "rtree      : 1.0.1\r\n",
      "pyproj     : 3.6.0\r\n",
      "matplotlib : 3.7.1\r\n",
      "mapclassify: None\r\n",
      "geopy      : 2.3.0\r\n",
      "holoviews  : None\r\n",
      "hvplot     : None\r\n",
      "geoviews   : None\r\n",
      "stonesoup  : None\r\n"
     ]
    }
   ],
   "source": [
    "# jupyter notebook环境去除warning\n",
    "import warnings\n",
    "warnings.filterwarnings(\"ignore\")\n",
    "\n",
    "# 查看movingpandas版本及依赖库版本信息\n",
    "import movingpandas as mpd\n",
    "mpd.show_versions()"
   ]
  },
  {
   "cell_type": "markdown",
   "metadata": {},
   "source": [
    "# 1 使用入门"
   ]
  },
  {
   "cell_type": "markdown",
   "metadata": {
    "execution": {
     "iopub.execute_input": "2023-07-11T14:15:27.905661Z",
     "iopub.status.busy": "2023-07-11T14:15:27.905090Z",
     "iopub.status.idle": "2023-07-11T14:15:27.910215Z",
     "shell.execute_reply": "2023-07-11T14:15:27.909178Z",
     "shell.execute_reply.started": "2023-07-11T14:15:27.905629Z"
    }
   },
   "source": [
    "## 1.1 基础结构"
   ]
  },
  {
   "cell_type": "code",
   "execution_count": 2,
   "metadata": {
    "execution": {
     "iopub.execute_input": "2023-08-01T14:05:06.424136Z",
     "iopub.status.busy": "2023-08-01T14:05:06.423175Z",
     "iopub.status.idle": "2023-08-01T14:05:06.430218Z",
     "shell.execute_reply": "2023-08-01T14:05:06.428916Z",
     "shell.execute_reply.started": "2023-08-01T14:05:06.424102Z"
    },
    "scrolled": true,
    "tags": []
   },
   "outputs": [],
   "source": [
    "# 加载第三方库\n",
    "import pandas as pd\n",
    "import geopandas as gpd\n",
    "import movingpandas as mpd\n",
    "import shapely as shp\n",
    "# hvPlot是建立在数据可视化库holoviews的一个高级封装库\n",
    "# import hvplot.pandas \n",
    "\n",
    "from geopandas import GeoDataFrame, read_file\n",
    "from shapely.geometry import Point, LineString, Polygon\n",
    "from datetime import datetime, timedelta\n",
    "# hvplot通常与HoloViews集成使用\n",
    "# from holoviews import opts\n",
    "\n",
    "# 设置绘图界面\n",
    "# opts.defaults(opts.Overlay(active_tools=['wheel_zoom'], frame_width=500, frame_height=400))"
   ]
  },
  {
   "cell_type": "markdown",
   "metadata": {},
   "source": [
    "### 1.1.1 Trajectory类\n",
    "MovingPandas提供Trajectory对象用于表示单个轨迹的对象。它由一系列坐标点组成。Trajectory对象初始化参数如下：\n",
    "\n",
    "```python\n",
    "class Trajectory:\n",
    "    def __init__(\n",
    "        self,\n",
    "        df,\n",
    "        traj_id,\n",
    "        obj_id=None,\n",
    "        t=None,\n",
    "        x=None,\n",
    "        y=None,\n",
    "        crs=\"epsg:4326\",\n",
    "        parent=None,\n",
    "    ):\n",
    "```\n",
    "\n",
    "其中各个参数解释如下：\n",
    "\n",
    "+ df：具有GeoPandas的geometry坐标列和时间戳索引的GeoDataFrame，或Pandas的DataFrame。必填参数。\n",
    "+ traj_id：任意类型，表示轨迹的唯一标识符。必填参数。\n",
    "+ obj_id：任意类型，表示移动物体的唯一标识符。默认为 None。\n",
    "+ t：表示包含时间戳的列名，默认为 None。\n",
    "+ x：表示包含x坐标的列名，使用Pandas的DataFrame需指定。默认为 None。\n",
    "+ y：表示包含y坐标的列名，使用Pandas的DataFrame需指定。默认为 None。\n",
    "+ crs：表示 x/y 坐标的坐标参考系统。默认为 \"epsg:4326\"，即 WGS84。\n",
    "+ parent：一个Trajectory 对象，表示父轨迹。默认为 None。\n",
    "\n",
    "\n",
    "由Trajectory轨迹对象的初始化参数可知，MovingPandas用相关点位置信息和其时间信息来表示轨迹。下面用一个实例代码来展示Trajectory对象的使用。"
   ]
  },
  {
   "cell_type": "markdown",
   "metadata": {
    "execution": {
     "iopub.execute_input": "2023-07-12T13:36:01.592686Z",
     "iopub.status.busy": "2023-07-12T13:36:01.591945Z",
     "iopub.status.idle": "2023-07-12T13:36:01.597898Z",
     "shell.execute_reply": "2023-07-12T13:36:01.596855Z",
     "shell.execute_reply.started": "2023-07-12T13:36:01.592656Z"
    }
   },
   "source": [
    "首先创建一个用于表示位置和其对应时间信息的GeoDataFrame对象。"
   ]
  },
  {
   "cell_type": "code",
   "execution_count": 3,
   "metadata": {
    "execution": {
     "iopub.execute_input": "2023-08-01T14:05:06.432675Z",
     "iopub.status.busy": "2023-08-01T14:05:06.432270Z",
     "iopub.status.idle": "2023-08-01T14:05:06.465162Z",
     "shell.execute_reply": "2023-08-01T14:05:06.464198Z",
     "shell.execute_reply.started": "2023-08-01T14:05:06.432647Z"
    },
    "scrolled": true,
    "tags": []
   },
   "outputs": [
    {
     "data": {
      "text/html": [
       "<div>\n",
       "<style scoped>\n",
       "    .dataframe tbody tr th:only-of-type {\n",
       "        vertical-align: middle;\n",
       "    }\n",
       "\n",
       "    .dataframe tbody tr th {\n",
       "        vertical-align: top;\n",
       "    }\n",
       "\n",
       "    .dataframe thead th {\n",
       "        text-align: right;\n",
       "    }\n",
       "</style>\n",
       "<table border=\"1\" class=\"dataframe\">\n",
       "  <thead>\n",
       "    <tr style=\"text-align: right;\">\n",
       "      <th></th>\n",
       "      <th>geometry</th>\n",
       "    </tr>\n",
       "    <tr>\n",
       "      <th>t</th>\n",
       "      <th></th>\n",
       "    </tr>\n",
       "  </thead>\n",
       "  <tbody>\n",
       "    <tr>\n",
       "      <th>2023-07-01 12:00:00</th>\n",
       "      <td>POINT (0.000 0.000)</td>\n",
       "    </tr>\n",
       "    <tr>\n",
       "      <th>2023-07-01 12:06:00</th>\n",
       "      <td>POINT (6.000 0.000)</td>\n",
       "    </tr>\n",
       "    <tr>\n",
       "      <th>2023-07-01 12:10:00</th>\n",
       "      <td>POINT (6.000 6.000)</td>\n",
       "    </tr>\n",
       "    <tr>\n",
       "      <th>2023-07-01 12:15:00</th>\n",
       "      <td>POINT (9.000 9.000)</td>\n",
       "    </tr>\n",
       "  </tbody>\n",
       "</table>\n",
       "</div>"
      ],
      "text/plain": [
       "                                geometry\n",
       "t                                       \n",
       "2023-07-01 12:00:00  POINT (0.000 0.000)\n",
       "2023-07-01 12:06:00  POINT (6.000 0.000)\n",
       "2023-07-01 12:10:00  POINT (6.000 6.000)\n",
       "2023-07-01 12:15:00  POINT (9.000 9.000)"
      ]
     },
     "execution_count": 3,
     "metadata": {},
     "output_type": "execute_result"
    }
   ],
   "source": [
    "import pandas as pd\n",
    "from shapely.geometry import Point\n",
    "from geopandas import GeoDataFrame\n",
    "import movingpandas as mpd\n",
    "from datetime import datetime\n",
    "\n",
    "# 创建DataFrame对象\n",
    "df = pd.DataFrame([\n",
    "    {'geometry': Point(0, 0), 't': datetime(2023, 7, 1, 12, 0, 0)},\n",
    "    {'geometry': Point(6, 0), 't': datetime(2023, 7, 1, 12, 6, 0)},\n",
    "    {'geometry': Point(6, 6), 't': datetime(2023, 7, 1, 12, 10, 0)},\n",
    "    {'geometry': Point(9, 9), 't': datetime(2023, 7, 1, 12, 15, 0)}])\n",
    "# 设置索引轴\n",
    "df = df.set_index('t')\n",
    "\n",
    "# 创建GeoDataFrame对象\n",
    "# EPSG:3857是在线地图常用的投影坐标系，以米为单位\n",
    "gdf = GeoDataFrame(df, crs='EPSG:3857')\n",
    "gdf"
   ]
  },
  {
   "cell_type": "markdown",
   "metadata": {
    "execution": {
     "iopub.execute_input": "2023-07-12T13:38:23.304067Z",
     "iopub.status.busy": "2023-07-12T13:38:23.303100Z",
     "iopub.status.idle": "2023-07-12T13:38:23.308830Z",
     "shell.execute_reply": "2023-07-12T13:38:23.307843Z",
     "shell.execute_reply.started": "2023-07-12T13:38:23.304029Z"
    }
   },
   "source": [
    "然后基于GeoDataFrame对象创建轨迹对象。"
   ]
  },
  {
   "cell_type": "code",
   "execution_count": 4,
   "metadata": {
    "execution": {
     "iopub.execute_input": "2023-08-01T14:05:06.467230Z",
     "iopub.status.busy": "2023-08-01T14:05:06.466925Z",
     "iopub.status.idle": "2023-08-01T14:05:06.479345Z",
     "shell.execute_reply": "2023-08-01T14:05:06.478113Z",
     "shell.execute_reply.started": "2023-08-01T14:05:06.467202Z"
    },
    "scrolled": true,
    "tags": []
   },
   "outputs": [
    {
     "data": {
      "text/plain": [
       "Trajectory 1 (2023-07-01 12:00:00 to 2023-07-01 12:15:00) | Size: 4 | Length: 16.2m\n",
       "Bounds: (0.0, 0.0, 9.0, 9.0)\n",
       "LINESTRING (0 0, 6 0, 6 6, 9 9)"
      ]
     },
     "execution_count": 4,
     "metadata": {},
     "output_type": "execute_result"
    }
   ],
   "source": [
    "# 创建Trajectory对象\n",
    "# 1表示轨迹标识符\n",
    "toy_traj = mpd.Trajectory(gdf, 1)\n",
    "toy_traj"
   ]
  },
  {
   "cell_type": "markdown",
   "metadata": {},
   "source": [
    "接下来可以可视化轨迹路径，横纵轴表示点的xy坐标。"
   ]
  },
  {
   "cell_type": "code",
   "execution_count": 5,
   "metadata": {
    "execution": {
     "iopub.execute_input": "2023-08-01T14:05:06.480967Z",
     "iopub.status.busy": "2023-08-01T14:05:06.480453Z",
     "iopub.status.idle": "2023-08-01T14:05:06.731288Z",
     "shell.execute_reply": "2023-08-01T14:05:06.729949Z",
     "shell.execute_reply.started": "2023-08-01T14:05:06.480937Z"
    },
    "scrolled": true,
    "tags": []
   },
   "outputs": [
    {
     "data": {
      "text/plain": [
       "<Axes: >"
      ]
     },
     "execution_count": 5,
     "metadata": {},
     "output_type": "execute_result"
    },
    {
     "data": {
      "image/png": "[encoded data removed]",
      "text/plain": [
       "<Figure size 640x480 with 1 Axes>"
      ]
     },
     "metadata": {},
     "output_type": "display_data"
    }
   ],
   "source": [
    "# 可视化路径\n",
    "toy_traj.plot()"
   ]
  },
  {
   "cell_type": "code",
   "execution_count": 6,
   "metadata": {
    "execution": {
     "iopub.execute_input": "2023-08-01T14:05:06.732800Z",
     "iopub.status.busy": "2023-08-01T14:05:06.732515Z",
     "iopub.status.idle": "2023-08-01T14:05:06.737120Z",
     "shell.execute_reply": "2023-08-01T14:05:06.736242Z",
     "shell.execute_reply.started": "2023-08-01T14:05:06.732776Z"
    },
    "scrolled": true,
    "tags": []
   },
   "outputs": [],
   "source": [
    "# 交互式展示\n",
    "# toy_traj.hvplot()"
   ]
  },
  {
   "cell_type": "markdown",
   "metadata": {},
   "source": [
    "此外也可以直接调用toy_traj的GeoPandas对象进行可视化展示。"
   ]
  },
  {
   "cell_type": "code",
   "execution_count": 7,
   "metadata": {
    "execution": {
     "iopub.execute_input": "2023-08-01T14:05:06.738762Z",
     "iopub.status.busy": "2023-08-01T14:05:06.738497Z",
     "iopub.status.idle": "2023-08-01T14:05:07.058881Z",
     "shell.execute_reply": "2023-08-01T14:05:07.058103Z",
     "shell.execute_reply.started": "2023-08-01T14:05:06.738739Z"
    },
    "scrolled": true,
    "tags": []
   },
   "outputs": [
    {
     "data": {
      "text/plain": [
       "<Axes: >"
      ]
     },
     "execution_count": 7,
     "metadata": {},
     "output_type": "execute_result"
    },
    {
     "data": {
      "image/png": "[encoded data removed]",
      "text/plain": [
       "<Figure size 640x480 with 1 Axes>"
      ]
     },
     "metadata": {},
     "output_type": "display_data"
    }
   ],
   "source": [
    "toy_traj.df.plot()"
   ]
  },
  {
   "cell_type": "markdown",
   "metadata": {},
   "source": [
    "### 1.1.2 TrajectoryCollection类\n",
    "\n",
    "TrajectoryCollection类是一个集合，用于存储多个Trajectory 对象。它提供了对整个轨迹集合进行操作和分析的功能。可以使用 TrajectoryCollection来合并多个轨迹为一个对象、筛选轨迹、进行空间查询、可视化等。TrajectoryCollection对象初始化参数如下：\n",
    "\n",
    "```python\n",
    "class TrajectoryCollection:\n",
    "    def __init__(\n",
    "        self,\n",
    "        data,\n",
    "        traj_id_col=None,\n",
    "        obj_id_col=None,\n",
    "        t=None,\n",
    "        x=None,\n",
    "        y=None,\n",
    "        crs=\"epsg:4326\",\n",
    "        min_length=0,\n",
    "        min_duration=None,\n",
    "    )\n",
    "```\n",
    " \n",
    " 其中大部分参数与Trajectory对象的参数一致，不同参数解释如下：\n",
    " + min_length: 轨迹的最小长度，低于该长度的轨迹将被丢弃。\n",
    " + min_duration: 轨迹的期望最小持续时间，低于该续时间的轨迹将被丢弃。\n",
    " "
   ]
  },
  {
   "cell_type": "markdown",
   "metadata": {},
   "source": [
    "**直接创建TrajectoryCollection对象**"
   ]
  },
  {
   "cell_type": "code",
   "execution_count": 8,
   "metadata": {
    "execution": {
     "iopub.execute_input": "2023-08-01T14:05:07.060793Z",
     "iopub.status.busy": "2023-08-01T14:05:07.059847Z",
     "iopub.status.idle": "2023-08-01T14:05:07.086809Z",
     "shell.execute_reply": "2023-08-01T14:05:07.085220Z",
     "shell.execute_reply.started": "2023-08-01T14:05:07.060766Z"
    },
    "scrolled": true,
    "tags": []
   },
   "outputs": [
    {
     "data": {
      "text/html": [
       "<div>\n",
       "<style scoped>\n",
       "    .dataframe tbody tr th:only-of-type {\n",
       "        vertical-align: middle;\n",
       "    }\n",
       "\n",
       "    .dataframe tbody tr th {\n",
       "        vertical-align: top;\n",
       "    }\n",
       "\n",
       "    .dataframe thead th {\n",
       "        text-align: right;\n",
       "    }\n",
       "</style>\n",
       "<table border=\"1\" class=\"dataframe\">\n",
       "  <thead>\n",
       "    <tr style=\"text-align: right;\">\n",
       "      <th></th>\n",
       "      <th>t</th>\n",
       "      <th>trajectory_id</th>\n",
       "      <th>geometry</th>\n",
       "    </tr>\n",
       "  </thead>\n",
       "  <tbody>\n",
       "    <tr>\n",
       "      <th>0</th>\n",
       "      <td>2023-07-01 00:00:00</td>\n",
       "      <td>1</td>\n",
       "      <td>POINT (0.000 0.000)</td>\n",
       "    </tr>\n",
       "    <tr>\n",
       "      <th>1</th>\n",
       "      <td>2023-07-01 00:01:00</td>\n",
       "      <td>1</td>\n",
       "      <td>POINT (0.000 1.000)</td>\n",
       "    </tr>\n",
       "    <tr>\n",
       "      <th>2</th>\n",
       "      <td>2023-07-01 00:02:00</td>\n",
       "      <td>2</td>\n",
       "      <td>POINT (1.000 2.000)</td>\n",
       "    </tr>\n",
       "    <tr>\n",
       "      <th>3</th>\n",
       "      <td>2023-07-01 00:03:00</td>\n",
       "      <td>2</td>\n",
       "      <td>POINT (1.000 3.000)</td>\n",
       "    </tr>\n",
       "    <tr>\n",
       "      <th>4</th>\n",
       "      <td>2023-07-01 00:04:00</td>\n",
       "      <td>2</td>\n",
       "      <td>POINT (2.000 4.000)</td>\n",
       "    </tr>\n",
       "  </tbody>\n",
       "</table>\n",
       "</div>"
      ],
      "text/plain": [
       "                    t  trajectory_id             geometry\n",
       "0 2023-07-01 00:00:00              1  POINT (0.000 0.000)\n",
       "1 2023-07-01 00:01:00              1  POINT (0.000 1.000)\n",
       "2 2023-07-01 00:02:00              2  POINT (1.000 2.000)\n",
       "3 2023-07-01 00:03:00              2  POINT (1.000 3.000)\n",
       "4 2023-07-01 00:04:00              2  POINT (2.000 4.000)"
      ]
     },
     "execution_count": 8,
     "metadata": {},
     "output_type": "execute_result"
    }
   ],
   "source": [
    "# 创建两条轨迹\n",
    "df = pd.DataFrame(\n",
    "    {\n",
    "        \"t\": pd.date_range(\"2023-07-01\", periods=5, freq=\"min\"),\n",
    "        \"trajectory_id\": [1, 1, 2, 2, 2],\n",
    "        \"geometry\": [Point(0, 0), Point(0, 1), Point(1, 2), Point(1, 3), Point(2, 4)],\n",
    "    }\n",
    ")\n",
    "gdf = gpd.GeoDataFrame(df, crs='EPSG:3857')\n",
    "gdf"
   ]
  },
  {
   "cell_type": "code",
   "execution_count": 9,
   "metadata": {
    "execution": {
     "iopub.execute_input": "2023-08-01T14:05:07.088894Z",
     "iopub.status.busy": "2023-08-01T14:05:07.088316Z",
     "iopub.status.idle": "2023-08-01T14:05:07.120328Z",
     "shell.execute_reply": "2023-08-01T14:05:07.118827Z",
     "shell.execute_reply.started": "2023-08-01T14:05:07.088856Z"
    },
    "scrolled": true,
    "tags": []
   },
   "outputs": [
    {
     "data": {
      "text/plain": [
       "TrajectoryCollection with 2 trajectories"
      ]
     },
     "execution_count": 9,
     "metadata": {},
     "output_type": "execute_result"
    }
   ],
   "source": [
    "# 创建TrajectoryCollection对象，用trajectory_id作为单个轨迹的唯一标识\n",
    "tc = mpd.TrajectoryCollection(gdf, traj_id_col='trajectory_id', t='t')\n",
    "tc"
   ]
  },
  {
   "cell_type": "code",
   "execution_count": 10,
   "metadata": {
    "execution": {
     "iopub.execute_input": "2023-08-01T14:05:07.123966Z",
     "iopub.status.busy": "2023-08-01T14:05:07.123590Z",
     "iopub.status.idle": "2023-08-01T14:05:07.535649Z",
     "shell.execute_reply": "2023-08-01T14:05:07.534478Z",
     "shell.execute_reply.started": "2023-08-01T14:05:07.123941Z"
    },
    "scrolled": true,
    "tags": []
   },
   "outputs": [
    {
     "data": {
      "text/plain": [
       "<Axes: >"
      ]
     },
     "execution_count": 10,
     "metadata": {},
     "output_type": "execute_result"
    },
    {
     "data": {
      "image/png": "[encoded data removed]",
      "text/plain": [
       "<Figure size 640x480 with 2 Axes>"
      ]
     },
     "metadata": {},
     "output_type": "display_data"
    }
   ],
   "source": [
    "# 绘制轨迹, column指定轨迹对象，legend展示轨迹持续时间\n",
    "import matplotlib.cm as cm\n",
    "tc.plot(column='trajectory_id', legend=True)\n"
   ]
  },
  {
   "cell_type": "code",
   "execution_count": 11,
   "metadata": {
    "execution": {
     "iopub.execute_input": "2023-08-01T14:05:07.537669Z",
     "iopub.status.busy": "2023-08-01T14:05:07.536862Z",
     "iopub.status.idle": "2023-08-01T14:05:07.541871Z",
     "shell.execute_reply": "2023-08-01T14:05:07.540713Z",
     "shell.execute_reply.started": "2023-08-01T14:05:07.537638Z"
    },
    "scrolled": true,
    "tags": []
   },
   "outputs": [],
   "source": [
    "# 交互式展示轨迹\n",
    "# tc.hvplot()"
   ]
  },
  {
   "cell_type": "markdown",
   "metadata": {},
   "source": [
    "此外我们还可以从TrajectoryCollection提取单个轨迹，或者筛选所需要的轨迹。"
   ]
  },
  {
   "cell_type": "code",
   "execution_count": 12,
   "metadata": {
    "execution": {
     "iopub.execute_input": "2023-08-01T14:05:07.543563Z",
     "iopub.status.busy": "2023-08-01T14:05:07.543244Z",
     "iopub.status.idle": "2023-08-01T14:05:07.550312Z",
     "shell.execute_reply": "2023-08-01T14:05:07.549415Z",
     "shell.execute_reply.started": "2023-08-01T14:05:07.543538Z"
    },
    "scrolled": true,
    "tags": []
   },
   "outputs": [
    {
     "name": "stdout",
     "output_type": "stream",
     "text": [
      "Trajectory 2 (2023-07-01 00:02:00 to 2023-07-01 00:04:00) | Size: 3 | Length: 2.4m\r\n",
      "Bounds: (1.0, 2.0, 2.0, 4.0)\r\n",
      "LINESTRING (1 2, 1 3, 2 4)\r\n"
     ]
    }
   ],
   "source": [
    "# 从TrajectoryCollection提取单个轨迹\n",
    "my_traj = tc.trajectories[1]\n",
    "print(my_traj)"
   ]
  },
  {
   "cell_type": "code",
   "execution_count": 13,
   "metadata": {
    "execution": {
     "iopub.execute_input": "2023-08-01T14:05:07.552732Z",
     "iopub.status.busy": "2023-08-01T14:05:07.552153Z",
     "iopub.status.idle": "2023-08-01T14:05:07.559137Z",
     "shell.execute_reply": "2023-08-01T14:05:07.558272Z",
     "shell.execute_reply.started": "2023-08-01T14:05:07.552705Z"
    },
    "scrolled": true,
    "tags": []
   },
   "outputs": [
    {
     "name": "stdout",
     "output_type": "stream",
     "text": [
      "[Trajectory 2 (2023-07-01 00:02:00 to 2023-07-01 00:04:00) | Size: 3 | Length: 2.4m\r\n",
      "Bounds: (1.0, 2.0, 2.0, 4.0)\r\n",
      "LINESTRING (1 2, 1 3, 2 4)]\r\n"
     ]
    }
   ],
   "source": [
    "#　筛选路径持续时间大于一分钟的\n",
    "min_duration = timedelta(minutes=1)\n",
    "tc.trajectories = [traj for traj in tc if traj.get_duration() > min_duration]\n",
    "print(tc.trajectories)"
   ]
  },
  {
   "cell_type": "markdown",
   "metadata": {},
   "source": [
    "**从文件数据创建TrajectoryCollection对象**\n",
    "\n",
    "TrajectoryCollection可以通过GeoPandas函数从各种地理空间数据存储中读取数据来创建，也可以利用Pandas从各类文件类型中读取数据进行创建。\n",
    "\n",
    "\n",
    "下面展示了直接通过csv文件创建TrajectoryCollection对象，数据下载地址为：[movingpandas-examples-data](https://github.com/movingpandas/movingpandas-examples/tree/main/data)"
   ]
  },
  {
   "cell_type": "code",
   "execution_count": 14,
   "metadata": {
    "execution": {
     "iopub.execute_input": "2023-08-01T14:05:07.560275Z",
     "iopub.status.busy": "2023-08-01T14:05:07.560005Z",
     "iopub.status.idle": "2023-08-01T14:05:07.584000Z",
     "shell.execute_reply": "2023-08-01T14:05:07.583146Z",
     "shell.execute_reply.started": "2023-08-01T14:05:07.560252Z"
    },
    "scrolled": true,
    "tags": []
   },
   "outputs": [
    {
     "data": {
      "text/html": [
       "<div>\n",
       "<style scoped>\n",
       "    .dataframe tbody tr th:only-of-type {\n",
       "        vertical-align: middle;\n",
       "    }\n",
       "\n",
       "    .dataframe tbody tr th {\n",
       "        vertical-align: top;\n",
       "    }\n",
       "\n",
       "    .dataframe thead th {\n",
       "        text-align: right;\n",
       "    }\n",
       "</style>\n",
       "<table border=\"1\" class=\"dataframe\">\n",
       "  <thead>\n",
       "    <tr style=\"text-align: right;\">\n",
       "      <th></th>\n",
       "      <th>X</th>\n",
       "      <th>Y</th>\n",
       "      <th>fid</th>\n",
       "      <th>id</th>\n",
       "      <th>sequence</th>\n",
       "      <th>trajectory_id</th>\n",
       "      <th>tracker</th>\n",
       "      <th>t</th>\n",
       "    </tr>\n",
       "  </thead>\n",
       "  <tbody>\n",
       "    <tr>\n",
       "      <th>0</th>\n",
       "      <td>116.391305</td>\n",
       "      <td>39.898573</td>\n",
       "      <td>1</td>\n",
       "      <td>1</td>\n",
       "      <td>1</td>\n",
       "      <td>1</td>\n",
       "      <td>19</td>\n",
       "      <td>2008-12-11 04:42:14+00</td>\n",
       "    </tr>\n",
       "    <tr>\n",
       "      <th>1</th>\n",
       "      <td>116.391317</td>\n",
       "      <td>39.898617</td>\n",
       "      <td>2</td>\n",
       "      <td>2</td>\n",
       "      <td>2</td>\n",
       "      <td>1</td>\n",
       "      <td>19</td>\n",
       "      <td>2008-12-11 04:42:16+00</td>\n",
       "    </tr>\n",
       "    <tr>\n",
       "      <th>2</th>\n",
       "      <td>116.390928</td>\n",
       "      <td>39.898613</td>\n",
       "      <td>3</td>\n",
       "      <td>3</td>\n",
       "      <td>3</td>\n",
       "      <td>1</td>\n",
       "      <td>19</td>\n",
       "      <td>2008-12-11 04:43:26+00</td>\n",
       "    </tr>\n",
       "    <tr>\n",
       "      <th>3</th>\n",
       "      <td>116.390833</td>\n",
       "      <td>39.898635</td>\n",
       "      <td>4</td>\n",
       "      <td>4</td>\n",
       "      <td>4</td>\n",
       "      <td>1</td>\n",
       "      <td>19</td>\n",
       "      <td>2008-12-11 04:43:32+00</td>\n",
       "    </tr>\n",
       "    <tr>\n",
       "      <th>4</th>\n",
       "      <td>116.389410</td>\n",
       "      <td>39.898723</td>\n",
       "      <td>5</td>\n",
       "      <td>5</td>\n",
       "      <td>5</td>\n",
       "      <td>1</td>\n",
       "      <td>19</td>\n",
       "      <td>2008-12-11 04:43:47+00</td>\n",
       "    </tr>\n",
       "  </tbody>\n",
       "</table>\n",
       "</div>"
      ],
      "text/plain": [
       "            X          Y  fid  id  sequence  trajectory_id  tracker  \\\n",
       "0  116.391305  39.898573    1   1         1              1       19   \n",
       "1  116.391317  39.898617    2   2         2              1       19   \n",
       "2  116.390928  39.898613    3   3         3              1       19   \n",
       "3  116.390833  39.898635    4   4         4              1       19   \n",
       "4  116.389410  39.898723    5   5         5              1       19   \n",
       "\n",
       "                        t  \n",
       "0  2008-12-11 04:42:14+00  \n",
       "1  2008-12-11 04:42:16+00  \n",
       "2  2008-12-11 04:43:26+00  \n",
       "3  2008-12-11 04:43:32+00  \n",
       "4  2008-12-11 04:43:47+00  "
      ]
     },
     "execution_count": 14,
     "metadata": {},
     "output_type": "execute_result"
    }
   ],
   "source": [
    "# 读取数据\n",
    "df = pd.read_csv('data/geolife_small.csv', delimiter=';')\n",
    "df.head()"
   ]
  },
  {
   "cell_type": "code",
   "execution_count": 15,
   "metadata": {
    "execution": {
     "iopub.execute_input": "2023-08-01T14:05:07.585184Z",
     "iopub.status.busy": "2023-08-01T14:05:07.584927Z",
     "iopub.status.idle": "2023-08-01T14:05:07.750901Z",
     "shell.execute_reply": "2023-08-01T14:05:07.750007Z",
     "shell.execute_reply.started": "2023-08-01T14:05:07.585162Z"
    },
    "scrolled": true,
    "tags": []
   },
   "outputs": [
    {
     "name": "stdout",
     "output_type": "stream",
     "text": [
      "TrajectoryCollection with 5 trajectories\r\n"
     ]
    }
   ],
   "source": [
    "# 转换为traj_collection对象\n",
    "traj_collection = mpd.TrajectoryCollection(df, 'trajectory_id', t='t', x='X', y='Y')\n",
    "print(traj_collection)"
   ]
  },
  {
   "cell_type": "code",
   "execution_count": 16,
   "metadata": {
    "execution": {
     "iopub.execute_input": "2023-08-01T14:05:07.751952Z",
     "iopub.status.busy": "2023-08-01T14:05:07.751722Z",
     "iopub.status.idle": "2023-08-01T14:05:09.067922Z",
     "shell.execute_reply": "2023-08-01T14:05:09.067158Z",
     "shell.execute_reply.started": "2023-08-01T14:05:07.751931Z"
    },
    "scrolled": true,
    "tags": []
   },
   "outputs": [
    {
     "data": {
      "text/plain": [
       "<Axes: >"
      ]
     },
     "execution_count": 16,
     "metadata": {},
     "output_type": "execute_result"
    },
    {
     "data": {
      "image/png": "[encoded data removed]",
      "text/plain": [
       "<Figure size 900x500 with 2 Axes>"
      ]
     },
     "metadata": {},
     "output_type": "display_data"
    }
   ],
   "source": [
    "# 绘制轨迹\n",
    "traj_collection.plot(column='trajectory_id', legend=True, figsize=(9,5))"
   ]
  },
  {
   "cell_type": "markdown",
   "metadata": {},
   "source": [
    "## 1.2 基础函数\n",
    "\n",
    "MovingPandas中的函数可以同时适用于单个轨迹（Trajectory）对象和轨迹集合（TrajectoryCollection）对象，以实现对单条和多条轨迹的分析。"
   ]
  },
  {
   "cell_type": "markdown",
   "metadata": {},
   "source": [
    "### 1.2.1 移动信息添加函数\n",
    "\n",
    "MovingPandas提供add_speed、add_distance、add_direction、add_timedelta、add_timedelta和add_acceleration等移动信息添加函数来处理移动数据。这些函数的接口如下：\n",
    "\n",
    "```python\n",
    "add_speed(overwrite=False, name=SPEED_COL_NAME, units=UNITS())\n",
    "add_distance(overwrite=False, name=DISTANCE_COL_NAME, units=None)\n",
    "add_direction(overwrite=False, name=DIRECTION_COL_NAME)\n",
    "add_angular_difference(overwrite=False,name=ANGULAR_DIFFERENCE_COL_NAM):\n",
    "add_timedelta(overwrite=False, name=TIMEDELTA_COL_NAME)\n",
    "add_acceleration(overwrite=False, name=ACCELERATION_COL_NAME, units=UNITS())\n",
    "```\n",
    "\n",
    "所有函数均使用系统默认值或全局变量，具体函数介绍如下：\n",
    "\n",
    "+ add_speed: 用于计算移动对象的速度。根据两个时间点之间的距离和时间差来计算速度。参数overwrite表示是否覆盖现有的速度列，name表示速度列的名称，units表示速度的单位，名字和单位不指定则使用默认值。\n",
    "+ add_distance: 用于计算移动对象的距离。根据两个时间点之间的直线距离异来计算距离。参数overwrite表示是否覆盖现有的距离列，name表示距离列的名称，units表示距离的单位。\n",
    "+ add_direction: 用于计算移动对象的方向。根据两个时间点之间的坐标差异来计算方向。参数overwrite表示是否覆盖现有的方向列，name表示方向列的名称。方向值以度为单位，从北开始顺时针旋转，范围值为[0,360)。\n",
    "+ add_angular_difference: 用于计算两个对象之间的角度差。根据移动对象的方向信息来计算两个对象之间的角度差。参数overwrite表示是否覆盖现有的方向列，name表示方向列的名称。角度范围值为[0,180]。\n",
    "+ add_timedelta: 用于计算移动对象的时间差。根据时间戳之间的差异来计算时间差。参数overwrite表示是否覆盖现有的时间差列，name表示时间差列的名称。时间差为当前行与前一行之差。\n",
    "+ add_acceleration: 用于计算移动对象的加速度。根据速度和时间差来计算加速度。参数overwrite表示是否覆盖现有的加速度列，name表示加速度列的名称，units表示加速度的单位。\n",
    "\n",
    "\n",
    "以下代码详细介绍了这些函数的使用。"
   ]
  },
  {
   "cell_type": "code",
   "execution_count": 17,
   "metadata": {
    "execution": {
     "iopub.execute_input": "2023-08-01T14:05:09.070229Z",
     "iopub.status.busy": "2023-08-01T14:05:09.068874Z",
     "iopub.status.idle": "2023-08-01T14:05:09.097243Z",
     "shell.execute_reply": "2023-08-01T14:05:09.095836Z",
     "shell.execute_reply.started": "2023-08-01T14:05:09.070196Z"
    },
    "scrolled": true,
    "tags": []
   },
   "outputs": [
    {
     "data": {
      "text/plain": [
       "Trajectory 1 (2023-07-01 12:00:00 to 2023-07-01 12:00:14) | Size: 4 | Length: 16.2m\n",
       "Bounds: (0.0, 0.0, 9.0, 9.0)\n",
       "LINESTRING (0 0, 6 0, 6 6, 9 9)"
      ]
     },
     "execution_count": 17,
     "metadata": {},
     "output_type": "execute_result"
    }
   ],
   "source": [
    "# 创建轨迹\n",
    "df = pd.DataFrame([\n",
    "  {'geometry':Point(0,0), 't':datetime(2023,7,1,12,0,0)},\n",
    "  {'geometry':Point(6,0), 't':datetime(2023,7,1,12,0,6)},\n",
    "  {'geometry':Point(6,6), 't':datetime(2023,7,1,12,0,11)},\n",
    "  {'geometry':Point(9,9), 't':datetime(2023,7,1,12,0,14)}\n",
    "]).set_index('t')\n",
    "gdf = GeoDataFrame(df, crs='EPSG:3857')\n",
    "toy_traj = mpd.Trajectory(gdf, 1)\n",
    "toy_traj"
   ]
  },
  {
   "cell_type": "code",
   "execution_count": 18,
   "metadata": {
    "execution": {
     "iopub.execute_input": "2023-08-01T14:05:09.099693Z",
     "iopub.status.busy": "2023-08-01T14:05:09.099415Z",
     "iopub.status.idle": "2023-08-01T14:05:09.106378Z",
     "shell.execute_reply": "2023-08-01T14:05:09.105720Z",
     "shell.execute_reply.started": "2023-08-01T14:05:09.099671Z"
    },
    "scrolled": true
   },
   "outputs": [
    {
     "data": {
      "text/plain": [
       "<Projected CRS: EPSG:3857>\n",
       "Name: WGS 84 / Pseudo-Mercator\n",
       "Axis Info [cartesian]:\n",
       "- X[east]: Easting (metre)\n",
       "- Y[north]: Northing (metre)\n",
       "Area of Use:\n",
       "- name: World between 85.06°S and 85.06°N.\n",
       "- bounds: (-180.0, -85.06, 180.0, 85.06)\n",
       "Coordinate Operation:\n",
       "- name: Popular Visualisation Pseudo-Mercator\n",
       "- method: Popular Visualisation Pseudo Mercator\n",
       "Datum: World Geodetic System 1984 ensemble\n",
       "- Ellipsoid: WGS 84\n",
       "- Prime Meridian: Greenwich"
      ]
     },
     "execution_count": 18,
     "metadata": {},
     "output_type": "execute_result"
    }
   ],
   "source": [
    "# 查看轨迹的坐标系，以米为单位\n",
    "toy_traj.crs"
   ]
  },
  {
   "cell_type": "code",
   "execution_count": 19,
   "metadata": {
    "execution": {
     "iopub.execute_input": "2023-08-01T14:05:09.108429Z",
     "iopub.status.busy": "2023-08-01T14:05:09.107295Z",
     "iopub.status.idle": "2023-08-01T14:05:09.130946Z",
     "shell.execute_reply": "2023-08-01T14:05:09.130104Z",
     "shell.execute_reply.started": "2023-08-01T14:05:09.108398Z"
    },
    "scrolled": true,
    "tags": []
   },
   "outputs": [
    {
     "data": {
      "text/html": [
       "<div>\n",
       "<style scoped>\n",
       "    .dataframe tbody tr th:only-of-type {\n",
       "        vertical-align: middle;\n",
       "    }\n",
       "\n",
       "    .dataframe tbody tr th {\n",
       "        vertical-align: top;\n",
       "    }\n",
       "\n",
       "    .dataframe thead th {\n",
       "        text-align: right;\n",
       "    }\n",
       "</style>\n",
       "<table border=\"1\" class=\"dataframe\">\n",
       "  <thead>\n",
       "    <tr style=\"text-align: right;\">\n",
       "      <th></th>\n",
       "      <th>geometry</th>\n",
       "      <th>speed</th>\n",
       "    </tr>\n",
       "    <tr>\n",
       "      <th>t</th>\n",
       "      <th></th>\n",
       "      <th></th>\n",
       "    </tr>\n",
       "  </thead>\n",
       "  <tbody>\n",
       "    <tr>\n",
       "      <th>2023-07-01 12:00:00</th>\n",
       "      <td>POINT (0.000 0.000)</td>\n",
       "      <td>1.000000</td>\n",
       "    </tr>\n",
       "    <tr>\n",
       "      <th>2023-07-01 12:00:06</th>\n",
       "      <td>POINT (6.000 0.000)</td>\n",
       "      <td>1.000000</td>\n",
       "    </tr>\n",
       "    <tr>\n",
       "      <th>2023-07-01 12:00:11</th>\n",
       "      <td>POINT (6.000 6.000)</td>\n",
       "      <td>1.200000</td>\n",
       "    </tr>\n",
       "    <tr>\n",
       "      <th>2023-07-01 12:00:14</th>\n",
       "      <td>POINT (9.000 9.000)</td>\n",
       "      <td>1.414214</td>\n",
       "    </tr>\n",
       "  </tbody>\n",
       "</table>\n",
       "</div>"
      ],
      "text/plain": [
       "                                geometry     speed\n",
       "t                                                 \n",
       "2023-07-01 12:00:00  POINT (0.000 0.000)  1.000000\n",
       "2023-07-01 12:00:06  POINT (6.000 0.000)  1.000000\n",
       "2023-07-01 12:00:11  POINT (6.000 6.000)  1.200000\n",
       "2023-07-01 12:00:14  POINT (9.000 9.000)  1.414214"
      ]
     },
     "execution_count": 19,
     "metadata": {},
     "output_type": "execute_result"
    }
   ],
   "source": [
    "# 添加速度列，不指定单位则以米为单位\n",
    "toy_traj.add_speed(overwrite=True)\n",
    "toy_traj.df"
   ]
  },
  {
   "cell_type": "code",
   "execution_count": 20,
   "metadata": {
    "execution": {
     "iopub.execute_input": "2023-08-01T14:05:09.133078Z",
     "iopub.status.busy": "2023-08-01T14:05:09.132013Z",
     "iopub.status.idle": "2023-08-01T14:05:09.156735Z",
     "shell.execute_reply": "2023-08-01T14:05:09.155090Z",
     "shell.execute_reply.started": "2023-08-01T14:05:09.133006Z"
    },
    "scrolled": true,
    "tags": []
   },
   "outputs": [
    {
     "data": {
      "text/html": [
       "<div>\n",
       "<style scoped>\n",
       "    .dataframe tbody tr th:only-of-type {\n",
       "        vertical-align: middle;\n",
       "    }\n",
       "\n",
       "    .dataframe tbody tr th {\n",
       "        vertical-align: top;\n",
       "    }\n",
       "\n",
       "    .dataframe thead th {\n",
       "        text-align: right;\n",
       "    }\n",
       "</style>\n",
       "<table border=\"1\" class=\"dataframe\">\n",
       "  <thead>\n",
       "    <tr style=\"text-align: right;\">\n",
       "      <th></th>\n",
       "      <th>geometry</th>\n",
       "      <th>speed</th>\n",
       "      <th>speed (ft/min)</th>\n",
       "    </tr>\n",
       "    <tr>\n",
       "      <th>t</th>\n",
       "      <th></th>\n",
       "      <th></th>\n",
       "      <th></th>\n",
       "    </tr>\n",
       "  </thead>\n",
       "  <tbody>\n",
       "    <tr>\n",
       "      <th>2023-07-01 12:00:00</th>\n",
       "      <td>POINT (0.000 0.000)</td>\n",
       "      <td>1.000000</td>\n",
       "      <td>196.850394</td>\n",
       "    </tr>\n",
       "    <tr>\n",
       "      <th>2023-07-01 12:00:06</th>\n",
       "      <td>POINT (6.000 0.000)</td>\n",
       "      <td>1.000000</td>\n",
       "      <td>196.850394</td>\n",
       "    </tr>\n",
       "    <tr>\n",
       "      <th>2023-07-01 12:00:11</th>\n",
       "      <td>POINT (6.000 6.000)</td>\n",
       "      <td>1.200000</td>\n",
       "      <td>236.220472</td>\n",
       "    </tr>\n",
       "    <tr>\n",
       "      <th>2023-07-01 12:00:14</th>\n",
       "      <td>POINT (9.000 9.000)</td>\n",
       "      <td>1.414214</td>\n",
       "      <td>278.388497</td>\n",
       "    </tr>\n",
       "  </tbody>\n",
       "</table>\n",
       "</div>"
      ],
      "text/plain": [
       "                                geometry     speed  speed (ft/min)\n",
       "t                                                                 \n",
       "2023-07-01 12:00:00  POINT (0.000 0.000)  1.000000      196.850394\n",
       "2023-07-01 12:00:06  POINT (6.000 0.000)  1.000000      196.850394\n",
       "2023-07-01 12:00:11  POINT (6.000 6.000)  1.200000      236.220472\n",
       "2023-07-01 12:00:14  POINT (9.000 9.000)  1.414214      278.388497"
      ]
     },
     "execution_count": 20,
     "metadata": {},
     "output_type": "execute_result"
    }
   ],
   "source": [
    "# 添加自定义定单位的速度列\n",
    "toy_traj.add_speed(overwrite=True, name=\"speed (ft/min)\", units=(\"ft\", \"min\"))\n",
    "toy_traj.df"
   ]
  },
  {
   "cell_type": "code",
   "execution_count": 21,
   "metadata": {
    "execution": {
     "iopub.execute_input": "2023-08-01T14:05:09.159065Z",
     "iopub.status.busy": "2023-08-01T14:05:09.158061Z",
     "iopub.status.idle": "2023-08-01T14:05:09.219146Z",
     "shell.execute_reply": "2023-08-01T14:05:09.217822Z",
     "shell.execute_reply.started": "2023-08-01T14:05:09.159018Z"
    },
    "scrolled": true,
    "tags": []
   },
   "outputs": [
    {
     "data": {
      "text/html": [
       "<div>\n",
       "<style scoped>\n",
       "    .dataframe tbody tr th:only-of-type {\n",
       "        vertical-align: middle;\n",
       "    }\n",
       "\n",
       "    .dataframe tbody tr th {\n",
       "        vertical-align: top;\n",
       "    }\n",
       "\n",
       "    .dataframe thead th {\n",
       "        text-align: right;\n",
       "    }\n",
       "</style>\n",
       "<table border=\"1\" class=\"dataframe\">\n",
       "  <thead>\n",
       "    <tr style=\"text-align: right;\">\n",
       "      <th></th>\n",
       "      <th>geometry</th>\n",
       "      <th>speed</th>\n",
       "      <th>speed (ft/min)</th>\n",
       "      <th>distance (m)</th>\n",
       "      <th>direction</th>\n",
       "      <th>timedelta</th>\n",
       "      <th>angular_difference</th>\n",
       "      <th>acceleration (mph/s)</th>\n",
       "    </tr>\n",
       "    <tr>\n",
       "      <th>t</th>\n",
       "      <th></th>\n",
       "      <th></th>\n",
       "      <th></th>\n",
       "      <th></th>\n",
       "      <th></th>\n",
       "      <th></th>\n",
       "      <th></th>\n",
       "      <th></th>\n",
       "    </tr>\n",
       "  </thead>\n",
       "  <tbody>\n",
       "    <tr>\n",
       "      <th>2023-07-01 12:00:00</th>\n",
       "      <td>POINT (0.000 0.000)</td>\n",
       "      <td>1.000000</td>\n",
       "      <td>196.850394</td>\n",
       "      <td>0.000000</td>\n",
       "      <td>90.0</td>\n",
       "      <td>NaT</td>\n",
       "      <td>0.0</td>\n",
       "      <td>0.000000</td>\n",
       "    </tr>\n",
       "    <tr>\n",
       "      <th>2023-07-01 12:00:06</th>\n",
       "      <td>POINT (6.000 0.000)</td>\n",
       "      <td>1.000000</td>\n",
       "      <td>196.850394</td>\n",
       "      <td>6.000000</td>\n",
       "      <td>90.0</td>\n",
       "      <td>0 days 00:00:06</td>\n",
       "      <td>0.0</td>\n",
       "      <td>0.000000</td>\n",
       "    </tr>\n",
       "    <tr>\n",
       "      <th>2023-07-01 12:00:11</th>\n",
       "      <td>POINT (6.000 6.000)</td>\n",
       "      <td>1.200000</td>\n",
       "      <td>236.220472</td>\n",
       "      <td>6.000000</td>\n",
       "      <td>0.0</td>\n",
       "      <td>0 days 00:00:05</td>\n",
       "      <td>90.0</td>\n",
       "      <td>0.089477</td>\n",
       "    </tr>\n",
       "    <tr>\n",
       "      <th>2023-07-01 12:00:14</th>\n",
       "      <td>POINT (9.000 9.000)</td>\n",
       "      <td>1.414214</td>\n",
       "      <td>278.388497</td>\n",
       "      <td>4.242641</td>\n",
       "      <td>45.0</td>\n",
       "      <td>0 days 00:00:03</td>\n",
       "      <td>45.0</td>\n",
       "      <td>0.159727</td>\n",
       "    </tr>\n",
       "  </tbody>\n",
       "</table>\n",
       "</div>"
      ],
      "text/plain": [
       "                                geometry     speed  speed (ft/min)  \\\n",
       "t                                                                    \n",
       "2023-07-01 12:00:00  POINT (0.000 0.000)  1.000000      196.850394   \n",
       "2023-07-01 12:00:06  POINT (6.000 0.000)  1.000000      196.850394   \n",
       "2023-07-01 12:00:11  POINT (6.000 6.000)  1.200000      236.220472   \n",
       "2023-07-01 12:00:14  POINT (9.000 9.000)  1.414214      278.388497   \n",
       "\n",
       "                     distance (m)  direction       timedelta  \\\n",
       "t                                                              \n",
       "2023-07-01 12:00:00      0.000000       90.0             NaT   \n",
       "2023-07-01 12:00:06      6.000000       90.0 0 days 00:00:06   \n",
       "2023-07-01 12:00:11      6.000000        0.0 0 days 00:00:05   \n",
       "2023-07-01 12:00:14      4.242641       45.0 0 days 00:00:03   \n",
       "\n",
       "                     angular_difference  acceleration (mph/s)  \n",
       "t                                                              \n",
       "2023-07-01 12:00:00                 0.0              0.000000  \n",
       "2023-07-01 12:00:06                 0.0              0.000000  \n",
       "2023-07-01 12:00:11                90.0              0.089477  \n",
       "2023-07-01 12:00:14                45.0              0.159727  "
      ]
     },
     "execution_count": 21,
     "metadata": {},
     "output_type": "execute_result"
    }
   ],
   "source": [
    "# 其他列的添加\n",
    "toy_traj.add_distance(overwrite=True, name=\"distance (m)\", units=\"m\")\n",
    "toy_traj.add_direction(overwrite=True)\n",
    "toy_traj.add_timedelta(overwrite=True)\n",
    "toy_traj.add_angular_difference(overwrite=True)\n",
    "toy_traj.add_acceleration(overwrite=True, name=\"acceleration (mph/s)\", units=(\"mi\", \"h\", \"s\"))\n",
    "toy_traj.df"
   ]
  },
  {
   "cell_type": "code",
   "execution_count": 22,
   "metadata": {
    "execution": {
     "iopub.execute_input": "2023-08-01T14:05:09.221032Z",
     "iopub.status.busy": "2023-08-01T14:05:09.220646Z",
     "iopub.status.idle": "2023-08-01T14:05:09.562773Z",
     "shell.execute_reply": "2023-08-01T14:05:09.561767Z",
     "shell.execute_reply.started": "2023-08-01T14:05:09.220987Z"
    },
    "scrolled": true,
    "tags": []
   },
   "outputs": [
    {
     "data": {
      "text/plain": [
       "<Axes: >"
      ]
     },
     "execution_count": 22,
     "metadata": {},
     "output_type": "execute_result"
    },
    {
     "data": {
      "image/png": "[encoded data removed]",
      "text/plain": [
       "<Figure size 900x300 with 2 Axes>"
      ]
     },
     "metadata": {},
     "output_type": "display_data"
    }
   ],
   "source": [
    "# 可视化某列结果绘制结果\n",
    "toy_traj.plot(column='speed', linewidth=5, capstyle='round', figsize=(9,3), legend=True, vmax=20)"
   ]
  },
  {
   "cell_type": "markdown",
   "metadata": {},
   "source": [
    "### 1.2.2 轨迹位置提取函数\n",
    "\n",
    "MovingPandas提供add_speed、add_distance、add_direction、add_timedelta、add_timedelta和add_acceleration等轨迹位置提取函数用于提取轨迹位置相关信息数据。具体函数介绍如下：\n",
    "\n",
    "+ `get_start_location()`: 该函数用于获取移动对象的起始位置。它返回移动对象的起始位置坐标。\n",
    "+ `get_end_location()`: 该函数用于获取移动对象的结束位置。它返回移动对象的结束位置坐标。\n",
    "+ `get_position_at(t, method=\"interpolated\")`: 该函数用于在给定的时间点（t）处获取移动对象的位置。参数t表示所需位置的时间点，而可选的参数method指定了用于获取位置的方法，默认为\"interpolated\"，表示使用插值方法获取位置。\n",
    "+ `get_segment_between(t1, t2)`: 这个函数用于获取两个给定时间点（t1和t2）之间的移动对象的片段。它返回包含这段时间内移动对象的子集。\n",
    "+ `clip(polygon, point_based=False)`: 该函数用于剪裁移动对象，使其仅保留在指定多边形区域内的部分。参数polygon表示用于剪裁的多边形区域，而可选的参数point_based指定剪裁是否基于点而不是线段。默认情况下，剪裁是基于线段的。此外，MovingPandas也提供了intersection函数来算轨迹数据与空间几何图形之间的交集，效果类似clip函数，具体使用可以参考官方文档。\n",
    "\n",
    "以下代码详细介绍了这些函数的使用。"
   ]
  },
  {
   "cell_type": "code",
   "execution_count": 23,
   "metadata": {
    "execution": {
     "iopub.execute_input": "2023-08-01T14:05:09.564345Z",
     "iopub.status.busy": "2023-08-01T14:05:09.563926Z",
     "iopub.status.idle": "2023-08-01T14:05:09.587758Z",
     "shell.execute_reply": "2023-08-01T14:05:09.585793Z",
     "shell.execute_reply.started": "2023-08-01T14:05:09.564321Z"
    },
    "scrolled": true,
    "tags": []
   },
   "outputs": [
    {
     "data": {
      "text/plain": [
       "Trajectory 1 (2023-07-01 12:00:00 to 2023-07-01 12:19:14) | Size: 4 | Length: 16.2m\n",
       "Bounds: (0.0, 0.0, 9.0, 9.0)\n",
       "LINESTRING (0 0, 6 0, 6 6, 9 9)"
      ]
     },
     "execution_count": 23,
     "metadata": {},
     "output_type": "execute_result"
    }
   ],
   "source": [
    "# 创建轨迹\n",
    "df = pd.DataFrame([\n",
    "  {'geometry':Point(0,0), 't':datetime(2023,7,1,12,0,0)},\n",
    "  {'geometry':Point(6,0), 't':datetime(2023,7,1,12,6,6)},\n",
    "  {'geometry':Point(6,6), 't':datetime(2023,7,1,12,10,11)},\n",
    "  {'geometry':Point(9,9), 't':datetime(2023,7,1,12,19,14)}\n",
    "]).set_index('t')\n",
    "gdf = GeoDataFrame(df, crs='EPSG:3857')\n",
    "toy_traj = mpd.Trajectory(gdf, 1)\n",
    "toy_traj"
   ]
  },
  {
   "cell_type": "markdown",
   "metadata": {},
   "source": [
    "**起始位置和结束位置**"
   ]
  },
  {
   "cell_type": "code",
   "execution_count": 24,
   "metadata": {
    "execution": {
     "iopub.execute_input": "2023-08-01T14:05:09.590632Z",
     "iopub.status.busy": "2023-08-01T14:05:09.589594Z",
     "iopub.status.idle": "2023-08-01T14:05:09.890983Z",
     "shell.execute_reply": "2023-08-01T14:05:09.890094Z",
     "shell.execute_reply.started": "2023-08-01T14:05:09.590602Z"
    },
    "scrolled": true,
    "tags": []
   },
   "outputs": [
    {
     "data": {
      "text/plain": [
       "<Axes: >"
      ]
     },
     "execution_count": 24,
     "metadata": {},
     "output_type": "execute_result"
    },
    {
     "data": {
      "image/png": "[encoded data removed]",
      "text/plain": [
       "<Figure size 640x480 with 1 Axes>"
      ]
     },
     "metadata": {},
     "output_type": "display_data"
    }
   ],
   "source": [
    "ax = toy_traj.plot()\n",
    "# 提取轨迹起始点和结束点\n",
    "gpd.GeoSeries(toy_traj.get_start_location()).plot(ax=ax, color='blue')\n",
    "gpd.GeoSeries(toy_traj.get_end_location()).plot(ax=ax, color='red')"
   ]
  },
  {
   "cell_type": "markdown",
   "metadata": {},
   "source": [
    "**中间位置**"
   ]
  },
  {
   "cell_type": "code",
   "execution_count": 25,
   "metadata": {
    "execution": {
     "iopub.execute_input": "2023-08-01T14:05:09.892440Z",
     "iopub.status.busy": "2023-08-01T14:05:09.892163Z",
     "iopub.status.idle": "2023-08-01T14:05:09.910120Z",
     "shell.execute_reply": "2023-08-01T14:05:09.908891Z",
     "shell.execute_reply.started": "2023-08-01T14:05:09.892415Z"
    },
    "scrolled": true,
    "tags": []
   },
   "outputs": [
    {
     "name": "stdout",
     "output_type": "stream",
     "text": [
      "POINT (6 0)\r\n",
      "POINT (5.9016393442622945 0)\r\n",
      "POINT (0 0)\r\n",
      "POINT (6 0)\r\n"
     ]
    }
   ],
   "source": [
    "# 提取轨迹中的一个时间点的位置\n",
    "t = datetime(2023,7,1,12,6,0)\n",
    "# 改时间点不同位置信息获取方式\n",
    "print(toy_traj.get_position_at(t, method=\"nearest\"))\n",
    "print(toy_traj.get_position_at(t, method=\"interpolated\"))\n",
    "print(toy_traj.get_position_at(t, method=\"ffill\"))\n",
    "print(toy_traj.get_position_at(t, method=\"bfill\"))\n"
   ]
  },
  {
   "cell_type": "code",
   "execution_count": 26,
   "metadata": {
    "execution": {
     "iopub.execute_input": "2023-08-01T14:05:09.913451Z",
     "iopub.status.busy": "2023-08-01T14:05:09.912944Z",
     "iopub.status.idle": "2023-08-01T14:05:10.194957Z",
     "shell.execute_reply": "2023-08-01T14:05:10.193944Z",
     "shell.execute_reply.started": "2023-08-01T14:05:09.913413Z"
    },
    "scrolled": true,
    "tags": []
   },
   "outputs": [
    {
     "data": {
      "text/plain": [
       "<Axes: >"
      ]
     },
     "execution_count": 26,
     "metadata": {},
     "output_type": "execute_result"
    },
    {
     "data": {
      "image/png": "[encoded data removed]",
      "text/plain": [
       "<Figure size 640x480 with 1 Axes>"
      ]
     },
     "metadata": {},
     "output_type": "display_data"
    }
   ],
   "source": [
    "point = toy_traj.get_position_at(t, method=\"interpolated\")\n",
    "ax = toy_traj.plot()\n",
    "gpd.GeoSeries(point).plot(ax=ax, color='red', markersize=100)"
   ]
  },
  {
   "cell_type": "markdown",
   "metadata": {},
   "source": [
    "**轨迹片段**"
   ]
  },
  {
   "cell_type": "code",
   "execution_count": 27,
   "metadata": {
    "execution": {
     "iopub.execute_input": "2023-08-01T14:05:10.196731Z",
     "iopub.status.busy": "2023-08-01T14:05:10.196260Z",
     "iopub.status.idle": "2023-08-01T14:05:10.210520Z",
     "shell.execute_reply": "2023-08-01T14:05:10.209374Z",
     "shell.execute_reply.started": "2023-08-01T14:05:10.196701Z"
    },
    "scrolled": true,
    "tags": []
   },
   "outputs": [
    {
     "name": "stdout",
     "output_type": "stream",
     "text": [
      "Trajectory 1_2023-07-01 12:06:00 (2023-07-01 12:06:06 to 2023-07-01 12:10:11) | Size: 2 | Length: 6.0m\r\n",
      "Bounds: (6.0, 0.0, 6.0, 6.0)\r\n",
      "LINESTRING (6 0, 6 6)\r\n"
     ]
    }
   ],
   "source": [
    "# 提取轨迹中的一个片段\n",
    "segment = toy_traj.get_segment_between(datetime(2023,7,1,12,6,0), datetime(2023,7,1,12,12,0))\n",
    "print(segment)"
   ]
  },
  {
   "cell_type": "code",
   "execution_count": 28,
   "metadata": {
    "execution": {
     "iopub.execute_input": "2023-08-01T14:05:10.216634Z",
     "iopub.status.busy": "2023-08-01T14:05:10.215750Z",
     "iopub.status.idle": "2023-08-01T14:05:10.504166Z",
     "shell.execute_reply": "2023-08-01T14:05:10.502984Z",
     "shell.execute_reply.started": "2023-08-01T14:05:10.216574Z"
    },
    "scrolled": true
   },
   "outputs": [
    {
     "data": {
      "text/plain": [
       "<Axes: >"
      ]
     },
     "execution_count": 28,
     "metadata": {},
     "output_type": "execute_result"
    },
    {
     "data": {
      "image/png": "[encoded data removed]",
      "text/plain": [
       "<Figure size 640x480 with 1 Axes>"
      ]
     },
     "metadata": {},
     "output_type": "display_data"
    }
   ],
   "source": [
    "ax = toy_traj.plot()\n",
    "segment.plot(ax=ax, color='red', linewidth=5)"
   ]
  },
  {
   "cell_type": "markdown",
   "metadata": {},
   "source": [
    "**轨迹区域**"
   ]
  },
  {
   "cell_type": "code",
   "execution_count": 29,
   "metadata": {
    "execution": {
     "iopub.execute_input": "2023-08-01T14:05:10.506449Z",
     "iopub.status.busy": "2023-08-01T14:05:10.505438Z",
     "iopub.status.idle": "2023-08-01T14:05:10.511254Z",
     "shell.execute_reply": "2023-08-01T14:05:10.510340Z",
     "shell.execute_reply.started": "2023-08-01T14:05:10.506394Z"
    },
    "scrolled": true,
    "tags": []
   },
   "outputs": [],
   "source": [
    "xmin, xmax, ymin, ymax = 2, 8, -10, 5\n",
    "# 设置区域\n",
    "polygon = Polygon([(xmin, ymin), (xmin, ymax), (xmax, ymax), (xmax, ymin), (xmin, ymin)])"
   ]
  },
  {
   "cell_type": "code",
   "execution_count": 30,
   "metadata": {
    "execution": {
     "iopub.execute_input": "2023-08-01T14:05:10.512767Z",
     "iopub.status.busy": "2023-08-01T14:05:10.512215Z",
     "iopub.status.idle": "2023-08-01T14:05:10.711251Z",
     "shell.execute_reply": "2023-08-01T14:05:10.709922Z",
     "shell.execute_reply.started": "2023-08-01T14:05:10.512739Z"
    },
    "scrolled": true,
    "tags": []
   },
   "outputs": [
    {
     "data": {
      "text/plain": [
       "TrajectoryCollection with 1 trajectories"
      ]
     },
     "execution_count": 30,
     "metadata": {},
     "output_type": "execute_result"
    }
   ],
   "source": [
    "# 提取位于该区域的轨迹\n",
    "intersections = toy_traj.clip(polygon)\n",
    "intersections"
   ]
  },
  {
   "cell_type": "code",
   "execution_count": 31,
   "metadata": {
    "execution": {
     "iopub.execute_input": "2023-08-01T14:05:10.712805Z",
     "iopub.status.busy": "2023-08-01T14:05:10.712385Z",
     "iopub.status.idle": "2023-08-01T14:05:11.074265Z",
     "shell.execute_reply": "2023-08-01T14:05:11.073392Z",
     "shell.execute_reply.started": "2023-08-01T14:05:10.712780Z"
    },
    "scrolled": true,
    "tags": []
   },
   "outputs": [
    {
     "data": {
      "text/plain": [
       "<Axes: >"
      ]
     },
     "execution_count": 31,
     "metadata": {},
     "output_type": "execute_result"
    },
    {
     "data": {
      "image/png": "[encoded data removed]",
      "text/plain": [
       "<Figure size 640x480 with 1 Axes>"
      ]
     },
     "metadata": {},
     "output_type": "display_data"
    }
   ],
   "source": [
    "# 绘制轨迹区域\n",
    "ax = toy_traj.plot()\n",
    "gpd.GeoSeries(polygon).plot(ax=ax, color='lightgray')\n",
    "intersections.plot(ax=ax, color='red', linewidth=5, capstyle='round')"
   ]
  },
  {
   "cell_type": "code",
   "execution_count": 32,
   "metadata": {
    "execution": {
     "iopub.execute_input": "2023-08-01T14:05:11.076383Z",
     "iopub.status.busy": "2023-08-01T14:05:11.075760Z",
     "iopub.status.idle": "2023-08-01T14:05:11.384587Z",
     "shell.execute_reply": "2023-08-01T14:05:11.383194Z",
     "shell.execute_reply.started": "2023-08-01T14:05:11.076340Z"
    },
    "scrolled": true,
    "tags": []
   },
   "outputs": [
    {
     "data": {
      "text/plain": [
       "<Axes: >"
      ]
     },
     "execution_count": 32,
     "metadata": {},
     "output_type": "execute_result"
    },
    {
     "data": {
      "image/png": "[encoded data removed]",
      "text/plain": [
       "<Figure size 640x480 with 1 Axes>"
      ]
     },
     "metadata": {},
     "output_type": "display_data"
    }
   ],
   "source": [
    "# 单独绘制轨迹区域\n",
    "intersections = toy_traj.clip(polygon)\n",
    "intersections.plot()"
   ]
  },
  {
   "cell_type": "markdown",
   "metadata": {},
   "source": [
    "### 1.2.3 与GeoPandas交互\n",
    "\n",
    "MovingPandas提供to_point_gdf，to_line_gdf和to_traj_gdf函数以按照不同规则将轨迹类Trajectories和TrajectoryCollections转换回为GeoPandas的GeoDataFrames结构。这些函数解释如下：\n",
    "\n",
    "+ `to_point_gdf(return_orig_tz=False)`，将轨迹对象转换为与每个点相关的GeoDataFrame。return_orig_tz用于指定是否返回与原始时区匹配的时间戳。默认为False，时间戳会根据本地时区进行转换。\n",
    "+ `to_line_gdf()`，将轨迹对象转换为每条线相关的GeoDataFrame。\n",
    "+ `to_traj_gdf(wkt=False, agg=False)`，返回一个GeoDataFrame，其每一行表示一条轨迹。wkt用于指定是否将轨迹几何表示为Well-Known Text (WKT)格式。默认为False，返回几何对象。agg用于指定是否对轨迹进行聚合。默认为False，不进行聚合，agg可选参数见代码。"
   ]
  },
  {
   "cell_type": "code",
   "execution_count": 33,
   "metadata": {
    "execution": {
     "iopub.execute_input": "2023-08-01T14:05:11.386868Z",
     "iopub.status.busy": "2023-08-01T14:05:11.386363Z",
     "iopub.status.idle": "2023-08-01T14:05:11.595004Z",
     "shell.execute_reply": "2023-08-01T14:05:11.594079Z",
     "shell.execute_reply.started": "2023-08-01T14:05:11.386830Z"
    },
    "scrolled": true,
    "tags": []
   },
   "outputs": [
    {
     "name": "stdout",
     "output_type": "stream",
     "text": [
      "TrajectoryCollection with 5 trajectories\r\n"
     ]
    }
   ],
   "source": [
    "# 读取数据\n",
    "df = pd.read_csv('data/geolife_small.csv', delimiter=';')\n",
    "df.head()\n",
    "# 转换为traj_collection对象\n",
    "traj_collection = mpd.TrajectoryCollection(df, 'trajectory_id', t='t', x='X', y='Y')\n",
    "print(traj_collection)"
   ]
  },
  {
   "cell_type": "code",
   "execution_count": 34,
   "metadata": {
    "execution": {
     "iopub.execute_input": "2023-08-01T14:05:11.596434Z",
     "iopub.status.busy": "2023-08-01T14:05:11.596090Z",
     "iopub.status.idle": "2023-08-01T14:05:11.616990Z",
     "shell.execute_reply": "2023-08-01T14:05:11.615414Z",
     "shell.execute_reply.started": "2023-08-01T14:05:11.596410Z"
    },
    "scrolled": true
   },
   "outputs": [
    {
     "data": {
      "text/html": [
       "<div>\n",
       "<style scoped>\n",
       "    .dataframe tbody tr th:only-of-type {\n",
       "        vertical-align: middle;\n",
       "    }\n",
       "\n",
       "    .dataframe tbody tr th {\n",
       "        vertical-align: top;\n",
       "    }\n",
       "\n",
       "    .dataframe thead th {\n",
       "        text-align: right;\n",
       "    }\n",
       "</style>\n",
       "<table border=\"1\" class=\"dataframe\">\n",
       "  <thead>\n",
       "    <tr style=\"text-align: right;\">\n",
       "      <th></th>\n",
       "      <th>fid</th>\n",
       "      <th>id</th>\n",
       "      <th>sequence</th>\n",
       "      <th>trajectory_id</th>\n",
       "      <th>tracker</th>\n",
       "      <th>geometry</th>\n",
       "    </tr>\n",
       "    <tr>\n",
       "      <th>t</th>\n",
       "      <th></th>\n",
       "      <th></th>\n",
       "      <th></th>\n",
       "      <th></th>\n",
       "      <th></th>\n",
       "      <th></th>\n",
       "    </tr>\n",
       "  </thead>\n",
       "  <tbody>\n",
       "    <tr>\n",
       "      <th>2008-12-11 04:42:14</th>\n",
       "      <td>1</td>\n",
       "      <td>1</td>\n",
       "      <td>1</td>\n",
       "      <td>1</td>\n",
       "      <td>19</td>\n",
       "      <td>POINT (116.39131 39.89857)</td>\n",
       "    </tr>\n",
       "    <tr>\n",
       "      <th>2008-12-11 04:42:16</th>\n",
       "      <td>2</td>\n",
       "      <td>2</td>\n",
       "      <td>2</td>\n",
       "      <td>1</td>\n",
       "      <td>19</td>\n",
       "      <td>POINT (116.39132 39.89862)</td>\n",
       "    </tr>\n",
       "    <tr>\n",
       "      <th>2008-12-11 04:43:26</th>\n",
       "      <td>3</td>\n",
       "      <td>3</td>\n",
       "      <td>3</td>\n",
       "      <td>1</td>\n",
       "      <td>19</td>\n",
       "      <td>POINT (116.39093 39.89861)</td>\n",
       "    </tr>\n",
       "    <tr>\n",
       "      <th>2008-12-11 04:43:32</th>\n",
       "      <td>4</td>\n",
       "      <td>4</td>\n",
       "      <td>4</td>\n",
       "      <td>1</td>\n",
       "      <td>19</td>\n",
       "      <td>POINT (116.39083 39.89863)</td>\n",
       "    </tr>\n",
       "    <tr>\n",
       "      <th>2008-12-11 04:43:47</th>\n",
       "      <td>5</td>\n",
       "      <td>5</td>\n",
       "      <td>5</td>\n",
       "      <td>1</td>\n",
       "      <td>19</td>\n",
       "      <td>POINT (116.38941 39.89872)</td>\n",
       "    </tr>\n",
       "  </tbody>\n",
       "</table>\n",
       "</div>"
      ],
      "text/plain": [
       "                     fid  id  sequence  trajectory_id  tracker  \\\n",
       "t                                                                \n",
       "2008-12-11 04:42:14    1   1         1              1       19   \n",
       "2008-12-11 04:42:16    2   2         2              1       19   \n",
       "2008-12-11 04:43:26    3   3         3              1       19   \n",
       "2008-12-11 04:43:32    4   4         4              1       19   \n",
       "2008-12-11 04:43:47    5   5         5              1       19   \n",
       "\n",
       "                                       geometry  \n",
       "t                                                \n",
       "2008-12-11 04:42:14  POINT (116.39131 39.89857)  \n",
       "2008-12-11 04:42:16  POINT (116.39132 39.89862)  \n",
       "2008-12-11 04:43:26  POINT (116.39093 39.89861)  \n",
       "2008-12-11 04:43:32  POINT (116.39083 39.89863)  \n",
       "2008-12-11 04:43:47  POINT (116.38941 39.89872)  "
      ]
     },
     "execution_count": 34,
     "metadata": {},
     "output_type": "execute_result"
    }
   ],
   "source": [
    "# 转换为点GeoDataFrame\n",
    "traj_collection.to_point_gdf().head()"
   ]
  },
  {
   "cell_type": "code",
   "execution_count": 35,
   "metadata": {
    "execution": {
     "iopub.execute_input": "2023-08-01T14:05:11.619600Z",
     "iopub.status.busy": "2023-08-01T14:05:11.619079Z",
     "iopub.status.idle": "2023-08-01T14:05:12.125655Z",
     "shell.execute_reply": "2023-08-01T14:05:12.124824Z",
     "shell.execute_reply.started": "2023-08-01T14:05:11.619574Z"
    },
    "scrolled": true,
    "tags": []
   },
   "outputs": [
    {
     "data": {
      "text/html": [
       "<div>\n",
       "<style scoped>\n",
       "    .dataframe tbody tr th:only-of-type {\n",
       "        vertical-align: middle;\n",
       "    }\n",
       "\n",
       "    .dataframe tbody tr th {\n",
       "        vertical-align: top;\n",
       "    }\n",
       "\n",
       "    .dataframe thead th {\n",
       "        text-align: right;\n",
       "    }\n",
       "</style>\n",
       "<table border=\"1\" class=\"dataframe\">\n",
       "  <thead>\n",
       "    <tr style=\"text-align: right;\">\n",
       "      <th></th>\n",
       "      <th>fid</th>\n",
       "      <th>id</th>\n",
       "      <th>sequence</th>\n",
       "      <th>trajectory_id</th>\n",
       "      <th>tracker</th>\n",
       "      <th>t</th>\n",
       "      <th>prev_t</th>\n",
       "      <th>geometry</th>\n",
       "    </tr>\n",
       "  </thead>\n",
       "  <tbody>\n",
       "    <tr>\n",
       "      <th>0</th>\n",
       "      <td>2</td>\n",
       "      <td>2</td>\n",
       "      <td>2</td>\n",
       "      <td>1</td>\n",
       "      <td>19</td>\n",
       "      <td>2008-12-11 04:42:16</td>\n",
       "      <td>2008-12-11 04:42:14</td>\n",
       "      <td>LINESTRING (116.39131 39.89857, 116.39132 39.8...</td>\n",
       "    </tr>\n",
       "    <tr>\n",
       "      <th>1</th>\n",
       "      <td>3</td>\n",
       "      <td>3</td>\n",
       "      <td>3</td>\n",
       "      <td>1</td>\n",
       "      <td>19</td>\n",
       "      <td>2008-12-11 04:43:26</td>\n",
       "      <td>2008-12-11 04:42:16</td>\n",
       "      <td>LINESTRING (116.39132 39.89862, 116.39093 39.8...</td>\n",
       "    </tr>\n",
       "    <tr>\n",
       "      <th>2</th>\n",
       "      <td>4</td>\n",
       "      <td>4</td>\n",
       "      <td>4</td>\n",
       "      <td>1</td>\n",
       "      <td>19</td>\n",
       "      <td>2008-12-11 04:43:32</td>\n",
       "      <td>2008-12-11 04:43:26</td>\n",
       "      <td>LINESTRING (116.39093 39.89861, 116.39083 39.8...</td>\n",
       "    </tr>\n",
       "    <tr>\n",
       "      <th>3</th>\n",
       "      <td>5</td>\n",
       "      <td>5</td>\n",
       "      <td>5</td>\n",
       "      <td>1</td>\n",
       "      <td>19</td>\n",
       "      <td>2008-12-11 04:43:47</td>\n",
       "      <td>2008-12-11 04:43:32</td>\n",
       "      <td>LINESTRING (116.39083 39.89863, 116.38941 39.8...</td>\n",
       "    </tr>\n",
       "    <tr>\n",
       "      <th>4</th>\n",
       "      <td>6</td>\n",
       "      <td>6</td>\n",
       "      <td>6</td>\n",
       "      <td>1</td>\n",
       "      <td>19</td>\n",
       "      <td>2008-12-11 04:43:50</td>\n",
       "      <td>2008-12-11 04:43:47</td>\n",
       "      <td>LINESTRING (116.38941 39.89872, 116.39052 39.8...</td>\n",
       "    </tr>\n",
       "  </tbody>\n",
       "</table>\n",
       "</div>"
      ],
      "text/plain": [
       "   fid  id  sequence  trajectory_id  tracker                   t  \\\n",
       "0    2   2         2              1       19 2008-12-11 04:42:16   \n",
       "1    3   3         3              1       19 2008-12-11 04:43:26   \n",
       "2    4   4         4              1       19 2008-12-11 04:43:32   \n",
       "3    5   5         5              1       19 2008-12-11 04:43:47   \n",
       "4    6   6         6              1       19 2008-12-11 04:43:50   \n",
       "\n",
       "               prev_t                                           geometry  \n",
       "0 2008-12-11 04:42:14  LINESTRING (116.39131 39.89857, 116.39132 39.8...  \n",
       "1 2008-12-11 04:42:16  LINESTRING (116.39132 39.89862, 116.39093 39.8...  \n",
       "2 2008-12-11 04:43:26  LINESTRING (116.39093 39.89861, 116.39083 39.8...  \n",
       "3 2008-12-11 04:43:32  LINESTRING (116.39083 39.89863, 116.38941 39.8...  \n",
       "4 2008-12-11 04:43:47  LINESTRING (116.38941 39.89872, 116.39052 39.8...  "
      ]
     },
     "execution_count": 35,
     "metadata": {},
     "output_type": "execute_result"
    }
   ],
   "source": [
    "# 转换为线GeoDataFrame\n",
    "traj_collection.to_line_gdf().head()"
   ]
  },
  {
   "cell_type": "code",
   "execution_count": 36,
   "metadata": {
    "execution": {
     "iopub.execute_input": "2023-08-01T14:05:12.127476Z",
     "iopub.status.busy": "2023-08-01T14:05:12.126759Z",
     "iopub.status.idle": "2023-08-01T14:05:12.839453Z",
     "shell.execute_reply": "2023-08-01T14:05:12.838535Z",
     "shell.execute_reply.started": "2023-08-01T14:05:12.127446Z"
    },
    "scrolled": true,
    "tags": []
   },
   "outputs": [
    {
     "data": {
      "text/html": [
       "<div>\n",
       "<style scoped>\n",
       "    .dataframe tbody tr th:only-of-type {\n",
       "        vertical-align: middle;\n",
       "    }\n",
       "\n",
       "    .dataframe tbody tr th {\n",
       "        vertical-align: top;\n",
       "    }\n",
       "\n",
       "    .dataframe thead th {\n",
       "        text-align: right;\n",
       "    }\n",
       "</style>\n",
       "<table border=\"1\" class=\"dataframe\">\n",
       "  <thead>\n",
       "    <tr style=\"text-align: right;\">\n",
       "      <th></th>\n",
       "      <th>traj_id</th>\n",
       "      <th>start_t</th>\n",
       "      <th>end_t</th>\n",
       "      <th>geometry</th>\n",
       "      <th>length</th>\n",
       "      <th>direction</th>\n",
       "    </tr>\n",
       "  </thead>\n",
       "  <tbody>\n",
       "    <tr>\n",
       "      <th>0</th>\n",
       "      <td>1</td>\n",
       "      <td>2008-12-11 04:42:14</td>\n",
       "      <td>2008-12-11 05:15:46</td>\n",
       "      <td>LINESTRING (116.39131 39.89857, 116.39132 39.8...</td>\n",
       "      <td>6207.020261</td>\n",
       "      <td>186.681376</td>\n",
       "    </tr>\n",
       "    <tr>\n",
       "      <th>1</th>\n",
       "      <td>2</td>\n",
       "      <td>2009-06-29 07:02:25</td>\n",
       "      <td>2009-06-29 11:13:12</td>\n",
       "      <td>LINESTRING (116.59096 40.07196, 116.59091 40.0...</td>\n",
       "      <td>38764.575483</td>\n",
       "      <td>250.585295</td>\n",
       "    </tr>\n",
       "    <tr>\n",
       "      <th>2</th>\n",
       "      <td>3</td>\n",
       "      <td>2009-02-04 04:32:53</td>\n",
       "      <td>2009-02-04 11:20:12</td>\n",
       "      <td>LINESTRING (116.38569 39.89977, 116.38565 39.8...</td>\n",
       "      <td>12745.157506</td>\n",
       "      <td>304.115160</td>\n",
       "    </tr>\n",
       "    <tr>\n",
       "      <th>3</th>\n",
       "      <td>4</td>\n",
       "      <td>2009-03-10 10:36:45</td>\n",
       "      <td>2009-03-10 12:01:07</td>\n",
       "      <td>LINESTRING (116.38805 39.90342, 116.38804 39.9...</td>\n",
       "      <td>14363.780551</td>\n",
       "      <td>300.732843</td>\n",
       "    </tr>\n",
       "    <tr>\n",
       "      <th>4</th>\n",
       "      <td>5</td>\n",
       "      <td>2009-02-25 09:47:03</td>\n",
       "      <td>2009-02-25 14:31:24</td>\n",
       "      <td>LINESTRING (116.38526 39.90027, 116.38525 39.9...</td>\n",
       "      <td>39259.779560</td>\n",
       "      <td>305.200501</td>\n",
       "    </tr>\n",
       "  </tbody>\n",
       "</table>\n",
       "</div>"
      ],
      "text/plain": [
       "   traj_id             start_t               end_t  \\\n",
       "0        1 2008-12-11 04:42:14 2008-12-11 05:15:46   \n",
       "1        2 2009-06-29 07:02:25 2009-06-29 11:13:12   \n",
       "2        3 2009-02-04 04:32:53 2009-02-04 11:20:12   \n",
       "3        4 2009-03-10 10:36:45 2009-03-10 12:01:07   \n",
       "4        5 2009-02-25 09:47:03 2009-02-25 14:31:24   \n",
       "\n",
       "                                            geometry        length   direction  \n",
       "0  LINESTRING (116.39131 39.89857, 116.39132 39.8...   6207.020261  186.681376  \n",
       "1  LINESTRING (116.59096 40.07196, 116.59091 40.0...  38764.575483  250.585295  \n",
       "2  LINESTRING (116.38569 39.89977, 116.38565 39.8...  12745.157506  304.115160  \n",
       "3  LINESTRING (116.38805 39.90342, 116.38804 39.9...  14363.780551  300.732843  \n",
       "4  LINESTRING (116.38526 39.90027, 116.38525 39.9...  39259.779560  305.200501  "
      ]
     },
     "execution_count": 36,
     "metadata": {},
     "output_type": "execute_result"
    }
   ],
   "source": [
    "# 每条轨迹单独聚合GeoDataFrame\n",
    "traj_collection.to_traj_gdf()"
   ]
  },
  {
   "cell_type": "markdown",
   "metadata": {},
   "source": [
    "## 1.3 轨迹处理"
   ]
  },
  {
   "cell_type": "markdown",
   "metadata": {},
   "source": [
    "### 1.3.1 轨迹提取\n",
    "\n",
    "MovingPandas提供了TemporalSplitter、ObservationGapSplitter，StopSplitter，SpeedSplitter类来根据不同规则从轨迹中提取指定轨迹片段。具体如下：\n",
    "\n",
    "+ TemporalSplitter：使用规则的时间间隔将轨迹拆分为子区间。\n",
    "+ ObservationGapSplitter：根据观测时间之间的间隔将轨迹拆分为子区间。如果两个连续观测之间的间隔超过指定的阈值，则认为是该轨迹需要拆分。\n",
    "+ StopSplitter：根据停留点的定义将轨迹拆分为子区间。停留点是指轨迹在相对较小的区域内停留了一段时间。\n",
    "+ SpeedSplitter：据速度阈值将轨迹拆分为子区间。如果轨迹在某段速度低于指定阈值，则需要在此拆分轨迹。\n",
    "\n",
    "这些类都只需待处理轨迹进行初始化，然后调用split函数进行轨迹提取。具体使用见下列代码。"
   ]
  },
  {
   "cell_type": "code",
   "execution_count": 37,
   "metadata": {
    "execution": {
     "iopub.execute_input": "2023-08-01T14:05:12.841566Z",
     "iopub.status.busy": "2023-08-01T14:05:12.840486Z",
     "iopub.status.idle": "2023-08-01T14:05:13.920566Z",
     "shell.execute_reply": "2023-08-01T14:05:13.919501Z",
     "shell.execute_reply.started": "2023-08-01T14:05:12.841531Z"
    },
    "scrolled": true,
    "tags": []
   },
   "outputs": [
    {
     "data": {
      "text/html": [
       "<div>\n",
       "<style scoped>\n",
       "    .dataframe tbody tr th:only-of-type {\n",
       "        vertical-align: middle;\n",
       "    }\n",
       "\n",
       "    .dataframe tbody tr th {\n",
       "        vertical-align: top;\n",
       "    }\n",
       "\n",
       "    .dataframe thead th {\n",
       "        text-align: right;\n",
       "    }\n",
       "</style>\n",
       "<table border=\"1\" class=\"dataframe\">\n",
       "  <thead>\n",
       "    <tr style=\"text-align: right;\">\n",
       "      <th></th>\n",
       "      <th>traj_id</th>\n",
       "      <th>start_t</th>\n",
       "      <th>end_t</th>\n",
       "      <th>geometry</th>\n",
       "      <th>length</th>\n",
       "      <th>direction</th>\n",
       "    </tr>\n",
       "  </thead>\n",
       "  <tbody>\n",
       "    <tr>\n",
       "      <th>0</th>\n",
       "      <td>1</td>\n",
       "      <td>2008-12-11 04:42:14</td>\n",
       "      <td>2008-12-11 05:15:46</td>\n",
       "      <td>LINESTRING (12956620.805 4851214.113, 12956622...</td>\n",
       "      <td>8101.428690</td>\n",
       "      <td>186.679744</td>\n",
       "    </tr>\n",
       "    <tr>\n",
       "      <th>1</th>\n",
       "      <td>2</td>\n",
       "      <td>2009-06-29 07:02:25</td>\n",
       "      <td>2009-06-29 11:13:12</td>\n",
       "      <td>LINESTRING (12978845.964 4876404.973, 12978840...</td>\n",
       "      <td>50621.731208</td>\n",
       "      <td>250.500509</td>\n",
       "    </tr>\n",
       "    <tr>\n",
       "      <th>2</th>\n",
       "      <td>3</td>\n",
       "      <td>2009-02-04 04:32:53</td>\n",
       "      <td>2009-02-04 11:20:12</td>\n",
       "      <td>LINESTRING (12955995.635 4851388.236, 12955991...</td>\n",
       "      <td>16626.383723</td>\n",
       "      <td>304.099365</td>\n",
       "    </tr>\n",
       "    <tr>\n",
       "      <th>3</th>\n",
       "      <td>4</td>\n",
       "      <td>2009-03-10 10:36:45</td>\n",
       "      <td>2009-03-10 12:01:07</td>\n",
       "      <td>LINESTRING (12956258.794 4851917.156, 12956257...</td>\n",
       "      <td>18739.337154</td>\n",
       "      <td>300.716597</td>\n",
       "    </tr>\n",
       "    <tr>\n",
       "      <th>4</th>\n",
       "      <td>5</td>\n",
       "      <td>2009-02-25 09:47:03</td>\n",
       "      <td>2009-02-25 14:31:24</td>\n",
       "      <td>LINESTRING (12955947.434 4851460.354, 12955946...</td>\n",
       "      <td>51327.869585</td>\n",
       "      <td>305.185128</td>\n",
       "    </tr>\n",
       "  </tbody>\n",
       "</table>\n",
       "</div>"
      ],
      "text/plain": [
       "   traj_id             start_t               end_t  \\\n",
       "0        1 2008-12-11 04:42:14 2008-12-11 05:15:46   \n",
       "1        2 2009-06-29 07:02:25 2009-06-29 11:13:12   \n",
       "2        3 2009-02-04 04:32:53 2009-02-04 11:20:12   \n",
       "3        4 2009-03-10 10:36:45 2009-03-10 12:01:07   \n",
       "4        5 2009-02-25 09:47:03 2009-02-25 14:31:24   \n",
       "\n",
       "                                            geometry        length   direction  \n",
       "0  LINESTRING (12956620.805 4851214.113, 12956622...   8101.428690  186.679744  \n",
       "1  LINESTRING (12978845.964 4876404.973, 12978840...  50621.731208  250.500509  \n",
       "2  LINESTRING (12955995.635 4851388.236, 12955991...  16626.383723  304.099365  \n",
       "3  LINESTRING (12956258.794 4851917.156, 12956257...  18739.337154  300.716597  \n",
       "4  LINESTRING (12955947.434 4851460.354, 12955946...  51327.869585  305.185128  "
      ]
     },
     "execution_count": 37,
     "metadata": {},
     "output_type": "execute_result"
    }
   ],
   "source": [
    "import matplotlib.pyplot as plt\n",
    "\n",
    "# 读取数据\n",
    "gdf = read_file('data/geolife_small.gpkg').to_crs('EPSG:3857')\n",
    "tc = mpd.TrajectoryCollection(gdf, 'trajectory_id', t='t')\n",
    "# 共五条轨迹\n",
    "tc.to_traj_gdf()"
   ]
  },
  {
   "cell_type": "markdown",
   "metadata": {},
   "source": [
    "**TemporalSplitter**"
   ]
  },
  {
   "cell_type": "code",
   "execution_count": 38,
   "metadata": {
    "execution": {
     "iopub.execute_input": "2023-08-01T14:05:13.922145Z",
     "iopub.status.busy": "2023-08-01T14:05:13.921675Z",
     "iopub.status.idle": "2023-08-01T14:05:14.179488Z",
     "shell.execute_reply": "2023-08-01T14:05:14.178760Z",
     "shell.execute_reply.started": "2023-08-01T14:05:13.922120Z"
    },
    "scrolled": true,
    "tags": []
   },
   "outputs": [
    {
     "data": {
      "text/html": [
       "<div>\n",
       "<style scoped>\n",
       "    .dataframe tbody tr th:only-of-type {\n",
       "        vertical-align: middle;\n",
       "    }\n",
       "\n",
       "    .dataframe tbody tr th {\n",
       "        vertical-align: top;\n",
       "    }\n",
       "\n",
       "    .dataframe thead th {\n",
       "        text-align: right;\n",
       "    }\n",
       "</style>\n",
       "<table border=\"1\" class=\"dataframe\">\n",
       "  <thead>\n",
       "    <tr style=\"text-align: right;\">\n",
       "      <th></th>\n",
       "      <th>traj_id</th>\n",
       "      <th>start_t</th>\n",
       "      <th>end_t</th>\n",
       "      <th>geometry</th>\n",
       "      <th>length</th>\n",
       "      <th>direction</th>\n",
       "    </tr>\n",
       "  </thead>\n",
       "  <tbody>\n",
       "    <tr>\n",
       "      <th>0</th>\n",
       "      <td>2_2009-06-29 07:00:00</td>\n",
       "      <td>2009-06-29 07:02:25</td>\n",
       "      <td>2009-06-29 07:59:55</td>\n",
       "      <td>LINESTRING (12978845.964 4876404.973, 12978840...</td>\n",
       "      <td>40106.105641</td>\n",
       "      <td>245.123482</td>\n",
       "    </tr>\n",
       "    <tr>\n",
       "      <th>1</th>\n",
       "      <td>5_2009-02-25 10:00:00</td>\n",
       "      <td>2009-02-25 10:00:04</td>\n",
       "      <td>2009-02-25 10:54:47</td>\n",
       "      <td>LINESTRING (12955251.019 4851210.485, 12955248...</td>\n",
       "      <td>25455.673254</td>\n",
       "      <td>337.129155</td>\n",
       "    </tr>\n",
       "  </tbody>\n",
       "</table>\n",
       "</div>"
      ],
      "text/plain": [
       "                 traj_id             start_t               end_t  \\\n",
       "0  2_2009-06-29 07:00:00 2009-06-29 07:02:25 2009-06-29 07:59:55   \n",
       "1  5_2009-02-25 10:00:00 2009-02-25 10:00:04 2009-02-25 10:54:47   \n",
       "\n",
       "                                            geometry        length   direction  \n",
       "0  LINESTRING (12978845.964 4876404.973, 12978840...  40106.105641  245.123482  \n",
       "1  LINESTRING (12955251.019 4851210.485, 12955248...  25455.673254  337.129155  "
      ]
     },
     "execution_count": 38,
     "metadata": {},
     "output_type": "execute_result"
    }
   ],
   "source": [
    "# 将轨迹切分为以每小时为单位的轨迹片段，min_length表示删除轨迹长度小于该值的轨迹片段,min_lwngth取决于轨迹的单位\n",
    "split = mpd.TemporalSplitter(tc).split(mode=\"hour\", min_length=20000)\n",
    "split.to_traj_gdf()"
   ]
  },
  {
   "cell_type": "code",
   "execution_count": 39,
   "metadata": {
    "execution": {
     "iopub.execute_input": "2023-08-01T14:05:14.181215Z",
     "iopub.status.busy": "2023-08-01T14:05:14.180397Z",
     "iopub.status.idle": "2023-08-01T14:05:14.714249Z",
     "shell.execute_reply": "2023-08-01T14:05:14.712287Z",
     "shell.execute_reply.started": "2023-08-01T14:05:14.181188Z"
    },
    "scrolled": true,
    "tags": []
   },
   "outputs": [
    {
     "data": {
      "image/png": "[encoded data removed]",
      "text/plain": [
       "<Figure size 600x400 with 2 Axes>"
      ]
     },
     "metadata": {},
     "output_type": "display_data"
    }
   ],
   "source": [
    "# 绘制轨迹\n",
    "fig, axes = plt.subplots(nrows=1, ncols=len(split), figsize=(6,4))\n",
    "for i, traj in enumerate(split):\n",
    "    traj.plot(ax=axes[i], linewidth=3.0, capstyle='round', column='speed', vmax=20)"
   ]
  },
  {
   "cell_type": "markdown",
   "metadata": {},
   "source": [
    "**ObservationGapSplitter**"
   ]
  },
  {
   "cell_type": "code",
   "execution_count": 40,
   "metadata": {
    "execution": {
     "iopub.execute_input": "2023-08-01T14:05:14.716755Z",
     "iopub.status.busy": "2023-08-01T14:05:14.716077Z",
     "iopub.status.idle": "2023-08-01T14:05:15.252095Z",
     "shell.execute_reply": "2023-08-01T14:05:15.251266Z",
     "shell.execute_reply.started": "2023-08-01T14:05:14.716724Z"
    },
    "scrolled": true,
    "tags": []
   },
   "outputs": [
    {
     "data": {
      "text/html": [
       "<div>\n",
       "<style scoped>\n",
       "    .dataframe tbody tr th:only-of-type {\n",
       "        vertical-align: middle;\n",
       "    }\n",
       "\n",
       "    .dataframe tbody tr th {\n",
       "        vertical-align: top;\n",
       "    }\n",
       "\n",
       "    .dataframe thead th {\n",
       "        text-align: right;\n",
       "    }\n",
       "</style>\n",
       "<table border=\"1\" class=\"dataframe\">\n",
       "  <thead>\n",
       "    <tr style=\"text-align: right;\">\n",
       "      <th></th>\n",
       "      <th>traj_id</th>\n",
       "      <th>start_t</th>\n",
       "      <th>end_t</th>\n",
       "      <th>geometry</th>\n",
       "      <th>length</th>\n",
       "      <th>direction</th>\n",
       "    </tr>\n",
       "  </thead>\n",
       "  <tbody>\n",
       "    <tr>\n",
       "      <th>0</th>\n",
       "      <td>1_0</td>\n",
       "      <td>2008-12-11 04:42:14</td>\n",
       "      <td>2008-12-11 05:15:46</td>\n",
       "      <td>LINESTRING (12956620.805 4851214.113, 12956622...</td>\n",
       "      <td>8101.428690</td>\n",
       "      <td>186.679744</td>\n",
       "    </tr>\n",
       "    <tr>\n",
       "      <th>1</th>\n",
       "      <td>2_0</td>\n",
       "      <td>2009-06-29 07:02:25</td>\n",
       "      <td>2009-06-29 08:20:15</td>\n",
       "      <td>LINESTRING (12978845.964 4876404.973, 12978840...</td>\n",
       "      <td>47469.321958</td>\n",
       "      <td>252.952783</td>\n",
       "    </tr>\n",
       "    <tr>\n",
       "      <th>2</th>\n",
       "      <td>2_1</td>\n",
       "      <td>2009-06-29 10:57:17</td>\n",
       "      <td>2009-06-29 11:13:12</td>\n",
       "      <td>LINESTRING (12948649.439 4867034.108, 12948650...</td>\n",
       "      <td>3040.348707</td>\n",
       "      <td>139.615947</td>\n",
       "    </tr>\n",
       "    <tr>\n",
       "      <th>3</th>\n",
       "      <td>3_0</td>\n",
       "      <td>2009-02-04 04:32:53</td>\n",
       "      <td>2009-02-04 04:35:03</td>\n",
       "      <td>LINESTRING (12955995.635 4851388.236, 12955991...</td>\n",
       "      <td>311.729231</td>\n",
       "      <td>42.937430</td>\n",
       "    </tr>\n",
       "    <tr>\n",
       "      <th>4</th>\n",
       "      <td>3_1</td>\n",
       "      <td>2009-02-04 10:03:21</td>\n",
       "      <td>2009-02-04 11:20:12</td>\n",
       "      <td>LINESTRING (12956011.999 4851497.646, 12956043...</td>\n",
       "      <td>16228.264596</td>\n",
       "      <td>303.229612</td>\n",
       "    </tr>\n",
       "    <tr>\n",
       "      <th>5</th>\n",
       "      <td>4_0</td>\n",
       "      <td>2009-03-10 10:36:45</td>\n",
       "      <td>2009-03-10 12:01:07</td>\n",
       "      <td>LINESTRING (12956258.794 4851917.156, 12956257...</td>\n",
       "      <td>18739.337154</td>\n",
       "      <td>300.716597</td>\n",
       "    </tr>\n",
       "    <tr>\n",
       "      <th>6</th>\n",
       "      <td>5_0</td>\n",
       "      <td>2009-02-25 09:47:03</td>\n",
       "      <td>2009-02-25 10:54:47</td>\n",
       "      <td>LINESTRING (12955947.434 4851460.354, 12955946...</td>\n",
       "      <td>27149.500896</td>\n",
       "      <td>335.377580</td>\n",
       "    </tr>\n",
       "    <tr>\n",
       "      <th>7</th>\n",
       "      <td>5_1</td>\n",
       "      <td>2009-02-25 13:30:22</td>\n",
       "      <td>2009-02-25 14:31:24</td>\n",
       "      <td>LINESTRING (12945965.972 4873487.115, 12945952...</td>\n",
       "      <td>24074.321167</td>\n",
       "      <td>165.727187</td>\n",
       "    </tr>\n",
       "  </tbody>\n",
       "</table>\n",
       "</div>"
      ],
      "text/plain": [
       "  traj_id             start_t               end_t  \\\n",
       "0     1_0 2008-12-11 04:42:14 2008-12-11 05:15:46   \n",
       "1     2_0 2009-06-29 07:02:25 2009-06-29 08:20:15   \n",
       "2     2_1 2009-06-29 10:57:17 2009-06-29 11:13:12   \n",
       "3     3_0 2009-02-04 04:32:53 2009-02-04 04:35:03   \n",
       "4     3_1 2009-02-04 10:03:21 2009-02-04 11:20:12   \n",
       "5     4_0 2009-03-10 10:36:45 2009-03-10 12:01:07   \n",
       "6     5_0 2009-02-25 09:47:03 2009-02-25 10:54:47   \n",
       "7     5_1 2009-02-25 13:30:22 2009-02-25 14:31:24   \n",
       "\n",
       "                                            geometry        length   direction  \n",
       "0  LINESTRING (12956620.805 4851214.113, 12956622...   8101.428690  186.679744  \n",
       "1  LINESTRING (12978845.964 4876404.973, 12978840...  47469.321958  252.952783  \n",
       "2  LINESTRING (12948649.439 4867034.108, 12948650...   3040.348707  139.615947  \n",
       "3  LINESTRING (12955995.635 4851388.236, 12955991...    311.729231   42.937430  \n",
       "4  LINESTRING (12956011.999 4851497.646, 12956043...  16228.264596  303.229612  \n",
       "5  LINESTRING (12956258.794 4851917.156, 12956257...  18739.337154  300.716597  \n",
       "6  LINESTRING (12955947.434 4851460.354, 12955946...  27149.500896  335.377580  \n",
       "7  LINESTRING (12945965.972 4873487.115, 12945952...  24074.321167  165.727187  "
      ]
     },
     "execution_count": 40,
     "metadata": {},
     "output_type": "execute_result"
    }
   ],
   "source": [
    "# 如果两个连续观测超过间隔gap，如30分钟，则认为该轨迹需要拆分\n",
    "split = mpd.ObservationGapSplitter(tc).split(gap=timedelta(minutes=30),min_length=0)\n",
    "split.to_traj_gdf()"
   ]
  },
  {
   "cell_type": "markdown",
   "metadata": {},
   "source": [
    "**StopSplitter**"
   ]
  },
  {
   "cell_type": "code",
   "execution_count": 41,
   "metadata": {
    "execution": {
     "iopub.execute_input": "2023-08-01T14:05:15.254195Z",
     "iopub.status.busy": "2023-08-01T14:05:15.253396Z",
     "iopub.status.idle": "2023-08-01T14:05:15.829867Z",
     "shell.execute_reply": "2023-08-01T14:05:15.828899Z",
     "shell.execute_reply.started": "2023-08-01T14:05:15.254132Z"
    },
    "scrolled": true,
    "tags": []
   },
   "outputs": [
    {
     "data": {
      "text/html": [
       "<div>\n",
       "<style scoped>\n",
       "    .dataframe tbody tr th:only-of-type {\n",
       "        vertical-align: middle;\n",
       "    }\n",
       "\n",
       "    .dataframe tbody tr th {\n",
       "        vertical-align: top;\n",
       "    }\n",
       "\n",
       "    .dataframe thead th {\n",
       "        text-align: right;\n",
       "    }\n",
       "</style>\n",
       "<table border=\"1\" class=\"dataframe\">\n",
       "  <thead>\n",
       "    <tr style=\"text-align: right;\">\n",
       "      <th></th>\n",
       "      <th>traj_id</th>\n",
       "      <th>start_t</th>\n",
       "      <th>end_t</th>\n",
       "      <th>geometry</th>\n",
       "      <th>length</th>\n",
       "      <th>direction</th>\n",
       "    </tr>\n",
       "  </thead>\n",
       "  <tbody>\n",
       "    <tr>\n",
       "      <th>0</th>\n",
       "      <td>1_2008-12-11 04:42:14</td>\n",
       "      <td>2008-12-11 04:42:14</td>\n",
       "      <td>2008-12-11 05:15:46</td>\n",
       "      <td>LINESTRING (12956620.805 4851214.113, 12956622...</td>\n",
       "      <td>8101.428690</td>\n",
       "      <td>186.679744</td>\n",
       "    </tr>\n",
       "    <tr>\n",
       "      <th>1</th>\n",
       "      <td>2_2009-06-29 07:02:25</td>\n",
       "      <td>2009-06-29 07:02:25</td>\n",
       "      <td>2009-06-29 07:05:30</td>\n",
       "      <td>LINESTRING (12978845.964 4876404.973, 12978840...</td>\n",
       "      <td>608.233016</td>\n",
       "      <td>29.527683</td>\n",
       "    </tr>\n",
       "    <tr>\n",
       "      <th>2</th>\n",
       "      <td>2_2009-06-29 07:06:55</td>\n",
       "      <td>2009-06-29 07:06:55</td>\n",
       "      <td>2009-06-29 08:02:40</td>\n",
       "      <td>LINESTRING (12979026.970 4876730.251, 12979022...</td>\n",
       "      <td>41655.491556</td>\n",
       "      <td>246.215181</td>\n",
       "    </tr>\n",
       "    <tr>\n",
       "      <th>3</th>\n",
       "      <td>2_2009-06-29 08:03:40</td>\n",
       "      <td>2009-06-29 08:03:40</td>\n",
       "      <td>2009-06-29 11:13:12</td>\n",
       "      <td>LINESTRING (12949605.674 4863764.794, 12949579...</td>\n",
       "      <td>8333.942283</td>\n",
       "      <td>357.660458</td>\n",
       "    </tr>\n",
       "    <tr>\n",
       "      <th>4</th>\n",
       "      <td>3_2009-02-04 04:32:53</td>\n",
       "      <td>2009-02-04 04:32:53</td>\n",
       "      <td>2009-02-04 11:20:12</td>\n",
       "      <td>LINESTRING (12955995.635 4851388.236, 12955991...</td>\n",
       "      <td>16626.383723</td>\n",
       "      <td>304.099365</td>\n",
       "    </tr>\n",
       "    <tr>\n",
       "      <th>5</th>\n",
       "      <td>4_2009-03-10 10:36:45</td>\n",
       "      <td>2009-03-10 10:36:45</td>\n",
       "      <td>2009-03-10 12:01:07</td>\n",
       "      <td>LINESTRING (12956258.794 4851917.156, 12956257...</td>\n",
       "      <td>18739.337154</td>\n",
       "      <td>300.716597</td>\n",
       "    </tr>\n",
       "    <tr>\n",
       "      <th>6</th>\n",
       "      <td>5_2009-02-25 09:47:03</td>\n",
       "      <td>2009-02-25 09:47:03</td>\n",
       "      <td>2009-02-25 14:31:24</td>\n",
       "      <td>LINESTRING (12955947.434 4851460.354, 12955946...</td>\n",
       "      <td>51327.869585</td>\n",
       "      <td>305.185128</td>\n",
       "    </tr>\n",
       "  </tbody>\n",
       "</table>\n",
       "</div>"
      ],
      "text/plain": [
       "                 traj_id             start_t               end_t  \\\n",
       "0  1_2008-12-11 04:42:14 2008-12-11 04:42:14 2008-12-11 05:15:46   \n",
       "1  2_2009-06-29 07:02:25 2009-06-29 07:02:25 2009-06-29 07:05:30   \n",
       "2  2_2009-06-29 07:06:55 2009-06-29 07:06:55 2009-06-29 08:02:40   \n",
       "3  2_2009-06-29 08:03:40 2009-06-29 08:03:40 2009-06-29 11:13:12   \n",
       "4  3_2009-02-04 04:32:53 2009-02-04 04:32:53 2009-02-04 11:20:12   \n",
       "5  4_2009-03-10 10:36:45 2009-03-10 10:36:45 2009-03-10 12:01:07   \n",
       "6  5_2009-02-25 09:47:03 2009-02-25 09:47:03 2009-02-25 14:31:24   \n",
       "\n",
       "                                            geometry        length   direction  \n",
       "0  LINESTRING (12956620.805 4851214.113, 12956622...   8101.428690  186.679744  \n",
       "1  LINESTRING (12978845.964 4876404.973, 12978840...    608.233016   29.527683  \n",
       "2  LINESTRING (12979026.970 4876730.251, 12979022...  41655.491556  246.215181  \n",
       "3  LINESTRING (12949605.674 4863764.794, 12949579...   8333.942283  357.660458  \n",
       "4  LINESTRING (12955995.635 4851388.236, 12955991...  16626.383723  304.099365  \n",
       "5  LINESTRING (12956258.794 4851917.156, 12956257...  18739.337154  300.716597  \n",
       "6  LINESTRING (12955947.434 4851460.354, 12955946...  51327.869585  305.185128  "
      ]
     },
     "execution_count": 41,
     "metadata": {},
     "output_type": "execute_result"
    }
   ],
   "source": [
    "# 如果轨迹在某一点为圆心，直径为10范围内停留60s，则认为轨迹需要在该段分割\n",
    "split = mpd.StopSplitter(tc).split(max_diameter=10, min_duration=timedelta(seconds=60))\n",
    "split.to_traj_gdf()"
   ]
  },
  {
   "cell_type": "markdown",
   "metadata": {},
   "source": [
    "**SpeedSplitter**"
   ]
  },
  {
   "cell_type": "code",
   "execution_count": 42,
   "metadata": {
    "execution": {
     "iopub.execute_input": "2023-08-01T14:05:15.831547Z",
     "iopub.status.busy": "2023-08-01T14:05:15.831094Z",
     "iopub.status.idle": "2023-08-01T14:05:16.729080Z",
     "shell.execute_reply": "2023-08-01T14:05:16.726963Z",
     "shell.execute_reply.started": "2023-08-01T14:05:15.831520Z"
    },
    "scrolled": true,
    "tags": []
   },
   "outputs": [
    {
     "data": {
      "text/html": [
       "<div>\n",
       "<style scoped>\n",
       "    .dataframe tbody tr th:only-of-type {\n",
       "        vertical-align: middle;\n",
       "    }\n",
       "\n",
       "    .dataframe tbody tr th {\n",
       "        vertical-align: top;\n",
       "    }\n",
       "\n",
       "    .dataframe thead th {\n",
       "        text-align: right;\n",
       "    }\n",
       "</style>\n",
       "<table border=\"1\" class=\"dataframe\">\n",
       "  <thead>\n",
       "    <tr style=\"text-align: right;\">\n",
       "      <th></th>\n",
       "      <th>traj_id</th>\n",
       "      <th>start_t</th>\n",
       "      <th>end_t</th>\n",
       "      <th>geometry</th>\n",
       "      <th>length</th>\n",
       "      <th>direction</th>\n",
       "    </tr>\n",
       "  </thead>\n",
       "  <tbody>\n",
       "    <tr>\n",
       "      <th>0</th>\n",
       "      <td>1_0</td>\n",
       "      <td>2008-12-11 04:42:14</td>\n",
       "      <td>2008-12-11 05:15:46</td>\n",
       "      <td>LINESTRING (12956620.805 4851214.113, 12956622...</td>\n",
       "      <td>8048.160604</td>\n",
       "      <td>186.679744</td>\n",
       "    </tr>\n",
       "    <tr>\n",
       "      <th>1</th>\n",
       "      <td>2_0</td>\n",
       "      <td>2009-06-29 07:02:25</td>\n",
       "      <td>2009-06-29 08:20:15</td>\n",
       "      <td>LINESTRING (12978845.964 4876404.973, 12978840...</td>\n",
       "      <td>47336.977010</td>\n",
       "      <td>252.952783</td>\n",
       "    </tr>\n",
       "    <tr>\n",
       "      <th>2</th>\n",
       "      <td>2_1</td>\n",
       "      <td>2009-06-29 10:57:22</td>\n",
       "      <td>2009-06-29 11:10:07</td>\n",
       "      <td>LINESTRING (12948650.441 4867044.718, 12948642...</td>\n",
       "      <td>2915.988294</td>\n",
       "      <td>138.780873</td>\n",
       "    </tr>\n",
       "    <tr>\n",
       "      <th>3</th>\n",
       "      <td>3_0</td>\n",
       "      <td>2009-02-04 04:32:53</td>\n",
       "      <td>2009-02-04 04:35:03</td>\n",
       "      <td>LINESTRING (12955995.635 4851388.236, 12955991...</td>\n",
       "      <td>310.440780</td>\n",
       "      <td>42.937430</td>\n",
       "    </tr>\n",
       "    <tr>\n",
       "      <th>4</th>\n",
       "      <td>3_1</td>\n",
       "      <td>2009-02-04 10:03:23</td>\n",
       "      <td>2009-02-04 11:20:12</td>\n",
       "      <td>LINESTRING (12956043.836 4851524.490, 12956025...</td>\n",
       "      <td>15962.930350</td>\n",
       "      <td>302.882421</td>\n",
       "    </tr>\n",
       "    <tr>\n",
       "      <th>5</th>\n",
       "      <td>4_0</td>\n",
       "      <td>2009-03-10 10:36:45</td>\n",
       "      <td>2009-03-10 12:01:07</td>\n",
       "      <td>LINESTRING (12956258.794 4851917.156, 12956257...</td>\n",
       "      <td>18349.431950</td>\n",
       "      <td>300.716597</td>\n",
       "    </tr>\n",
       "    <tr>\n",
       "      <th>6</th>\n",
       "      <td>5_0</td>\n",
       "      <td>2009-02-25 09:47:03</td>\n",
       "      <td>2009-02-25 10:54:47</td>\n",
       "      <td>LINESTRING (12955947.434 4851460.354, 12955946...</td>\n",
       "      <td>27081.554127</td>\n",
       "      <td>335.377580</td>\n",
       "    </tr>\n",
       "    <tr>\n",
       "      <th>7</th>\n",
       "      <td>5_1</td>\n",
       "      <td>2009-02-25 13:30:23</td>\n",
       "      <td>2009-02-25 14:31:24</td>\n",
       "      <td>LINESTRING (12945952.057 4873516.928, 12945956...</td>\n",
       "      <td>24006.683028</td>\n",
       "      <td>165.708568</td>\n",
       "    </tr>\n",
       "  </tbody>\n",
       "</table>\n",
       "</div>"
      ],
      "text/plain": [
       "  traj_id             start_t               end_t  \\\n",
       "0     1_0 2008-12-11 04:42:14 2008-12-11 05:15:46   \n",
       "1     2_0 2009-06-29 07:02:25 2009-06-29 08:20:15   \n",
       "2     2_1 2009-06-29 10:57:22 2009-06-29 11:10:07   \n",
       "3     3_0 2009-02-04 04:32:53 2009-02-04 04:35:03   \n",
       "4     3_1 2009-02-04 10:03:23 2009-02-04 11:20:12   \n",
       "5     4_0 2009-03-10 10:36:45 2009-03-10 12:01:07   \n",
       "6     5_0 2009-02-25 09:47:03 2009-02-25 10:54:47   \n",
       "7     5_1 2009-02-25 13:30:23 2009-02-25 14:31:24   \n",
       "\n",
       "                                            geometry        length   direction  \n",
       "0  LINESTRING (12956620.805 4851214.113, 12956622...   8048.160604  186.679744  \n",
       "1  LINESTRING (12978845.964 4876404.973, 12978840...  47336.977010  252.952783  \n",
       "2  LINESTRING (12948650.441 4867044.718, 12948642...   2915.988294  138.780873  \n",
       "3  LINESTRING (12955995.635 4851388.236, 12955991...    310.440780   42.937430  \n",
       "4  LINESTRING (12956043.836 4851524.490, 12956025...  15962.930350  302.882421  \n",
       "5  LINESTRING (12956258.794 4851917.156, 12956257...  18349.431950  300.716597  \n",
       "6  LINESTRING (12955947.434 4851460.354, 12955946...  27081.554127  335.377580  \n",
       "7  LINESTRING (12945952.057 4873516.928, 12945956...  24006.683028  165.708568  "
      ]
     },
     "execution_count": 42,
     "metadata": {},
     "output_type": "execute_result"
    }
   ],
   "source": [
    "# 把超过30分钟速度低于1地理系统单位/秒的轨迹分开\n",
    "split = mpd.SpeedSplitter(tc).split(speed=1, duration=timedelta(minutes=30))\n",
    "split.to_traj_gdf()"
   ]
  },
  {
   "cell_type": "markdown",
   "metadata": {},
   "source": [
    "### 1.3.2 轨迹压缩与平滑\n",
    "\n",
    "MovingPandas提供了各种轨迹压缩类和轨迹平滑类，以减少轨迹对象的大小（点的数量），从而加快处理速度。\n",
    "\n",
    "压缩轨迹类都只需待处理轨迹进行初始化，然后调用generalize函数进行轨迹压缩。用于压缩轨迹的类有：\n",
    "\n",
    "+ MinDistanceGeneralizer（最小距离）：通过删除原始数据中的一些点来压缩轨迹，被删除的点与相邻点之间的距离必须小于指定的最小距离。\n",
    "+ DouglasPeuckerGeneralizer（道格拉斯-普克）：道格拉斯-普克算法根据指定的阈值，逐渐删除原始数据中的部分点，从而生成一个近似的简化线串或轨迹。\n",
    "+ MaxDistanceGeneralizer（最大距离）：删除原始数据中与相邻点之间距离超过指定最大距离的点，从而实现轨迹压缩。\n",
    "+ MinTimeDeltaGeneralizer（最小时间间隔）：通过删除两个连续时间戳之间时间间隔小于指定最小时间间隔的数据点来实现轨迹压缩。\n",
    "+ TopDownTimeRatioGeneralizer（自顶向下时间比率）：根据预先设定的时间比率，逐渐删除原始数据中的数据点。\n",
    "\n",
    "\n",
    "平滑轨迹类目前只提供了KalmanSmootherCV类进行轨迹平滑，KalmanSmootherCV需要额外安装第三库且处理流程麻烦，所以一般都是效果相近的压缩轨迹类。\n",
    "\n"
   ]
  },
  {
   "cell_type": "code",
   "execution_count": 43,
   "metadata": {
    "execution": {
     "iopub.execute_input": "2023-08-01T14:05:16.731286Z",
     "iopub.status.busy": "2023-08-01T14:05:16.730615Z",
     "iopub.status.idle": "2023-08-01T14:05:17.503637Z",
     "shell.execute_reply": "2023-08-01T14:05:17.502254Z",
     "shell.execute_reply.started": "2023-08-01T14:05:16.731245Z"
    },
    "scrolled": true,
    "tags": []
   },
   "outputs": [
    {
     "name": "stdout",
     "output_type": "stream",
     "text": [
      "Trajectory 2 (2009-06-29 07:02:25 to 2009-06-29 11:13:12) | Size: 897 | Length: 50621.7m\r\n",
      "Bounds: (12948595.449314836, 4861831.088215791, 12979030.643375682, 4877940.244020148)\r\n",
      "LINESTRING (12978845.964340456 4876404.972802613, 12978840.175726935 4876411.664456934, 12978837.281\r\n"
     ]
    }
   ],
   "source": [
    "# 读取数据\n",
    "gdf = read_file('data/geolife_small.gpkg').to_crs('EPSG:3857')\n",
    "tc = mpd.TrajectoryCollection(gdf, 'trajectory_id', t='t')\n",
    "# 提取单条轨迹进行操作\n",
    "original_traj = tc.trajectories[1]\n",
    "# 可以看到轨迹包括897个点\n",
    "print(original_traj)"
   ]
  },
  {
   "cell_type": "code",
   "execution_count": 44,
   "metadata": {
    "execution": {
     "iopub.execute_input": "2023-08-01T14:05:17.504827Z",
     "iopub.status.busy": "2023-08-01T14:05:17.504589Z",
     "iopub.status.idle": "2023-08-01T14:05:17.630768Z",
     "shell.execute_reply": "2023-08-01T14:05:17.629677Z",
     "shell.execute_reply.started": "2023-08-01T14:05:17.504807Z"
    },
    "scrolled": true,
    "tags": []
   },
   "outputs": [
    {
     "data": {
      "text/plain": [
       "Trajectory 2 (2009-06-29 07:02:25 to 2009-06-29 11:13:12) | Size: 818 | Length: 50611.6m\n",
       "Bounds: (12948595.449314836, 4861831.088215791, 12979030.643375682, 4877940.244020148)\n",
       "LINESTRING (12978845.964340456 4876404.972802613, 12978840.175726935 4876411.664456934, 12978837.281"
      ]
     },
     "execution_count": 44,
     "metadata": {},
     "output_type": "execute_result"
    }
   ],
   "source": [
    "# tolerance设置连续点之间的最小距离\n",
    "mpd.MinDistanceGeneralizer(original_traj).generalize(tolerance=1.0)\n"
   ]
  },
  {
   "cell_type": "code",
   "execution_count": 45,
   "metadata": {
    "execution": {
     "iopub.execute_input": "2023-08-01T14:05:17.632675Z",
     "iopub.status.busy": "2023-08-01T14:05:17.632377Z",
     "iopub.status.idle": "2023-08-01T14:05:17.938726Z",
     "shell.execute_reply": "2023-08-01T14:05:17.937908Z",
     "shell.execute_reply.started": "2023-08-01T14:05:17.632643Z"
    },
    "scrolled": true,
    "tags": []
   },
   "outputs": [
    {
     "data": {
      "text/plain": [
       "Trajectory 2 (2009-06-29 07:02:25 to 2009-06-29 11:13:12) | Size: 564 | Length: 50606.8m\n",
       "Bounds: (12948595.449314836, 4861831.088215791, 12979030.643375682, 4877940.244020148)\n",
       "LINESTRING (12978845.964340456 4876404.972802613, 12978837.281420175 4876414.573873267, 12978852.086"
      ]
     },
     "execution_count": 45,
     "metadata": {},
     "output_type": "execute_result"
    }
   ],
   "source": [
    "# tolerance表示距离公差，具体使用见算法介绍\n",
    "mpd.DouglasPeuckerGeneralizer(original_traj).generalize(tolerance=1.0)"
   ]
  },
  {
   "cell_type": "code",
   "execution_count": 46,
   "metadata": {
    "execution": {
     "iopub.execute_input": "2023-08-01T14:05:17.940742Z",
     "iopub.status.busy": "2023-08-01T14:05:17.939733Z",
     "iopub.status.idle": "2023-08-01T14:05:18.111415Z",
     "shell.execute_reply": "2023-08-01T14:05:18.110528Z",
     "shell.execute_reply.started": "2023-08-01T14:05:17.940710Z"
    },
    "scrolled": true
   },
   "outputs": [
    {
     "data": {
      "text/plain": [
       "Trajectory 2 (2009-06-29 07:02:25 to 2009-06-29 11:13:12) | Size: 324 | Length: 50166.8m\n",
       "Bounds: (12948595.449314836, 4861831.088215791, 12979029.752819754, 4877940.244020148)\n",
       "LINESTRING (12978845.964340456 4876404.972802613, 12978837.281420175 4876414.573873267, 12978852.086"
      ]
     },
     "execution_count": 46,
     "metadata": {},
     "output_type": "execute_result"
    }
   ],
   "source": [
    "# tolerance设置连续点之间的最大距离\n",
    "mpd.MaxDistanceGeneralizer(original_traj).generalize(tolerance=1.0)"
   ]
  },
  {
   "cell_type": "code",
   "execution_count": 47,
   "metadata": {
    "execution": {
     "iopub.execute_input": "2023-08-01T14:05:18.114053Z",
     "iopub.status.busy": "2023-08-01T14:05:18.113484Z",
     "iopub.status.idle": "2023-08-01T14:05:18.208314Z",
     "shell.execute_reply": "2023-08-01T14:05:18.207467Z",
     "shell.execute_reply.started": "2023-08-01T14:05:18.114009Z"
    },
    "scrolled": true,
    "tags": []
   },
   "outputs": [
    {
     "data": {
      "text/plain": [
       "Trajectory 2 (2009-06-29 07:02:25 to 2009-06-29 11:13:12) | Size: 76 | Length: 47565.6m\n",
       "Bounds: (12948636.414887449, 4862053.18880025, 12979029.30754179, 4877912.7458354365)\n",
       "LINESTRING (12978845.964340456 4876404.972802613, 12978815.79675845 4876446.868451926, 12978780.3971"
      ]
     },
     "execution_count": 47,
     "metadata": {},
     "output_type": "execute_result"
    }
   ],
   "source": [
    "# tolerance连续轨迹最小的时间距离\n",
    "mpd.MinTimeDeltaGeneralizer(original_traj).generalize(tolerance=timedelta(minutes=1))"
   ]
  },
  {
   "cell_type": "code",
   "execution_count": 48,
   "metadata": {
    "execution": {
     "iopub.execute_input": "2023-08-01T14:05:18.210422Z",
     "iopub.status.busy": "2023-08-01T14:05:18.210020Z",
     "iopub.status.idle": "2023-08-01T14:05:25.910964Z",
     "shell.execute_reply": "2023-08-01T14:05:25.909468Z",
     "shell.execute_reply.started": "2023-08-01T14:05:18.210396Z"
    },
    "scrolled": true,
    "tags": []
   },
   "outputs": [
    {
     "data": {
      "text/plain": [
       "Trajectory 2 (2009-06-29 07:02:25 to 2009-06-29 11:13:12) | Size: 756 | Length: 50616.4m\n",
       "Bounds: (12948595.449314836, 4861831.088215791, 12979030.643375682, 4877940.244020148)\n",
       "LINESTRING (12978845.964340456 4876404.972802613, 12978840.175726935 4876411.664456934, 12978837.281"
      ]
     },
     "execution_count": 48,
     "metadata": {},
     "output_type": "execute_result"
    }
   ],
   "source": [
    "# tolerance距离公差，该类处理速度很慢\n",
    "mpd.TopDownTimeRatioGeneralizer(original_traj).generalize(tolerance=1.0)"
   ]
  },
  {
   "cell_type": "markdown",
   "metadata": {},
   "source": [
    "### 1.3.3 轨迹停留检测\n",
    "\n",
    "\n",
    "MovingPandas提供了轨迹停留检测的功能，事实上轨迹停留并不意味着轨迹运动速度为零，事实上由于跟踪不准确，物体移动速度很少达到0，例如GPS轨迹往往会在物体的停止位置周围不断移动。所以MovingPandas检测轨迹停留的方式为如果物体停留在指定大小的区域内超过一段时间，则判定为轨迹停留。具体使用如下："
   ]
  },
  {
   "cell_type": "code",
   "execution_count": 49,
   "metadata": {
    "execution": {
     "iopub.execute_input": "2023-08-01T14:05:25.913277Z",
     "iopub.status.busy": "2023-08-01T14:05:25.912969Z",
     "iopub.status.idle": "2023-08-01T14:05:26.751912Z",
     "shell.execute_reply": "2023-08-01T14:05:26.750797Z",
     "shell.execute_reply.started": "2023-08-01T14:05:25.913253Z"
    },
    "scrolled": true,
    "tags": []
   },
   "outputs": [
    {
     "data": {
      "text/plain": [
       "Trajectory 1 (2008-12-11 04:42:14 to 2008-12-11 05:15:46) | Size: 466 | Length: 8101.4m\n",
       "Bounds: (12955985.950308602, 4845963.532957837, 12956871.051579898, 4851235.877839145)\n",
       "LINESTRING (12956620.805364596 4851214.112520242, 12956622.141198486 4851220.49700885, 12956578.8379"
      ]
     },
     "execution_count": 49,
     "metadata": {},
     "output_type": "execute_result"
    }
   ],
   "source": [
    "# 读取数据\n",
    "gdf = read_file('data/geolife_small.gpkg').to_crs('EPSG:3857')\n",
    "tc = mpd.TrajectoryCollection(gdf, 'trajectory_id', t='t')\n",
    "# 使用单个轨迹进行运算，也可以轨迹集合\n",
    "my_traj = tc.trajectories[0]\n",
    "my_traj"
   ]
  },
  {
   "cell_type": "code",
   "execution_count": 50,
   "metadata": {
    "execution": {
     "iopub.execute_input": "2023-08-01T14:05:26.753800Z",
     "iopub.status.busy": "2023-08-01T14:05:26.753055Z",
     "iopub.status.idle": "2023-08-01T14:05:26.941261Z",
     "shell.execute_reply": "2023-08-01T14:05:26.940185Z",
     "shell.execute_reply.started": "2023-08-01T14:05:26.753767Z"
    },
    "scrolled": true,
    "tags": []
   },
   "outputs": [
    {
     "name": "stdout",
     "output_type": "stream",
     "text": [
      "Traj 2: 2009-06-29 07:05:30 - 2009-06-29 07:06:55 (duration: 0 days 00:01:25)\r\n",
      "Traj 2: 2009-06-29 08:02:40 - 2009-06-29 08:03:40 (duration: 0 days 00:01:00)\r\n"
     ]
    }
   ],
   "source": [
    "# 创建停留检测器\n",
    "detector = mpd.TrajectoryStopDetector(tc)\n",
    "# 获取在某个直径为10的区域停留60s以上的轨迹时间范围\n",
    "stop_time_ranges = detector.get_stop_time_ranges(min_duration=timedelta(seconds=60), max_diameter=10)\n",
    "for x in stop_time_ranges: \n",
    "    print(x)"
   ]
  },
  {
   "cell_type": "code",
   "execution_count": 51,
   "metadata": {
    "execution": {
     "iopub.execute_input": "2023-08-01T14:05:26.943348Z",
     "iopub.status.busy": "2023-08-01T14:05:26.943069Z",
     "iopub.status.idle": "2023-08-01T14:05:27.152177Z",
     "shell.execute_reply": "2023-08-01T14:05:27.149876Z",
     "shell.execute_reply.started": "2023-08-01T14:05:26.943325Z"
    },
    "scrolled": true
   },
   "outputs": [
    {
     "data": {
      "text/html": [
       "<div>\n",
       "<style scoped>\n",
       "    .dataframe tbody tr th:only-of-type {\n",
       "        vertical-align: middle;\n",
       "    }\n",
       "\n",
       "    .dataframe tbody tr th {\n",
       "        vertical-align: top;\n",
       "    }\n",
       "\n",
       "    .dataframe thead th {\n",
       "        text-align: right;\n",
       "    }\n",
       "</style>\n",
       "<table border=\"1\" class=\"dataframe\">\n",
       "  <thead>\n",
       "    <tr style=\"text-align: right;\">\n",
       "      <th></th>\n",
       "      <th>geometry</th>\n",
       "      <th>start_time</th>\n",
       "      <th>end_time</th>\n",
       "      <th>traj_id</th>\n",
       "      <th>duration_s</th>\n",
       "    </tr>\n",
       "    <tr>\n",
       "      <th>stop_id</th>\n",
       "      <th></th>\n",
       "      <th></th>\n",
       "      <th></th>\n",
       "      <th></th>\n",
       "      <th></th>\n",
       "    </tr>\n",
       "  </thead>\n",
       "  <tbody>\n",
       "    <tr>\n",
       "      <th>2_2009-06-29 07:05:30</th>\n",
       "      <td>POINT (12979027.415 4876729.960)</td>\n",
       "      <td>2009-06-29 07:05:30</td>\n",
       "      <td>2009-06-29 07:06:55</td>\n",
       "      <td>2</td>\n",
       "      <td>85.0</td>\n",
       "    </tr>\n",
       "    <tr>\n",
       "      <th>2_2009-06-29 08:02:40</th>\n",
       "      <td>POINT (12949605.785 4863764.939)</td>\n",
       "      <td>2009-06-29 08:02:40</td>\n",
       "      <td>2009-06-29 08:03:40</td>\n",
       "      <td>2</td>\n",
       "      <td>60.0</td>\n",
       "    </tr>\n",
       "  </tbody>\n",
       "</table>\n",
       "</div>"
      ],
      "text/plain": [
       "                                               geometry          start_time  \\\n",
       "stop_id                                                                       \n",
       "2_2009-06-29 07:05:30  POINT (12979027.415 4876729.960) 2009-06-29 07:05:30   \n",
       "2_2009-06-29 08:02:40  POINT (12949605.785 4863764.939) 2009-06-29 08:02:40   \n",
       "\n",
       "                                 end_time  traj_id  duration_s  \n",
       "stop_id                                                         \n",
       "2_2009-06-29 07:05:30 2009-06-29 07:06:55        2        85.0  \n",
       "2_2009-06-29 08:02:40 2009-06-29 08:03:40        2        60.0  "
      ]
     },
     "execution_count": 51,
     "metadata": {},
     "output_type": "execute_result"
    }
   ],
   "source": [
    "# 获取在某个直径为10的区域停留60s以上的轨迹点\n",
    "stop_points = detector.get_stop_points(min_duration=timedelta(seconds=60), max_diameter=10)\n",
    "stop_points"
   ]
  },
  {
   "cell_type": "code",
   "execution_count": 52,
   "metadata": {
    "execution": {
     "iopub.execute_input": "2023-08-01T14:05:27.153460Z",
     "iopub.status.busy": "2023-08-01T14:05:27.153182Z",
     "iopub.status.idle": "2023-08-01T14:05:27.380721Z",
     "shell.execute_reply": "2023-08-01T14:05:27.379454Z",
     "shell.execute_reply.started": "2023-08-01T14:05:27.153438Z"
    },
    "scrolled": true,
    "tags": []
   },
   "outputs": [
    {
     "data": {
      "text/plain": [
       "TrajectoryCollection with 2 trajectories"
      ]
     },
     "execution_count": 52,
     "metadata": {},
     "output_type": "execute_result"
    }
   ],
   "source": [
    "# 获取在某个直径为10的区域停留60s以上的轨迹片段\n",
    "stops = detector.get_stop_segments(min_duration=timedelta(seconds=60), max_diameter=10)\n",
    "stops"
   ]
  },
  {
   "cell_type": "markdown",
   "metadata": {},
   "source": [
    "### 1.3.4 轨迹聚类\n",
    "\n",
    "Tmovingpandas提供TrajectoryCollectionAggregator类，用于将多个轨迹集合（TrajectoryCollection）合并为一个更大的轨迹集合。具体使用如下："
   ]
  },
  {
   "cell_type": "code",
   "execution_count": 53,
   "metadata": {
    "execution": {
     "iopub.execute_input": "2023-08-01T14:05:27.383623Z",
     "iopub.status.busy": "2023-08-01T14:05:27.382757Z",
     "iopub.status.idle": "2023-08-01T14:05:31.393621Z",
     "shell.execute_reply": "2023-08-01T14:05:31.392222Z",
     "shell.execute_reply.started": "2023-08-01T14:05:27.383593Z"
    },
    "scrolled": true,
    "tags": []
   },
   "outputs": [],
   "source": [
    "# 读取数据\n",
    "gdf = read_file('data/geolife_small.gpkg').to_crs('EPSG:3857')\n",
    "tc = mpd.TrajectoryCollection(gdf, 'trajectory_id', t='t')\n",
    "# 简化轨迹\n",
    "generalized = mpd.MinDistanceGeneralizer(tc).generalize(tolerance=100)\n",
    "# 聚类\n",
    "aggregator = mpd.TrajectoryCollectionAggregator(generalized, max_distance=1000, min_distance=100, min_stop_duration=timedelta(minutes=5))"
   ]
  },
  {
   "cell_type": "code",
   "execution_count": 54,
   "metadata": {
    "execution": {
     "iopub.execute_input": "2023-08-01T14:05:31.395064Z",
     "iopub.status.busy": "2023-08-01T14:05:31.394743Z",
     "iopub.status.idle": "2023-08-01T14:05:31.411081Z",
     "shell.execute_reply": "2023-08-01T14:05:31.410067Z",
     "shell.execute_reply.started": "2023-08-01T14:05:31.395038Z"
    },
    "scrolled": true,
    "tags": []
   },
   "outputs": [
    {
     "data": {
      "text/html": [
       "<div>\n",
       "<style scoped>\n",
       "    .dataframe tbody tr th:only-of-type {\n",
       "        vertical-align: middle;\n",
       "    }\n",
       "\n",
       "    .dataframe tbody tr th {\n",
       "        vertical-align: top;\n",
       "    }\n",
       "\n",
       "    .dataframe thead th {\n",
       "        text-align: right;\n",
       "    }\n",
       "</style>\n",
       "<table border=\"1\" class=\"dataframe\">\n",
       "  <thead>\n",
       "    <tr style=\"text-align: right;\">\n",
       "      <th></th>\n",
       "      <th>geometry</th>\n",
       "    </tr>\n",
       "  </thead>\n",
       "  <tbody>\n",
       "    <tr>\n",
       "      <th>0</th>\n",
       "      <td>POINT (12956620.805 4851214.113)</td>\n",
       "    </tr>\n",
       "    <tr>\n",
       "      <th>1</th>\n",
       "      <td>POINT (12956054.412 4846377.879)</td>\n",
       "    </tr>\n",
       "    <tr>\n",
       "      <th>2</th>\n",
       "      <td>POINT (12956409.855 4851235.878)</td>\n",
       "    </tr>\n",
       "    <tr>\n",
       "      <th>3</th>\n",
       "      <td>POINT (12956533.642 4851120.522)</td>\n",
       "    </tr>\n",
       "    <tr>\n",
       "      <th>4</th>\n",
       "      <td>POINT (12956436.794 4851148.817)</td>\n",
       "    </tr>\n",
       "  </tbody>\n",
       "</table>\n",
       "</div>"
      ],
      "text/plain": [
       "                           geometry\n",
       "0  POINT (12956620.805 4851214.113)\n",
       "1  POINT (12956054.412 4846377.879)\n",
       "2  POINT (12956409.855 4851235.878)\n",
       "3  POINT (12956533.642 4851120.522)\n",
       "4  POINT (12956436.794 4851148.817)"
      ]
     },
     "execution_count": 54,
     "metadata": {},
     "output_type": "execute_result"
    }
   ],
   "source": [
    "# 从合并的轨迹集合中提取显著点，并返回一个Geopandas的GeoDataFrame对象\n",
    "pts = aggregator.get_significant_points_gdf()\n",
    "pts.head()"
   ]
  },
  {
   "cell_type": "code",
   "execution_count": 55,
   "metadata": {
    "execution": {
     "iopub.execute_input": "2023-08-01T14:05:31.412593Z",
     "iopub.status.busy": "2023-08-01T14:05:31.412252Z",
     "iopub.status.idle": "2023-08-01T14:05:31.429487Z",
     "shell.execute_reply": "2023-08-01T14:05:31.428564Z",
     "shell.execute_reply.started": "2023-08-01T14:05:31.412569Z"
    },
    "scrolled": true,
    "tags": []
   },
   "outputs": [
    {
     "data": {
      "text/html": [
       "<div>\n",
       "<style scoped>\n",
       "    .dataframe tbody tr th:only-of-type {\n",
       "        vertical-align: middle;\n",
       "    }\n",
       "\n",
       "    .dataframe tbody tr th {\n",
       "        vertical-align: top;\n",
       "    }\n",
       "\n",
       "    .dataframe thead th {\n",
       "        text-align: right;\n",
       "    }\n",
       "</style>\n",
       "<table border=\"1\" class=\"dataframe\">\n",
       "  <thead>\n",
       "    <tr style=\"text-align: right;\">\n",
       "      <th></th>\n",
       "      <th>geometry</th>\n",
       "      <th>n</th>\n",
       "    </tr>\n",
       "  </thead>\n",
       "  <tbody>\n",
       "    <tr>\n",
       "      <th>0</th>\n",
       "      <td>POINT (12955779.665 4851264.376)</td>\n",
       "      <td>30</td>\n",
       "    </tr>\n",
       "    <tr>\n",
       "      <th>1</th>\n",
       "      <td>POINT (12956533.123 4846314.334)</td>\n",
       "      <td>6</td>\n",
       "    </tr>\n",
       "    <tr>\n",
       "      <th>2</th>\n",
       "      <td>POINT (12956511.072 4849943.391)</td>\n",
       "      <td>4</td>\n",
       "    </tr>\n",
       "    <tr>\n",
       "      <th>3</th>\n",
       "      <td>POINT (12956768.526 4848886.514)</td>\n",
       "      <td>2</td>\n",
       "    </tr>\n",
       "    <tr>\n",
       "      <th>4</th>\n",
       "      <td>POINT (12956668.895 4847819.306)</td>\n",
       "      <td>2</td>\n",
       "    </tr>\n",
       "  </tbody>\n",
       "</table>\n",
       "</div>"
      ],
      "text/plain": [
       "                           geometry   n\n",
       "0  POINT (12955779.665 4851264.376)  30\n",
       "1  POINT (12956533.123 4846314.334)   6\n",
       "2  POINT (12956511.072 4849943.391)   4\n",
       "3  POINT (12956768.526 4848886.514)   2\n",
       "4  POINT (12956668.895 4847819.306)   2"
      ]
     },
     "execution_count": 55,
     "metadata": {},
     "output_type": "execute_result"
    }
   ],
   "source": [
    "# 合并的轨迹集合视为一个整体，并将其划分为不同的簇\n",
    "# 返回每个簇的质心结果\n",
    "clusters = aggregator.get_clusters_gdf()\n",
    "clusters.head()"
   ]
  },
  {
   "cell_type": "code",
   "execution_count": 56,
   "metadata": {
    "execution": {
     "iopub.execute_input": "2023-08-01T14:05:31.430742Z",
     "iopub.status.busy": "2023-08-01T14:05:31.430506Z",
     "iopub.status.idle": "2023-08-01T14:05:31.450777Z",
     "shell.execute_reply": "2023-08-01T14:05:31.449308Z",
     "shell.execute_reply.started": "2023-08-01T14:05:31.430721Z"
    },
    "scrolled": true,
    "tags": []
   },
   "outputs": [
    {
     "data": {
      "text/html": [
       "<div>\n",
       "<style scoped>\n",
       "    .dataframe tbody tr th:only-of-type {\n",
       "        vertical-align: middle;\n",
       "    }\n",
       "\n",
       "    .dataframe tbody tr th {\n",
       "        vertical-align: top;\n",
       "    }\n",
       "\n",
       "    .dataframe thead th {\n",
       "        text-align: right;\n",
       "    }\n",
       "</style>\n",
       "<table border=\"1\" class=\"dataframe\">\n",
       "  <thead>\n",
       "    <tr style=\"text-align: right;\">\n",
       "      <th></th>\n",
       "      <th>geometry</th>\n",
       "      <th>weight</th>\n",
       "    </tr>\n",
       "  </thead>\n",
       "  <tbody>\n",
       "    <tr>\n",
       "      <th>0</th>\n",
       "      <td>LINESTRING (12955779.665 4851264.376, 12956511...</td>\n",
       "      <td>1</td>\n",
       "    </tr>\n",
       "    <tr>\n",
       "      <th>1</th>\n",
       "      <td>LINESTRING (12956511.072 4849943.391, 12956768...</td>\n",
       "      <td>1</td>\n",
       "    </tr>\n",
       "    <tr>\n",
       "      <th>2</th>\n",
       "      <td>LINESTRING (12956768.526 4848886.514, 12956668...</td>\n",
       "      <td>1</td>\n",
       "    </tr>\n",
       "    <tr>\n",
       "      <th>3</th>\n",
       "      <td>LINESTRING (12956668.895 4847819.306, 12956533...</td>\n",
       "      <td>1</td>\n",
       "    </tr>\n",
       "    <tr>\n",
       "      <th>4</th>\n",
       "      <td>LINESTRING (12978848.347 4876830.605, 12978353...</td>\n",
       "      <td>1</td>\n",
       "    </tr>\n",
       "  </tbody>\n",
       "</table>\n",
       "</div>"
      ],
      "text/plain": [
       "                                            geometry  weight\n",
       "0  LINESTRING (12955779.665 4851264.376, 12956511...       1\n",
       "1  LINESTRING (12956511.072 4849943.391, 12956768...       1\n",
       "2  LINESTRING (12956768.526 4848886.514, 12956668...       1\n",
       "3  LINESTRING (12956668.895 4847819.306, 12956533...       1\n",
       "4  LINESTRING (12978848.347 4876830.605, 12978353...       1"
      ]
     },
     "execution_count": 56,
     "metadata": {},
     "output_type": "execute_result"
    }
   ],
   "source": [
    "# 将合并后的轨迹数据转换为一个GeoDataFrame对象，其中每一条记录代表着一次移动（即一段轨迹）\n",
    "flows = aggregator.get_flows_gdf()\n",
    "flows.head()"
   ]
  },
  {
   "cell_type": "markdown",
   "metadata": {},
   "source": [
    "### 1.3.5 轨迹距离计算\n",
    "\n",
    "\n",
    "MovingPandas提供了distance函数和hausdorff_distance函数来计算两个几何对象的距离。distance函数基于[shapely-objectdistance](https://shapely.readthedocs.io/en/stable/manual.html#object.distance)计算距离，而hausdorff_distance返回[豪斯多夫距离](https://www.cnblogs.com/yhlx125/p/5478147.html)。使用示例如下："
   ]
  },
  {
   "cell_type": "code",
   "execution_count": 57,
   "metadata": {
    "execution": {
     "iopub.execute_input": "2023-08-01T14:05:31.452659Z",
     "iopub.status.busy": "2023-08-01T14:05:31.451799Z",
     "iopub.status.idle": "2023-08-01T14:05:31.485503Z",
     "shell.execute_reply": "2023-08-01T14:05:31.484571Z",
     "shell.execute_reply.started": "2023-08-01T14:05:31.452629Z"
    },
    "scrolled": true,
    "tags": []
   },
   "outputs": [],
   "source": [
    "# 定义轨迹1\n",
    "df = pd.DataFrame([\n",
    "  {'geometry':Point(0,0), 't':datetime(2023,7,1,12,0,0)},\n",
    "  {'geometry':Point(6,0), 't':datetime(2023,7,1,12,6,0)},\n",
    "  {'geometry':Point(6,6), 't':datetime(2023,7,1,12,10,0)},\n",
    "  {'geometry':Point(9,9), 't':datetime(2023,7,1,12,15,0)}\n",
    "]).set_index('t')\n",
    "# 单位为米\n",
    "geo_df = GeoDataFrame(df, crs='EPSG:3857')\n",
    "toy_traj = mpd.Trajectory(geo_df, 1)\n",
    "\n",
    "# 定义轨迹2\n",
    "df = pd.DataFrame([\n",
    "  {'geometry':Point(3,3), 't':datetime(2023,7,1,12,0,0)},\n",
    "  {'geometry':Point(3,9), 't':datetime(2023,7,1,12,6,0)},\n",
    "  {'geometry':Point(2,9), 't':datetime(2023,7,1,12,10,0)},\n",
    "  {'geometry':Point(0,7), 't':datetime(2023,7,1,12,15,0)}\n",
    "]).set_index('t')\n",
    "geo_df = GeoDataFrame(df, crs='EPSG:3857')\n",
    "toy_traj2 = mpd.Trajectory(geo_df, 1)\n"
   ]
  },
  {
   "cell_type": "code",
   "execution_count": 58,
   "metadata": {
    "execution": {
     "iopub.execute_input": "2023-08-01T14:05:31.487508Z",
     "iopub.status.busy": "2023-08-01T14:05:31.486723Z",
     "iopub.status.idle": "2023-08-01T14:05:31.775201Z",
     "shell.execute_reply": "2023-08-01T14:05:31.774082Z",
     "shell.execute_reply.started": "2023-08-01T14:05:31.487477Z"
    },
    "scrolled": true,
    "tags": []
   },
   "outputs": [
    {
     "data": {
      "text/plain": [
       "<Axes: >"
      ]
     },
     "execution_count": 58,
     "metadata": {},
     "output_type": "execute_result"
    },
    {
     "data": {
      "image/png": "[encoded data removed]",
      "text/plain": [
       "<Figure size 640x480 with 1 Axes>"
      ]
     },
     "metadata": {},
     "output_type": "display_data"
    }
   ],
   "source": [
    "# 展示轨迹\n",
    "ax = toy_traj.plot()\n",
    "toy_traj2.plot(ax=ax, color='red')"
   ]
  },
  {
   "cell_type": "code",
   "execution_count": 59,
   "metadata": {
    "execution": {
     "iopub.execute_input": "2023-08-01T14:05:31.776826Z",
     "iopub.status.busy": "2023-08-01T14:05:31.776436Z",
     "iopub.status.idle": "2023-08-01T14:05:31.784132Z",
     "shell.execute_reply": "2023-08-01T14:05:31.783243Z",
     "shell.execute_reply.started": "2023-08-01T14:05:31.776798Z"
    },
    "scrolled": true,
    "tags": []
   },
   "outputs": [
    {
     "name": "stdout",
     "output_type": "stream",
     "text": [
      "3.0\r\n",
      "6.082762530298219\r\n"
     ]
    }
   ],
   "source": [
    "# 计算距离，默认单位由坐标系单位决定，该坐标系单位为米\n",
    "print(toy_traj.distance(toy_traj2))\n",
    "# 计算hausdorff距离，默认单位由坐标系单位决定。\n",
    "print(toy_traj.hausdorff_distance(toy_traj2))"
   ]
  },
  {
   "cell_type": "code",
   "execution_count": 60,
   "metadata": {
    "execution": {
     "iopub.execute_input": "2023-08-01T14:05:31.785513Z",
     "iopub.status.busy": "2023-08-01T14:05:31.785041Z",
     "iopub.status.idle": "2023-08-01T14:05:31.794949Z",
     "shell.execute_reply": "2023-08-01T14:05:31.793758Z",
     "shell.execute_reply.started": "2023-08-01T14:05:31.785487Z"
    },
    "scrolled": true,
    "tags": []
   },
   "outputs": [
    {
     "name": "stdout",
     "output_type": "stream",
     "text": [
      "300.0\r\n",
      "19.95656998129337\r\n"
     ]
    }
   ],
   "source": [
    "# 计算距离,units自定义单位为厘米\n",
    "print(toy_traj.distance(toy_traj2, units=\"cm\"))\n",
    "# 计算hausdorff距离,units自定义单位为英寸\n",
    "print(toy_traj.hausdorff_distance(toy_traj2, units=\"ft\"))"
   ]
  },
  {
   "cell_type": "markdown",
   "metadata": {},
   "source": [
    "# 2 轨迹绘图实例之海鸥迁徙轨迹分析\n",
    "\n",
    "基于海鸥迁徙数据来分析其移动轨迹。数据下载地址：[movingpandas-examples-data](https://github.com/movingpandas/movingpandas-examples/tree/main/data)。"
   ]
  },
  {
   "cell_type": "markdown",
   "metadata": {
    "execution": {
     "iopub.execute_input": "2023-07-15T12:34:41.580106Z",
     "iopub.status.busy": "2023-07-15T12:34:41.579508Z",
     "iopub.status.idle": "2023-07-15T12:34:41.585932Z",
     "shell.execute_reply": "2023-07-15T12:34:41.584872Z",
     "shell.execute_reply.started": "2023-07-15T12:34:41.580072Z"
    }
   },
   "source": [
    "**step1 加载数据**"
   ]
  },
  {
   "cell_type": "code",
   "execution_count": 61,
   "metadata": {
    "execution": {
     "iopub.execute_input": "2023-08-01T14:05:31.796953Z",
     "iopub.status.busy": "2023-08-01T14:05:31.796193Z",
     "iopub.status.idle": "2023-08-01T14:05:46.555276Z",
     "shell.execute_reply": "2023-08-01T14:05:46.554228Z",
     "shell.execute_reply.started": "2023-08-01T14:05:31.796920Z"
    },
    "scrolled": true,
    "tags": []
   },
   "outputs": [
    {
     "data": {
      "text/html": [
       "<div>\n",
       "<style scoped>\n",
       "    .dataframe tbody tr th:only-of-type {\n",
       "        vertical-align: middle;\n",
       "    }\n",
       "\n",
       "    .dataframe tbody tr th {\n",
       "        vertical-align: top;\n",
       "    }\n",
       "\n",
       "    .dataframe thead th {\n",
       "        text-align: right;\n",
       "    }\n",
       "</style>\n",
       "<table border=\"1\" class=\"dataframe\">\n",
       "  <thead>\n",
       "    <tr style=\"text-align: right;\">\n",
       "      <th></th>\n",
       "      <th>event-id</th>\n",
       "      <th>visible</th>\n",
       "      <th>timestamp</th>\n",
       "      <th>location-long</th>\n",
       "      <th>location-lat</th>\n",
       "      <th>sensor-type</th>\n",
       "      <th>individual-taxon-canonical-name</th>\n",
       "      <th>tag-local-identifier</th>\n",
       "      <th>individual-local-identifier</th>\n",
       "      <th>study-name</th>\n",
       "      <th>geometry</th>\n",
       "    </tr>\n",
       "  </thead>\n",
       "  <tbody>\n",
       "    <tr>\n",
       "      <th>0</th>\n",
       "      <td>1082620685</td>\n",
       "      <td>true</td>\n",
       "      <td>2009-05-27 14:00:00.000</td>\n",
       "      <td>24.58617</td>\n",
       "      <td>61.24783</td>\n",
       "      <td>gps</td>\n",
       "      <td>Larus fuscus</td>\n",
       "      <td>91732</td>\n",
       "      <td>91732A</td>\n",
       "      <td>Navigation experiments in lesser black-backed ...</td>\n",
       "      <td>POINT (24.58617 61.24783)</td>\n",
       "    </tr>\n",
       "    <tr>\n",
       "      <th>1</th>\n",
       "      <td>1082620686</td>\n",
       "      <td>true</td>\n",
       "      <td>2009-05-27 20:00:00.000</td>\n",
       "      <td>24.58217</td>\n",
       "      <td>61.23267</td>\n",
       "      <td>gps</td>\n",
       "      <td>Larus fuscus</td>\n",
       "      <td>91732</td>\n",
       "      <td>91732A</td>\n",
       "      <td>Navigation experiments in lesser black-backed ...</td>\n",
       "      <td>POINT (24.58217 61.23267)</td>\n",
       "    </tr>\n",
       "    <tr>\n",
       "      <th>2</th>\n",
       "      <td>1082620687</td>\n",
       "      <td>true</td>\n",
       "      <td>2009-05-28 05:00:00.000</td>\n",
       "      <td>24.53133</td>\n",
       "      <td>61.18833</td>\n",
       "      <td>gps</td>\n",
       "      <td>Larus fuscus</td>\n",
       "      <td>91732</td>\n",
       "      <td>91732A</td>\n",
       "      <td>Navigation experiments in lesser black-backed ...</td>\n",
       "      <td>POINT (24.53133 61.18833)</td>\n",
       "    </tr>\n",
       "    <tr>\n",
       "      <th>3</th>\n",
       "      <td>1082620688</td>\n",
       "      <td>true</td>\n",
       "      <td>2009-05-28 08:00:00.000</td>\n",
       "      <td>24.58200</td>\n",
       "      <td>61.23283</td>\n",
       "      <td>gps</td>\n",
       "      <td>Larus fuscus</td>\n",
       "      <td>91732</td>\n",
       "      <td>91732A</td>\n",
       "      <td>Navigation experiments in lesser black-backed ...</td>\n",
       "      <td>POINT (24.58200 61.23283)</td>\n",
       "    </tr>\n",
       "    <tr>\n",
       "      <th>4</th>\n",
       "      <td>1082620689</td>\n",
       "      <td>true</td>\n",
       "      <td>2009-05-28 14:00:00.000</td>\n",
       "      <td>24.58250</td>\n",
       "      <td>61.23267</td>\n",
       "      <td>gps</td>\n",
       "      <td>Larus fuscus</td>\n",
       "      <td>91732</td>\n",
       "      <td>91732A</td>\n",
       "      <td>Navigation experiments in lesser black-backed ...</td>\n",
       "      <td>POINT (24.58250 61.23267)</td>\n",
       "    </tr>\n",
       "  </tbody>\n",
       "</table>\n",
       "</div>"
      ],
      "text/plain": [
       "     event-id visible                timestamp  location-long  location-lat  \\\n",
       "0  1082620685    true  2009-05-27 14:00:00.000       24.58617      61.24783   \n",
       "1  1082620686    true  2009-05-27 20:00:00.000       24.58217      61.23267   \n",
       "2  1082620687    true  2009-05-28 05:00:00.000       24.53133      61.18833   \n",
       "3  1082620688    true  2009-05-28 08:00:00.000       24.58200      61.23283   \n",
       "4  1082620689    true  2009-05-28 14:00:00.000       24.58250      61.23267   \n",
       "\n",
       "  sensor-type individual-taxon-canonical-name  tag-local-identifier  \\\n",
       "0         gps                    Larus fuscus                 91732   \n",
       "1         gps                    Larus fuscus                 91732   \n",
       "2         gps                    Larus fuscus                 91732   \n",
       "3         gps                    Larus fuscus                 91732   \n",
       "4         gps                    Larus fuscus                 91732   \n",
       "\n",
       "  individual-local-identifier  \\\n",
       "0                      91732A   \n",
       "1                      91732A   \n",
       "2                      91732A   \n",
       "3                      91732A   \n",
       "4                      91732A   \n",
       "\n",
       "                                          study-name  \\\n",
       "0  Navigation experiments in lesser black-backed ...   \n",
       "1  Navigation experiments in lesser black-backed ...   \n",
       "2  Navigation experiments in lesser black-backed ...   \n",
       "3  Navigation experiments in lesser black-backed ...   \n",
       "4  Navigation experiments in lesser black-backed ...   \n",
       "\n",
       "                    geometry  \n",
       "0  POINT (24.58617 61.24783)  \n",
       "1  POINT (24.58217 61.23267)  \n",
       "2  POINT (24.53133 61.18833)  \n",
       "3  POINT (24.58200 61.23283)  \n",
       "4  POINT (24.58250 61.23267)  "
      ]
     },
     "execution_count": 61,
     "metadata": {},
     "output_type": "execute_result"
    }
   ],
   "source": [
    "df = read_file('data/gulls.gpkg')\n",
    "# 展示数据\n",
    "df.head()"
   ]
  },
  {
   "cell_type": "code",
   "execution_count": 62,
   "metadata": {
    "execution": {
     "iopub.execute_input": "2023-08-01T14:05:46.558346Z",
     "iopub.status.busy": "2023-08-01T14:05:46.556371Z",
     "iopub.status.idle": "2023-08-01T14:05:46.565550Z",
     "shell.execute_reply": "2023-08-01T14:05:46.564567Z",
     "shell.execute_reply.started": "2023-08-01T14:05:46.558308Z"
    },
    "scrolled": true
   },
   "outputs": [
    {
     "data": {
      "text/plain": [
       "(89867, 11)"
      ]
     },
     "execution_count": 62,
     "metadata": {},
     "output_type": "execute_result"
    }
   ],
   "source": [
    "# 查看数据维度\n",
    "df.shape"
   ]
  },
  {
   "cell_type": "code",
   "execution_count": 63,
   "metadata": {
    "execution": {
     "iopub.execute_input": "2023-08-01T14:05:46.568383Z",
     "iopub.status.busy": "2023-08-01T14:05:46.567161Z",
     "iopub.status.idle": "2023-08-01T14:05:50.094384Z",
     "shell.execute_reply": "2023-08-01T14:05:50.093631Z",
     "shell.execute_reply.started": "2023-08-01T14:05:46.568329Z"
    },
    "scrolled": true,
    "tags": []
   },
   "outputs": [
    {
     "data": {
      "text/plain": [
       "<Axes: >"
      ]
     },
     "execution_count": 63,
     "metadata": {},
     "output_type": "execute_result"
    },
    {
     "data": {
      "image/png": "[encoded data removed]",
      "text/plain": [
       "<Figure size 640x480 with 1 Axes>"
      ]
     },
     "metadata": {},
     "output_type": "display_data"
    }
   ],
   "source": [
    "# 展示数据坐标点\n",
    "df.plot()"
   ]
  },
  {
   "cell_type": "code",
   "execution_count": 64,
   "metadata": {
    "execution": {
     "iopub.execute_input": "2023-08-01T14:05:50.096152Z",
     "iopub.status.busy": "2023-08-01T14:05:50.095698Z",
     "iopub.status.idle": "2023-08-01T14:05:50.133946Z",
     "shell.execute_reply": "2023-08-01T14:05:50.133008Z",
     "shell.execute_reply.started": "2023-08-01T14:05:50.096118Z"
    },
    "scrolled": true,
    "tags": []
   },
   "outputs": [
    {
     "data": {
      "text/plain": [
       "array(['91732A', '91733A', '91734A', '91735A', '91737A', '91738A',\n",
       "       '91739A', '91740A', '91741A', '91742A', '91743A', '91744A',\n",
       "       '91745A', '91746A', '91747A', '91748A', '91749A', '91750A',\n",
       "       '91751A', '91752A', '91754A', '91755A', '91756A', '91758A',\n",
       "       '91759A', '91761A', '91762A', '91763A', '91764A', '91765A',\n",
       "       '91766A', '91767A', '91769A', '91771A', '91774A', '91775A',\n",
       "       '91776A', '91777A', '91778A', '91779A', '91780A', '91781A',\n",
       "       '91782A', '91783A', '91785A', '91786A', '91787A', '91788A',\n",
       "       '91789A', '91794A', '91795A', '91797A', '91798A', '91799A',\n",
       "       '91800A', '91802A', '91803A', '91807A', '91809A', '91810A',\n",
       "       '91811A', '91812A', '91813A', '91814A', '91815A', '91816A',\n",
       "       '91819A', '91821A', '91823A', '91824A', '91825A', '91826A',\n",
       "       '91827A', '91828A', '91829A', '91830A', '91831A', '91832A',\n",
       "       '91835A', '91836A', '91837A', '91838A', '91839A', '91843A',\n",
       "       '91845A', '91846A', '91848A', '91849A', '91852A', '91854A',\n",
       "       '91858A', '91861A', '91862A', '91864A', '91865A', '91866A',\n",
       "       '91870A', '91871A', '91872A', '91875A', '91876A', '91877A',\n",
       "       '91878A', '91880A', '91881A', '91884A', '91885A', '91893A',\n",
       "       '91894A', '91897A', '91900A', '91901A', '91903A', '91907A',\n",
       "       '91908A', '91910A', '91911A', '91913A', '91916A', '91918A',\n",
       "       '91919A', '91920A', '91921A', '91924A', '91929A', '91930A'],\n",
       "      dtype=object)"
      ]
     },
     "execution_count": 64,
     "metadata": {},
     "output_type": "execute_result"
    }
   ],
   "source": [
    "# 海鸥唯一id\n",
    "df['individual-local-identifier'].unique()"
   ]
  },
  {
   "cell_type": "code",
   "execution_count": 65,
   "metadata": {
    "execution": {
     "iopub.execute_input": "2023-08-01T14:05:50.135643Z",
     "iopub.status.busy": "2023-08-01T14:05:50.135247Z",
     "iopub.status.idle": "2023-08-01T14:05:50.170894Z",
     "shell.execute_reply": "2023-08-01T14:05:50.169667Z",
     "shell.execute_reply.started": "2023-08-01T14:05:50.135618Z"
    },
    "scrolled": true,
    "tags": []
   },
   "outputs": [
    {
     "data": {
      "text/plain": [
       "126"
      ]
     },
     "execution_count": 65,
     "metadata": {},
     "output_type": "execute_result"
    }
   ],
   "source": [
    "# 海鸥数量\n",
    "len(df['individual-local-identifier'].unique())"
   ]
  },
  {
   "cell_type": "code",
   "execution_count": 66,
   "metadata": {
    "execution": {
     "iopub.execute_input": "2023-08-01T14:05:50.172546Z",
     "iopub.status.busy": "2023-08-01T14:05:50.172046Z",
     "iopub.status.idle": "2023-08-01T14:05:51.599480Z",
     "shell.execute_reply": "2023-08-01T14:05:51.598130Z",
     "shell.execute_reply.started": "2023-08-01T14:05:50.172515Z"
    },
    "scrolled": true,
    "tags": []
   },
   "outputs": [
    {
     "data": {
      "text/plain": [
       "<Axes: xlabel='individual-local-identifier'>"
      ]
     },
     "execution_count": 66,
     "metadata": {},
     "output_type": "execute_result"
    },
    {
     "data": {
      "image/png": "[encoded data removed]",
      "text/plain": [
       "<Figure size 1600x400 with 1 Axes>"
      ]
     },
     "metadata": {},
     "output_type": "display_data"
    }
   ],
   "source": [
    "# 查看海鸥个体轨迹记录数，可以看到呈长尾分布\n",
    "df['individual-local-identifier'].value_counts().plot(kind='bar', figsize=(16,4))"
   ]
  },
  {
   "cell_type": "code",
   "execution_count": 67,
   "metadata": {
    "execution": {
     "iopub.execute_input": "2023-08-01T14:05:51.601431Z",
     "iopub.status.busy": "2023-08-01T14:05:51.600675Z",
     "iopub.status.idle": "2023-08-01T14:06:03.125004Z",
     "shell.execute_reply": "2023-08-01T14:06:03.124083Z",
     "shell.execute_reply.started": "2023-08-01T14:05:51.601403Z"
    },
    "scrolled": true,
    "tags": []
   },
   "outputs": [
    {
     "data": {
      "text/plain": [
       "TrajectoryCollection with 125 trajectories"
      ]
     },
     "execution_count": 67,
     "metadata": {},
     "output_type": "execute_result"
    }
   ],
   "source": [
    "# 创建轨迹集合，以海鸥编号为轨迹编号\n",
    "tc = mpd.TrajectoryCollection(df, traj_id_col='individual-local-identifier', t='timestamp', min_length=100, crs='EPSG:3857')    \n",
    "tc"
   ]
  },
  {
   "cell_type": "code",
   "execution_count": 68,
   "metadata": {
    "execution": {
     "iopub.execute_input": "2023-08-01T14:06:03.127042Z",
     "iopub.status.busy": "2023-08-01T14:06:03.126245Z",
     "iopub.status.idle": "2023-08-01T14:06:11.412537Z",
     "shell.execute_reply": "2023-08-01T14:06:11.411239Z",
     "shell.execute_reply.started": "2023-08-01T14:06:03.127009Z"
    },
    "scrolled": true,
    "tags": []
   },
   "outputs": [],
   "source": [
    "# 压缩轨迹\n",
    "tc = mpd.MinTimeDeltaGeneralizer(tc).generalize(tolerance=timedelta(days=1))"
   ]
  },
  {
   "cell_type": "markdown",
   "metadata": {},
   "source": [
    "**step2 个体分析**"
   ]
  },
  {
   "cell_type": "code",
   "execution_count": 69,
   "metadata": {
    "execution": {
     "iopub.execute_input": "2023-08-01T14:06:11.414318Z",
     "iopub.status.busy": "2023-08-01T14:06:11.413757Z",
     "iopub.status.idle": "2023-08-01T14:06:11.694303Z",
     "shell.execute_reply": "2023-08-01T14:06:11.693175Z",
     "shell.execute_reply.started": "2023-08-01T14:06:11.414282Z"
    },
    "scrolled": true,
    "tags": []
   },
   "outputs": [
    {
     "data": {
      "text/plain": [
       "Trajectory 91916A (2009-08-15 15:00:00 to 2015-08-27 09:00:00) | Size: 2134 | Length: 77841407.0m\n",
       "Bounds: (7.915, 20.70533, 39.51317, 61.54817)\n",
       "LINESTRING (7.915 54.18533, 9.44183 54.87233, 9.4425 54.87283, 9.41167 54.8555, 9.39583 54.88, 9.396"
      ]
     },
     "execution_count": 69,
     "metadata": {},
     "output_type": "execute_result"
    }
   ],
   "source": [
    "# 挑选个体编号91916A的海鸥轨迹，该海鸥轨迹记录数最多\n",
    "filtered = tc.filter('individual-local-identifier', '91916A')\n",
    "my_traj = filtered.trajectories[0].copy()\n",
    "my_traj"
   ]
  },
  {
   "cell_type": "code",
   "execution_count": 70,
   "metadata": {
    "execution": {
     "iopub.execute_input": "2023-08-01T14:06:11.697083Z",
     "iopub.status.busy": "2023-08-01T14:06:11.696055Z",
     "iopub.status.idle": "2023-08-01T14:06:12.451379Z",
     "shell.execute_reply": "2023-08-01T14:06:12.449600Z",
     "shell.execute_reply.started": "2023-08-01T14:06:11.697031Z"
    },
    "scrolled": true,
    "tags": []
   },
   "outputs": [
    {
     "data": {
      "text/plain": [
       "<Axes: >"
      ]
     },
     "execution_count": 70,
     "metadata": {},
     "output_type": "execute_result"
    },
    {
     "data": {
      "image/png": "[encoded data removed]",
      "text/plain": [
       "<Figure size 640x480 with 1 Axes>"
      ]
     },
     "metadata": {},
     "output_type": "display_data"
    }
   ],
   "source": [
    "# 展示轨迹信息\n",
    "# my_traj.hvplot(title='Movement', line_width=2) \n",
    "my_traj.plot()"
   ]
  },
  {
   "cell_type": "markdown",
   "metadata": {
    "execution": {
     "iopub.execute_input": "2023-07-15T12:54:08.662253Z",
     "iopub.status.busy": "2023-07-15T12:54:08.661425Z",
     "iopub.status.idle": "2023-07-15T12:54:08.667453Z",
     "shell.execute_reply": "2023-07-15T12:54:08.666458Z",
     "shell.execute_reply.started": "2023-07-15T12:54:08.662218Z"
    }
   },
   "source": [
    "由上图可以看到该海鸥一直呈现季节性来回移动。所以按照年份，将该海鸥的轨迹信息进行拆分。"
   ]
  },
  {
   "cell_type": "code",
   "execution_count": 71,
   "metadata": {
    "execution": {
     "iopub.execute_input": "2023-08-01T14:06:12.452526Z",
     "iopub.status.busy": "2023-08-01T14:06:12.452262Z",
     "iopub.status.idle": "2023-08-01T14:06:13.245468Z",
     "shell.execute_reply": "2023-08-01T14:06:13.244218Z",
     "shell.execute_reply.started": "2023-08-01T14:06:12.452503Z"
    },
    "scrolled": true,
    "tags": []
   },
   "outputs": [
    {
     "data": {
      "text/html": [
       "<div>\n",
       "<style scoped>\n",
       "    .dataframe tbody tr th:only-of-type {\n",
       "        vertical-align: middle;\n",
       "    }\n",
       "\n",
       "    .dataframe tbody tr th {\n",
       "        vertical-align: top;\n",
       "    }\n",
       "\n",
       "    .dataframe thead th {\n",
       "        text-align: right;\n",
       "    }\n",
       "</style>\n",
       "<table border=\"1\" class=\"dataframe\">\n",
       "  <thead>\n",
       "    <tr style=\"text-align: right;\">\n",
       "      <th></th>\n",
       "      <th>traj_id</th>\n",
       "      <th>start_t</th>\n",
       "      <th>end_t</th>\n",
       "      <th>geometry</th>\n",
       "      <th>length</th>\n",
       "      <th>direction</th>\n",
       "    </tr>\n",
       "  </thead>\n",
       "  <tbody>\n",
       "    <tr>\n",
       "      <th>0</th>\n",
       "      <td>91916A_2009-12-31 00:00:00</td>\n",
       "      <td>2009-08-15 15:00:00</td>\n",
       "      <td>2009-12-31 19:00:00</td>\n",
       "      <td>LINESTRING (7.91500 54.18533, 9.44183 54.87233...</td>\n",
       "      <td>5.352375e+06</td>\n",
       "      <td>131.939002</td>\n",
       "    </tr>\n",
       "    <tr>\n",
       "      <th>1</th>\n",
       "      <td>91916A_2010-12-31 00:00:00</td>\n",
       "      <td>2010-01-01 19:00:00</td>\n",
       "      <td>2010-12-31 07:00:00</td>\n",
       "      <td>LINESTRING (39.18417 21.17583, 39.18833 21.170...</td>\n",
       "      <td>1.232428e+07</td>\n",
       "      <td>281.047091</td>\n",
       "    </tr>\n",
       "    <tr>\n",
       "      <th>2</th>\n",
       "      <td>91916A_2011-12-31 00:00:00</td>\n",
       "      <td>2011-01-01 07:00:00</td>\n",
       "      <td>2011-12-31 04:00:00</td>\n",
       "      <td>LINESTRING (39.17000 21.18017, 39.16883 21.156...</td>\n",
       "      <td>1.441793e+07</td>\n",
       "      <td>189.238229</td>\n",
       "    </tr>\n",
       "    <tr>\n",
       "      <th>3</th>\n",
       "      <td>91916A_2012-12-31 00:00:00</td>\n",
       "      <td>2012-01-01 04:00:00</td>\n",
       "      <td>2012-12-31 19:00:00</td>\n",
       "      <td>LINESTRING (39.16933 21.16667, 39.17567 21.142...</td>\n",
       "      <td>1.324811e+07</td>\n",
       "      <td>62.132640</td>\n",
       "    </tr>\n",
       "    <tr>\n",
       "      <th>4</th>\n",
       "      <td>91916A_2013-12-31 00:00:00</td>\n",
       "      <td>2013-01-01 19:00:00</td>\n",
       "      <td>2013-12-31 13:00:00</td>\n",
       "      <td>LINESTRING (39.18167 21.17333, 39.18100 21.173...</td>\n",
       "      <td>1.293261e+07</td>\n",
       "      <td>273.165851</td>\n",
       "    </tr>\n",
       "    <tr>\n",
       "      <th>5</th>\n",
       "      <td>91916A_2014-12-31 00:00:00</td>\n",
       "      <td>2014-01-01 13:00:00</td>\n",
       "      <td>2014-12-31 19:00:00</td>\n",
       "      <td>LINESTRING (39.17083 21.15400, 39.17100 21.157...</td>\n",
       "      <td>1.300973e+07</td>\n",
       "      <td>33.742967</td>\n",
       "    </tr>\n",
       "    <tr>\n",
       "      <th>6</th>\n",
       "      <td>91916A_2015-12-31 00:00:00</td>\n",
       "      <td>2015-01-01 19:00:00</td>\n",
       "      <td>2015-08-27 09:00:00</td>\n",
       "      <td>LINESTRING (39.18167 21.16967, 39.18233 21.169...</td>\n",
       "      <td>6.551740e+06</td>\n",
       "      <td>343.887905</td>\n",
       "    </tr>\n",
       "  </tbody>\n",
       "</table>\n",
       "</div>"
      ],
      "text/plain": [
       "                      traj_id             start_t               end_t  \\\n",
       "0  91916A_2009-12-31 00:00:00 2009-08-15 15:00:00 2009-12-31 19:00:00   \n",
       "1  91916A_2010-12-31 00:00:00 2010-01-01 19:00:00 2010-12-31 07:00:00   \n",
       "2  91916A_2011-12-31 00:00:00 2011-01-01 07:00:00 2011-12-31 04:00:00   \n",
       "3  91916A_2012-12-31 00:00:00 2012-01-01 04:00:00 2012-12-31 19:00:00   \n",
       "4  91916A_2013-12-31 00:00:00 2013-01-01 19:00:00 2013-12-31 13:00:00   \n",
       "5  91916A_2014-12-31 00:00:00 2014-01-01 13:00:00 2014-12-31 19:00:00   \n",
       "6  91916A_2015-12-31 00:00:00 2015-01-01 19:00:00 2015-08-27 09:00:00   \n",
       "\n",
       "                                            geometry        length   direction  \n",
       "0  LINESTRING (7.91500 54.18533, 9.44183 54.87233...  5.352375e+06  131.939002  \n",
       "1  LINESTRING (39.18417 21.17583, 39.18833 21.170...  1.232428e+07  281.047091  \n",
       "2  LINESTRING (39.17000 21.18017, 39.16883 21.156...  1.441793e+07  189.238229  \n",
       "3  LINESTRING (39.16933 21.16667, 39.17567 21.142...  1.324811e+07   62.132640  \n",
       "4  LINESTRING (39.18167 21.17333, 39.18100 21.173...  1.293261e+07  273.165851  \n",
       "5  LINESTRING (39.17083 21.15400, 39.17100 21.157...  1.300973e+07   33.742967  \n",
       "6  LINESTRING (39.18167 21.16967, 39.18233 21.169...  6.551740e+06  343.887905  "
      ]
     },
     "execution_count": 71,
     "metadata": {},
     "output_type": "execute_result"
    }
   ],
   "source": [
    "trips_by_year = mpd.TemporalSplitter(filtered).split(mode='year')\n",
    "trips_by_year.to_traj_gdf()"
   ]
  },
  {
   "cell_type": "code",
   "execution_count": 72,
   "metadata": {
    "execution": {
     "iopub.execute_input": "2023-08-01T14:06:13.247966Z",
     "iopub.status.busy": "2023-08-01T14:06:13.247111Z",
     "iopub.status.idle": "2023-08-01T14:06:14.113200Z",
     "shell.execute_reply": "2023-08-01T14:06:14.111967Z",
     "shell.execute_reply.started": "2023-08-01T14:06:13.247899Z"
    },
    "scrolled": true,
    "tags": []
   },
   "outputs": [
    {
     "data": {
      "image/png": "[encoded data removed]",
      "text/plain": [
       "<Figure size 640x480 with 1 Axes>"
      ]
     },
     "metadata": {},
     "output_type": "display_data"
    }
   ],
   "source": [
    "# 按照年份显示轨迹\n",
    "from matplotlib.cm import tab20\n",
    "ax = None\n",
    "for index,tmp in enumerate(trips_by_year):\n",
    "    if ax is None:\n",
    "        ax = tmp.plot(color=tab20(index))\n",
    "    else:\n",
    "        ax= tmp.plot(ax=ax,color=tab20(index))"
   ]
  },
  {
   "cell_type": "markdown",
   "metadata": {
    "execution": {
     "iopub.execute_input": "2023-07-15T14:17:20.754852Z",
     "iopub.status.busy": "2023-07-15T14:17:20.754078Z",
     "iopub.status.idle": "2023-07-15T14:17:20.760359Z",
     "shell.execute_reply": "2023-07-15T14:17:20.759272Z",
     "shell.execute_reply.started": "2023-07-15T14:17:20.754821Z"
    }
   },
   "source": [
    "我们可以单独提取某一年的数据进行可视化，如下展示某一年速度："
   ]
  },
  {
   "cell_type": "code",
   "execution_count": 73,
   "metadata": {
    "execution": {
     "iopub.execute_input": "2023-08-01T14:06:14.115466Z",
     "iopub.status.busy": "2023-08-01T14:06:14.115118Z",
     "iopub.status.idle": "2023-08-01T14:06:14.576886Z",
     "shell.execute_reply": "2023-08-01T14:06:14.575140Z",
     "shell.execute_reply.started": "2023-08-01T14:06:14.115439Z"
    },
    "scrolled": true,
    "tags": []
   },
   "outputs": [
    {
     "data": {
      "text/plain": [
       "<Axes: >"
      ]
     },
     "execution_count": 73,
     "metadata": {},
     "output_type": "execute_result"
    },
    {
     "data": {
      "image/png": "[encoded data removed]",
      "text/plain": [
       "<Figure size 640x480 with 2 Axes>"
      ]
     },
     "metadata": {},
     "output_type": "display_data"
    }
   ],
   "source": [
    "one_year = trips_by_year.get_trajectory('91916A_2010-12-31 00:00:00')\n",
    "one_year.add_speed(overwrite=True,units=(\"km\", \"h\"))\n",
    "# 可视化当年的轨迹\n",
    "one_year.plot(column='speed', cmap='tab20', legend=True)"
   ]
  },
  {
   "cell_type": "markdown",
   "metadata": {
    "execution": {
     "iopub.execute_input": "2023-07-16T03:26:48.064804Z",
     "iopub.status.busy": "2023-07-16T03:26:48.064138Z",
     "iopub.status.idle": "2023-07-16T03:26:48.070173Z",
     "shell.execute_reply": "2023-07-16T03:26:48.069093Z",
     "shell.execute_reply.started": "2023-07-16T03:26:48.064772Z"
    }
   },
   "source": [
    "当然也可以可是轨迹中某一天的结果，如下所示："
   ]
  },
  {
   "cell_type": "code",
   "execution_count": 74,
   "metadata": {
    "execution": {
     "iopub.execute_input": "2023-08-01T14:06:14.579359Z",
     "iopub.status.busy": "2023-08-01T14:06:14.578515Z",
     "iopub.status.idle": "2023-08-01T14:06:15.004939Z",
     "shell.execute_reply": "2023-08-01T14:06:15.003341Z",
     "shell.execute_reply.started": "2023-08-01T14:06:14.579329Z"
    },
    "scrolled": true,
    "tags": []
   },
   "outputs": [
    {
     "data": {
      "text/plain": [
       "<Axes: >"
      ]
     },
     "execution_count": 74,
     "metadata": {},
     "output_type": "execute_result"
    },
    {
     "data": {
      "image/png": "[encoded data removed]",
      "text/plain": [
       "<Figure size 500x500 with 1 Axes>"
      ]
     },
     "metadata": {},
     "output_type": "display_data"
    }
   ],
   "source": [
    "\n",
    "fig, ax = plt.subplots(figsize=(5, 5))\n",
    "one_year.plot(ax=ax, linewidth=2.0, color='black')\n",
    "GeoDataFrame([one_year.get_row_at(datetime(2010,9,1))]).plot(ax=ax, color='red',zorder=2)\n",
    "GeoDataFrame([one_year.get_row_at(datetime(2010,10,1))]).plot(ax=ax, color='red',zorder=2)\n",
    "GeoDataFrame([one_year.get_row_at(datetime(2010,11,1))]).plot(ax=ax, color='red',zorder=2)"
   ]
  },
  {
   "cell_type": "markdown",
   "metadata": {
    "execution": {
     "iopub.execute_input": "2023-07-16T05:10:15.519178Z",
     "iopub.status.busy": "2023-07-16T05:10:15.518501Z",
     "iopub.status.idle": "2023-07-16T05:10:15.524743Z",
     "shell.execute_reply": "2023-07-16T05:10:15.523622Z",
     "shell.execute_reply.started": "2023-07-16T05:10:15.519144Z"
    }
   },
   "source": [
    "此外也可以选择一个区域，比如栖息地。以确定某一轨迹到达该区域的次数及进出时间。"
   ]
  },
  {
   "cell_type": "code",
   "execution_count": 75,
   "metadata": {
    "execution": {
     "iopub.execute_input": "2023-08-01T14:06:15.007398Z",
     "iopub.status.busy": "2023-08-01T14:06:15.006678Z",
     "iopub.status.idle": "2023-08-01T14:06:15.799367Z",
     "shell.execute_reply": "2023-08-01T14:06:15.798547Z",
     "shell.execute_reply.started": "2023-08-01T14:06:15.007368Z"
    },
    "scrolled": true,
    "tags": []
   },
   "outputs": [
    {
     "name": "stdout",
     "output_type": "stream",
     "text": [
      "Found {6} arrivals\r\n",
      "Individual 91916A arrived at 2009-12-23 02:58:36.946571 left at 2010-04-17 14:31:42.170632\r\n",
      "Individual 91916A arrived at 2010-10-30 20:55:36.697832 left at 2011-04-03 11:40:12.803103\r\n",
      "Individual 91916A arrived at 2011-11-09 20:25:19.550486 left at 2012-04-04 09:12:15.852988\r\n",
      "Individual 91916A arrived at 2012-10-14 11:25:28.063070 left at 2013-03-30 04:22:18.125679\r\n",
      "Individual 91916A arrived at 2013-10-08 04:17:33.524488 left at 2014-03-29 18:26:54.311106\r\n",
      "Individual 91916A arrived at 2014-10-28 19:05:32.941608 left at 2015-04-07 22:59:45.284499\r\n"
     ]
    }
   ],
   "source": [
    "area_of_interest = Polygon([(30, 25), (50, 25), (50, 15), (30, 15), (30, 25)])\n",
    "plotted_area_of_interest = GeoDataFrame(pd.DataFrame([{'geometry': area_of_interest, 'id': 1}]), crs='EPSG:3857')\n",
    "# 输入的是单个轨迹得到的单个轨迹位于该区域的片段\n",
    "arrivals = [traj for traj in my_traj.clip(area_of_interest)]\n",
    "# 位于该区域的轨迹片段数\n",
    "print(\"Found {} arrivals\".format({len(arrivals)}))\n",
    "# 提取每条轨迹到达该区域的时间\n",
    "for traj in arrivals:\n",
    "    name = traj.df['individual-local-identifier'].iloc[0]\n",
    "    start_time = traj.get_start_time()\n",
    "    end_time = traj.get_end_time()\n",
    "    print(\"Individual {} arrived at {} left at {}\".format(name, start_time, end_time))"
   ]
  },
  {
   "cell_type": "markdown",
   "metadata": {
    "execution": {
     "iopub.execute_input": "2023-07-16T05:02:41.948417Z",
     "iopub.status.busy": "2023-07-16T05:02:41.947703Z",
     "iopub.status.idle": "2023-07-16T05:02:41.954281Z",
     "shell.execute_reply": "2023-07-16T05:02:41.953464Z",
     "shell.execute_reply.started": "2023-07-16T05:02:41.948387Z"
    }
   },
   "source": [
    "**step3 群体分析**\n",
    "\n",
    "step2中对单个轨迹Trajectory类进行分析，同样的函数也可以应用到轨迹集合TrajectoryCollection类中以对多条轨迹进行分析。"
   ]
  },
  {
   "cell_type": "code",
   "execution_count": 76,
   "metadata": {
    "execution": {
     "iopub.execute_input": "2023-08-01T14:06:15.800995Z",
     "iopub.status.busy": "2023-08-01T14:06:15.800438Z",
     "iopub.status.idle": "2023-08-01T14:06:20.738601Z",
     "shell.execute_reply": "2023-08-01T14:06:20.737421Z",
     "shell.execute_reply.started": "2023-08-01T14:06:15.800964Z"
    },
    "scrolled": true,
    "tags": []
   },
   "outputs": [
    {
     "name": "stdout",
     "output_type": "stream",
     "text": [
      "Found 16 arrivals\r\n"
     ]
    }
   ],
   "source": [
    "year_of_interest = 2010\n",
    "# 输入的是多个轨迹得到的位于该区域的单个轨迹\n",
    "trajs_in_aoi = tc.clip(area_of_interest)\n",
    "# 提取2010到达该区域的轨迹\n",
    "relevant = [ traj for traj in trajs_in_aoi if traj.get_start_time().year <= year_of_interest \n",
    "            and traj.get_end_time().year >= year_of_interest]\n",
    "# 查看有多少只海鸥，也就是多少条单个轨迹到达该区域\n",
    "print(\"Found {} arrivals\".format(len(relevant)))"
   ]
  },
  {
   "cell_type": "code",
   "execution_count": 77,
   "metadata": {
    "execution": {
     "iopub.execute_input": "2023-08-01T14:06:20.740861Z",
     "iopub.status.busy": "2023-08-01T14:06:20.739969Z",
     "iopub.status.idle": "2023-08-01T14:06:20.749144Z",
     "shell.execute_reply": "2023-08-01T14:06:20.747925Z",
     "shell.execute_reply.started": "2023-08-01T14:06:20.740828Z"
    },
    "scrolled": true,
    "tags": []
   },
   "outputs": [
    {
     "name": "stdout",
     "output_type": "stream",
     "text": [
      "Individual '91732A' arrived at 2010-04-10 (duration: 5 days, 21:27:11.670985)\r\n",
      "Individual '91737A' arrived at 2009-12-08 (duration: 140 days, 11:11:29.473206)\r\n",
      "Individual '91761A' arrived at 2010-04-11 (duration: 12 days, 6:10:03.857850)\r\n",
      "Individual '91761A' arrived at 2010-10-04 (duration: 6 days, 10:42:00.340093)\r\n",
      "Individual '91762A' arrived at 2010-04-19 (duration: 42 days, 1:28:22.699066)\r\n",
      "Individual '91771A' arrived at 2009-12-23 (duration: 66 days, 8:05:31.053782)\r\n",
      "Individual '91789A' arrived at 2009-11-10 (duration: 550 days, 20:39:18.769409)\r\n",
      "Individual '91824A' arrived at 2010-05-06 (duration: 12:53:53.409236)\r\n",
      "Individual '91832A' arrived at 2010-04-21 (duration: 3 days, 5:48:46.276706)\r\n",
      "Individual '91832A' arrived at 2010-09-23 (duration: 1 day, 1:40:25.175880)\r\n",
      "Individual '91837A' arrived at 2010-05-04 (duration: 1 day, 18:38:46.170554)\r\n",
      "Individual '91846A' arrived at 2010-05-15 (duration: 10 days, 2:50:28.505732)\r\n",
      "Individual '91862A' arrived at 2010-01-06 (duration: 248 days, 6:10:16.962620)\r\n",
      "Individual '91910A' arrived at 2010-09-28 (duration: 2 days, 20:34:31.117736)\r\n",
      "Individual '91916A' arrived at 2009-12-23 (duration: 115 days, 11:33:05.224061)\r\n",
      "Individual '91916A' arrived at 2010-10-30 (duration: 154 days, 14:44:36.105271)\r\n"
     ]
    }
   ],
   "source": [
    "# 查看哪些海鸥到达该区域以及停留时间\n",
    "for traj in relevant:\n",
    "    print(\"Individual '{}' arrived at {} (duration: {})\".format(\n",
    "        traj.df['individual-local-identifier'].iloc[0], traj.get_start_time().date(), \n",
    "        traj.get_end_time()-traj.get_start_time()))"
   ]
  },
  {
   "cell_type": "markdown",
   "metadata": {},
   "source": [
    "对于'91761A'这只海鸥，可以看到进入该区域两次。我们可以展示这只海鸥在当年的飞行轨迹并添加背景地图以更好展示这只海鸥的行进情况。"
   ]
  },
  {
   "cell_type": "code",
   "execution_count": 78,
   "metadata": {
    "execution": {
     "iopub.execute_input": "2023-08-01T14:06:20.750780Z",
     "iopub.status.busy": "2023-08-01T14:06:20.750386Z",
     "iopub.status.idle": "2023-08-01T14:06:21.066409Z",
     "shell.execute_reply": "2023-08-01T14:06:21.065592Z",
     "shell.execute_reply.started": "2023-08-01T14:06:20.750752Z"
    },
    "scrolled": true,
    "tags": []
   },
   "outputs": [
    {
     "data": {
      "text/plain": [
       "<Axes: >"
      ]
     },
     "execution_count": 78,
     "metadata": {},
     "output_type": "execute_result"
    },
    {
     "data": {
      "image/png": "[encoded data removed]",
      "text/plain": [
       "<Figure size 640x480 with 1 Axes>"
      ]
     },
     "metadata": {},
     "output_type": "display_data"
    }
   ],
   "source": [
    "my_traj = tc.get_trajectory('91761A')\n",
    "# 提取当年飞行结果\n",
    "my_traj = my_traj.get_segment_between(datetime(year_of_interest,1,1), datetime(year_of_interest,12,31))\n",
    "# 压缩轨迹,tolerance越大压缩比例越大\n",
    "my_traj = mpd.DouglasPeuckerGeneralizer(my_traj).generalize(tolerance=2.0)\n",
    "my_traj.plot()\n"
   ]
  },
  {
   "cell_type": "markdown",
   "metadata": {},
   "source": [
    "通过如下代码绘制该海鸥的飞行轨迹，可以看到其在去途和归途都穿过了该地区，其中添加的背景地图具体使用方法见[GeoPandas叠加背景地图](https://www.cnblogs.com/luohenyueji/p/17485432.html#5-%E8%83%8C%E6%99%AF%E5%9C%B0%E5%9B%BE%E5%8F%A0%E5%8A%A0)。"
   ]
  },
  {
   "cell_type": "code",
   "execution_count": 79,
   "metadata": {
    "execution": {
     "iopub.execute_input": "2023-08-01T14:06:21.068360Z",
     "iopub.status.busy": "2023-08-01T14:06:21.067895Z",
     "iopub.status.idle": "2023-08-01T14:48:56.001930Z",
     "shell.execute_reply": "2023-08-01T14:48:56.000876Z",
     "shell.execute_reply.started": "2023-08-01T14:06:21.068332Z"
    },
    "scrolled": true,
    "tags": []
   },
   "outputs": [
    {
     "data": {
      "image/png": "[encoded data removed]",
      "text/plain": [
       "<Figure size 300x500 with 1 Axes>"
      ]
     },
     "metadata": {},
     "output_type": "display_data"
    }
   ],
   "source": [
    "import contextily as cx\n",
    "fig, ax = plt.subplots(figsize=(3, 5))\n",
    "# 添加飞行轨迹\n",
    "ax = my_traj.plot(ax=ax,color='blue', capstyle='round')\n",
    "# 添加停留区域\n",
    "ax = gpd.GeoSeries(area_of_interest).plot(ax=ax, color='lightgray')\n",
    "# 绘制1月到11月的位置，12月该鸟飞回原地\n",
    "for i in range(1,12):\n",
    "    # 红点表示上半年，绿点表示下半年\n",
    "    color = 'red' if i<6 else 'green'\n",
    "    GeoDataFrame([my_traj.get_row_at(datetime(year_of_interest,i,1))]).plot(ax=ax, color=color,zorder=2)\n",
    "\n",
    "# 添加背景地图,zoom越大越精细，这里使用自适应zoom。\n",
    "cx.add_basemap(ax = ax , source=cx.providers.Stamen.TonerLite,crs=my_traj.df.crs, zoom='auto',attribution=\"\")\n",
    "# 保存图片\n",
    "fig.savefig(\"res.jpg\",dpi=300)\n"
   ]
  },
  {
   "cell_type": "markdown",
   "metadata": {
    "execution": {
     "iopub.execute_input": "2023-07-11T13:44:35.583213Z",
     "iopub.status.busy": "2023-07-11T13:44:35.582672Z",
     "iopub.status.idle": "2023-07-11T13:44:35.588705Z",
     "shell.execute_reply": "2023-07-11T13:44:35.587736Z",
     "shell.execute_reply.started": "2023-07-11T13:44:35.583184Z"
    }
   },
   "source": [
    "# 3 参考\n",
    "\n",
    "+ [movingpandas](https://github.com/movingpandas/movingpandas)\n",
    "+ [movingpandas-examples](https://github.com/movingpandas/movingpandas-examples)\n",
    "+ [movingpandas-examples-data](https://github.com/movingpandas/movingpandas-examples/tree/main/data)\n",
    "+ [shapely-objectdistance](https://shapely.readthedocs.io/en/stable/manual.html#object.distance)\n",
    "+ [豪斯多夫距离](https://www.cnblogs.com/yhlx125/p/5478147.html)\n",
    "+ [GeoPandas叠加背景地图](https://www.cnblogs.com/luohenyueji/p/17485432.html#5-%E8%83%8C%E6%99%AF%E5%9C%B0%E5%9B%BE%E5%8F%A0%E5%8A%A0)"
   ]
  }
 ],
 "metadata": {
  "kernelspec": {
   "display_name": "Python 3",
   "language": "python",
   "name": "py35-paddle1.2.0"
  },
  "language_info": {
   "codemirror_mode": {
    "name": "ipython",
    "version": 3
   },
   "file_extension": ".py",
   "mimetype": "text/x-python",
   "name": "python",
   "nbconvert_exporter": "python",
   "pygments_lexer": "ipython3",
   "version": "3.10.10"
  }
 },
 "nbformat": 4,
 "nbformat_minor": 4
}
